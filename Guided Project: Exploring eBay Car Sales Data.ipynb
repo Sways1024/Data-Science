{
 "cells": [
  {
   "cell_type": "markdown",
   "source": [
    "# Analyzing Used Car Listings on eBay Kleinanzeigen"
   ],
   "metadata": {
    "collapsed": false
   },
   "id": "63865349f13928aa"
  },
  {
   "cell_type": "markdown",
   "source": [
    "## Introduction"
   ],
   "metadata": {
    "collapsed": false
   },
   "id": "4fe7441b0a3dc1a8"
  },
  {
   "cell_type": "markdown",
   "source": [
    "In this project, we'll work with a dataset of used cars from eBay Kleinanzeigen, a classifieds section of the German eBay website.\n",
    "\n",
    "The dataset was originally scraped and uploaded to Kaggle. The less clean version of the dataset we will be working with is a sample of 50,000 data points. The original dataset isn't available on Kaggle anymore, but you can find it [here](https://data.world/data-society/used-cars-data).\n",
    "\n",
    "The data dictionary provided with data is as follows:\n",
    "\n",
    "- `dateCrawled` - When this ad was first crawled. All field-values are taken from this date.\n",
    "- `name` - Name of the car.\n",
    "- `seller` - Whether the seller is private or a dealer.\n",
    "- `offerType` - The type of listing\n",
    "- `price` - The price on the ad to sell the car.\n",
    "- `abtest` - Whether the listing is included in an A/B test.\n",
    "- `vehicleType` - The vehicle Type.\n",
    "- `yearOfRegistration` - The year in which the car was first registered.\n",
    "- `gearbox` - The transmission type.\n",
    "- `powerPS` - The power of the car in PS.\n",
    "- `model` - The car model name.\n",
    "- `kilometer` - How many kilometers the car has driven.\n",
    "- `monthOfRegistration` - The month in which the car was first registered.\n",
    "- `fuelType` - What type of fuel the car uses.\n",
    "- `brand` - The brand of the car.\n",
    "- `notRepairedDamage` - If the car has damage which is not yet repaired.\n",
    "- `dateCreated` - The date on which the eBay listing was created.\n",
    "- `nrOfPictures` - The number of pictures in the ad.\n",
    "- `postalCode` - The postal code for the location of the vehicle.   \n",
    "- `lastSeenOnline` - When the crawler saw this ad last online.\n",
    "\n",
    "The aim of this project is to clean the data and analyze the included used car listings."
   ],
   "metadata": {
    "collapsed": false
   },
   "id": "b929bdb66b4ed3de"
  },
  {
   "cell_type": "code",
   "outputs": [],
   "source": [
    "import pandas as pd\n",
    "import numpy as np"
   ],
   "metadata": {
    "collapsed": false,
    "ExecuteTime": {
     "end_time": "2024-03-25T22:17:41.944931Z",
     "start_time": "2024-03-25T22:17:41.388220Z"
    }
   },
   "id": "b93d54ead9572f2",
   "execution_count": 1
  },
  {
   "cell_type": "code",
   "outputs": [
    {
     "name": "stdout",
     "output_type": "stream",
     "text": [
      "<class 'pandas.core.frame.DataFrame'>\n",
      "RangeIndex: 50000 entries, 0 to 49999\n",
      "Data columns (total 20 columns):\n",
      " #   Column               Non-Null Count  Dtype \n",
      "---  ------               --------------  ----- \n",
      " 0   dateCrawled          50000 non-null  object\n",
      " 1   name                 50000 non-null  object\n",
      " 2   seller               50000 non-null  object\n",
      " 3   offerType            50000 non-null  object\n",
      " 4   price                50000 non-null  object\n",
      " 5   abtest               50000 non-null  object\n",
      " 6   vehicleType          44905 non-null  object\n",
      " 7   yearOfRegistration   50000 non-null  int64 \n",
      " 8   gearbox              47320 non-null  object\n",
      " 9   powerPS              50000 non-null  int64 \n",
      " 10  model                47242 non-null  object\n",
      " 11  odometer             50000 non-null  object\n",
      " 12  monthOfRegistration  50000 non-null  int64 \n",
      " 13  fuelType             45518 non-null  object\n",
      " 14  brand                50000 non-null  object\n",
      " 15  notRepairedDamage    40171 non-null  object\n",
      " 16  dateCreated          50000 non-null  object\n",
      " 17  nrOfPictures         50000 non-null  int64 \n",
      " 18  postalCode           50000 non-null  int64 \n",
      " 19  lastSeen             50000 non-null  object\n",
      "dtypes: int64(5), object(15)\n",
      "memory usage: 7.6+ MB\n"
     ]
    },
    {
     "data": {
      "text/plain": "           dateCrawled                                               name  \\\n0  2016-03-26 17:47:46                   Peugeot_807_160_NAVTECH_ON_BOARD   \n1  2016-04-04 13:38:56         BMW_740i_4_4_Liter_HAMANN_UMBAU_Mega_Optik   \n2  2016-03-26 18:57:24                         Volkswagen_Golf_1.6_United   \n3  2016-03-12 16:58:10  Smart_smart_fortwo_coupe_softouch/F1/Klima/Pan...   \n4  2016-04-01 14:38:50  Ford_Focus_1_6_Benzin_TÜV_neu_ist_sehr_gepfleg...   \n\n   seller offerType   price   abtest vehicleType  yearOfRegistration  \\\n0  privat   Angebot  $5,000  control         bus                2004   \n1  privat   Angebot  $8,500  control   limousine                1997   \n2  privat   Angebot  $8,990     test   limousine                2009   \n3  privat   Angebot  $4,350  control  kleinwagen                2007   \n4  privat   Angebot  $1,350     test       kombi                2003   \n\n     gearbox  powerPS   model   odometer  monthOfRegistration fuelType  \\\n0    manuell      158  andere  150,000km                    3      lpg   \n1  automatik      286     7er  150,000km                    6   benzin   \n2    manuell      102    golf   70,000km                    7   benzin   \n3  automatik       71  fortwo   70,000km                    6   benzin   \n4    manuell        0   focus  150,000km                    7   benzin   \n\n        brand notRepairedDamage          dateCreated  nrOfPictures  \\\n0     peugeot              nein  2016-03-26 00:00:00             0   \n1         bmw              nein  2016-04-04 00:00:00             0   \n2  volkswagen              nein  2016-03-26 00:00:00             0   \n3       smart              nein  2016-03-12 00:00:00             0   \n4        ford              nein  2016-04-01 00:00:00             0   \n\n   postalCode             lastSeen  \n0       79588  2016-04-06 06:45:54  \n1       71034  2016-04-06 14:45:08  \n2       35394  2016-04-06 20:15:37  \n3       33729  2016-03-15 03:16:28  \n4       39218  2016-04-01 14:38:50  ",
      "text/html": "<div>\n<style scoped>\n    .dataframe tbody tr th:only-of-type {\n        vertical-align: middle;\n    }\n\n    .dataframe tbody tr th {\n        vertical-align: top;\n    }\n\n    .dataframe thead th {\n        text-align: right;\n    }\n</style>\n<table border=\"1\" class=\"dataframe\">\n  <thead>\n    <tr style=\"text-align: right;\">\n      <th></th>\n      <th>dateCrawled</th>\n      <th>name</th>\n      <th>seller</th>\n      <th>offerType</th>\n      <th>price</th>\n      <th>abtest</th>\n      <th>vehicleType</th>\n      <th>yearOfRegistration</th>\n      <th>gearbox</th>\n      <th>powerPS</th>\n      <th>model</th>\n      <th>odometer</th>\n      <th>monthOfRegistration</th>\n      <th>fuelType</th>\n      <th>brand</th>\n      <th>notRepairedDamage</th>\n      <th>dateCreated</th>\n      <th>nrOfPictures</th>\n      <th>postalCode</th>\n      <th>lastSeen</th>\n    </tr>\n  </thead>\n  <tbody>\n    <tr>\n      <th>0</th>\n      <td>2016-03-26 17:47:46</td>\n      <td>Peugeot_807_160_NAVTECH_ON_BOARD</td>\n      <td>privat</td>\n      <td>Angebot</td>\n      <td>$5,000</td>\n      <td>control</td>\n      <td>bus</td>\n      <td>2004</td>\n      <td>manuell</td>\n      <td>158</td>\n      <td>andere</td>\n      <td>150,000km</td>\n      <td>3</td>\n      <td>lpg</td>\n      <td>peugeot</td>\n      <td>nein</td>\n      <td>2016-03-26 00:00:00</td>\n      <td>0</td>\n      <td>79588</td>\n      <td>2016-04-06 06:45:54</td>\n    </tr>\n    <tr>\n      <th>1</th>\n      <td>2016-04-04 13:38:56</td>\n      <td>BMW_740i_4_4_Liter_HAMANN_UMBAU_Mega_Optik</td>\n      <td>privat</td>\n      <td>Angebot</td>\n      <td>$8,500</td>\n      <td>control</td>\n      <td>limousine</td>\n      <td>1997</td>\n      <td>automatik</td>\n      <td>286</td>\n      <td>7er</td>\n      <td>150,000km</td>\n      <td>6</td>\n      <td>benzin</td>\n      <td>bmw</td>\n      <td>nein</td>\n      <td>2016-04-04 00:00:00</td>\n      <td>0</td>\n      <td>71034</td>\n      <td>2016-04-06 14:45:08</td>\n    </tr>\n    <tr>\n      <th>2</th>\n      <td>2016-03-26 18:57:24</td>\n      <td>Volkswagen_Golf_1.6_United</td>\n      <td>privat</td>\n      <td>Angebot</td>\n      <td>$8,990</td>\n      <td>test</td>\n      <td>limousine</td>\n      <td>2009</td>\n      <td>manuell</td>\n      <td>102</td>\n      <td>golf</td>\n      <td>70,000km</td>\n      <td>7</td>\n      <td>benzin</td>\n      <td>volkswagen</td>\n      <td>nein</td>\n      <td>2016-03-26 00:00:00</td>\n      <td>0</td>\n      <td>35394</td>\n      <td>2016-04-06 20:15:37</td>\n    </tr>\n    <tr>\n      <th>3</th>\n      <td>2016-03-12 16:58:10</td>\n      <td>Smart_smart_fortwo_coupe_softouch/F1/Klima/Pan...</td>\n      <td>privat</td>\n      <td>Angebot</td>\n      <td>$4,350</td>\n      <td>control</td>\n      <td>kleinwagen</td>\n      <td>2007</td>\n      <td>automatik</td>\n      <td>71</td>\n      <td>fortwo</td>\n      <td>70,000km</td>\n      <td>6</td>\n      <td>benzin</td>\n      <td>smart</td>\n      <td>nein</td>\n      <td>2016-03-12 00:00:00</td>\n      <td>0</td>\n      <td>33729</td>\n      <td>2016-03-15 03:16:28</td>\n    </tr>\n    <tr>\n      <th>4</th>\n      <td>2016-04-01 14:38:50</td>\n      <td>Ford_Focus_1_6_Benzin_TÜV_neu_ist_sehr_gepfleg...</td>\n      <td>privat</td>\n      <td>Angebot</td>\n      <td>$1,350</td>\n      <td>test</td>\n      <td>kombi</td>\n      <td>2003</td>\n      <td>manuell</td>\n      <td>0</td>\n      <td>focus</td>\n      <td>150,000km</td>\n      <td>7</td>\n      <td>benzin</td>\n      <td>ford</td>\n      <td>nein</td>\n      <td>2016-04-01 00:00:00</td>\n      <td>0</td>\n      <td>39218</td>\n      <td>2016-04-01 14:38:50</td>\n    </tr>\n  </tbody>\n</table>\n</div>"
     },
     "execution_count": 2,
     "metadata": {},
     "output_type": "execute_result"
    }
   ],
   "source": [
    "autos = pd.read_csv('autos.csv', encoding = 'Latin-1')\n",
    "autos.info()\n",
    "autos.head()"
   ],
   "metadata": {
    "collapsed": false,
    "ExecuteTime": {
     "end_time": "2024-03-25T22:17:42.299212Z",
     "start_time": "2024-03-25T22:17:41.947773Z"
    }
   },
   "id": "158ebbed6bb52818",
   "execution_count": 2
  },
  {
   "cell_type": "markdown",
   "source": [
    "Our dataset contains 20 columns, most of which are strings. Some columns have null values, but none have more than ~20% null values. There are some columns that contain dates stored as strings.\n",
    "\n",
    "We'll start by cleaning the column names to make the data easier to work with."
   ],
   "metadata": {
    "collapsed": false
   },
   "id": "6578c1394da52c22"
  },
  {
   "cell_type": "markdown",
   "source": [
    "## Clean column names"
   ],
   "metadata": {
    "collapsed": false
   },
   "id": "b8457a5507301af2"
  },
  {
   "cell_type": "code",
   "outputs": [
    {
     "data": {
      "text/plain": "Index(['dateCrawled', 'name', 'seller', 'offerType', 'price', 'abtest',\n       'vehicleType', 'yearOfRegistration', 'gearbox', 'powerPS', 'model',\n       'odometer', 'monthOfRegistration', 'fuelType', 'brand',\n       'notRepairedDamage', 'dateCreated', 'nrOfPictures', 'postalCode',\n       'lastSeen'],\n      dtype='object')"
     },
     "execution_count": 3,
     "metadata": {},
     "output_type": "execute_result"
    }
   ],
   "source": [
    "autos.columns"
   ],
   "metadata": {
    "collapsed": false,
    "ExecuteTime": {
     "end_time": "2024-03-25T22:17:42.304954Z",
     "start_time": "2024-03-25T22:17:42.300418Z"
    }
   },
   "id": "d68e35c53041e0c4",
   "execution_count": 3
  },
  {
   "cell_type": "markdown",
   "source": [
    "We'll make a few changes here:\n",
    "- Change the columns from camelcase to snakecase.\n",
    "- Change a few wordings to more accurately describe the columns."
   ],
   "metadata": {
    "collapsed": false
   },
   "id": "b11670b7d9197958"
  },
  {
   "cell_type": "code",
   "outputs": [],
   "source": [
    "autos = autos.rename(columns = {'dateCrawled': 'date_crawled', 'offerType': 'offer_type', 'vehicleType': 'vehicle_type', 'yearOfRegistration': 'registration_year', 'powerPS': 'power_ps', 'monthOfRegistration': 'registration_month', 'fuelType': 'fuel_type', 'notRepairedDamage': 'unrepaired_damage', 'dateCreated': 'ad_created', 'nrOfPictures': 'num_photos', 'postalCode': 'postal_code', 'lastSeen': 'last_seen'})"
   ],
   "metadata": {
    "collapsed": false,
    "ExecuteTime": {
     "end_time": "2024-03-25T22:17:42.319182Z",
     "start_time": "2024-03-25T22:17:42.307155Z"
    }
   },
   "id": "db99a7c7e0a6ccd6",
   "execution_count": 4
  },
  {
   "cell_type": "code",
   "outputs": [
    {
     "data": {
      "text/plain": "          date_crawled                                               name  \\\n0  2016-03-26 17:47:46                   Peugeot_807_160_NAVTECH_ON_BOARD   \n1  2016-04-04 13:38:56         BMW_740i_4_4_Liter_HAMANN_UMBAU_Mega_Optik   \n2  2016-03-26 18:57:24                         Volkswagen_Golf_1.6_United   \n3  2016-03-12 16:58:10  Smart_smart_fortwo_coupe_softouch/F1/Klima/Pan...   \n4  2016-04-01 14:38:50  Ford_Focus_1_6_Benzin_TÜV_neu_ist_sehr_gepfleg...   \n\n   seller offer_type   price   abtest vehicle_type  registration_year  \\\n0  privat    Angebot  $5,000  control          bus               2004   \n1  privat    Angebot  $8,500  control    limousine               1997   \n2  privat    Angebot  $8,990     test    limousine               2009   \n3  privat    Angebot  $4,350  control   kleinwagen               2007   \n4  privat    Angebot  $1,350     test        kombi               2003   \n\n     gearbox  power_ps   model   odometer  registration_month fuel_type  \\\n0    manuell       158  andere  150,000km                   3       lpg   \n1  automatik       286     7er  150,000km                   6    benzin   \n2    manuell       102    golf   70,000km                   7    benzin   \n3  automatik        71  fortwo   70,000km                   6    benzin   \n4    manuell         0   focus  150,000km                   7    benzin   \n\n        brand unrepaired_damage           ad_created  num_photos  postal_code  \\\n0     peugeot              nein  2016-03-26 00:00:00           0        79588   \n1         bmw              nein  2016-04-04 00:00:00           0        71034   \n2  volkswagen              nein  2016-03-26 00:00:00           0        35394   \n3       smart              nein  2016-03-12 00:00:00           0        33729   \n4        ford              nein  2016-04-01 00:00:00           0        39218   \n\n             last_seen  \n0  2016-04-06 06:45:54  \n1  2016-04-06 14:45:08  \n2  2016-04-06 20:15:37  \n3  2016-03-15 03:16:28  \n4  2016-04-01 14:38:50  ",
      "text/html": "<div>\n<style scoped>\n    .dataframe tbody tr th:only-of-type {\n        vertical-align: middle;\n    }\n\n    .dataframe tbody tr th {\n        vertical-align: top;\n    }\n\n    .dataframe thead th {\n        text-align: right;\n    }\n</style>\n<table border=\"1\" class=\"dataframe\">\n  <thead>\n    <tr style=\"text-align: right;\">\n      <th></th>\n      <th>date_crawled</th>\n      <th>name</th>\n      <th>seller</th>\n      <th>offer_type</th>\n      <th>price</th>\n      <th>abtest</th>\n      <th>vehicle_type</th>\n      <th>registration_year</th>\n      <th>gearbox</th>\n      <th>power_ps</th>\n      <th>model</th>\n      <th>odometer</th>\n      <th>registration_month</th>\n      <th>fuel_type</th>\n      <th>brand</th>\n      <th>unrepaired_damage</th>\n      <th>ad_created</th>\n      <th>num_photos</th>\n      <th>postal_code</th>\n      <th>last_seen</th>\n    </tr>\n  </thead>\n  <tbody>\n    <tr>\n      <th>0</th>\n      <td>2016-03-26 17:47:46</td>\n      <td>Peugeot_807_160_NAVTECH_ON_BOARD</td>\n      <td>privat</td>\n      <td>Angebot</td>\n      <td>$5,000</td>\n      <td>control</td>\n      <td>bus</td>\n      <td>2004</td>\n      <td>manuell</td>\n      <td>158</td>\n      <td>andere</td>\n      <td>150,000km</td>\n      <td>3</td>\n      <td>lpg</td>\n      <td>peugeot</td>\n      <td>nein</td>\n      <td>2016-03-26 00:00:00</td>\n      <td>0</td>\n      <td>79588</td>\n      <td>2016-04-06 06:45:54</td>\n    </tr>\n    <tr>\n      <th>1</th>\n      <td>2016-04-04 13:38:56</td>\n      <td>BMW_740i_4_4_Liter_HAMANN_UMBAU_Mega_Optik</td>\n      <td>privat</td>\n      <td>Angebot</td>\n      <td>$8,500</td>\n      <td>control</td>\n      <td>limousine</td>\n      <td>1997</td>\n      <td>automatik</td>\n      <td>286</td>\n      <td>7er</td>\n      <td>150,000km</td>\n      <td>6</td>\n      <td>benzin</td>\n      <td>bmw</td>\n      <td>nein</td>\n      <td>2016-04-04 00:00:00</td>\n      <td>0</td>\n      <td>71034</td>\n      <td>2016-04-06 14:45:08</td>\n    </tr>\n    <tr>\n      <th>2</th>\n      <td>2016-03-26 18:57:24</td>\n      <td>Volkswagen_Golf_1.6_United</td>\n      <td>privat</td>\n      <td>Angebot</td>\n      <td>$8,990</td>\n      <td>test</td>\n      <td>limousine</td>\n      <td>2009</td>\n      <td>manuell</td>\n      <td>102</td>\n      <td>golf</td>\n      <td>70,000km</td>\n      <td>7</td>\n      <td>benzin</td>\n      <td>volkswagen</td>\n      <td>nein</td>\n      <td>2016-03-26 00:00:00</td>\n      <td>0</td>\n      <td>35394</td>\n      <td>2016-04-06 20:15:37</td>\n    </tr>\n    <tr>\n      <th>3</th>\n      <td>2016-03-12 16:58:10</td>\n      <td>Smart_smart_fortwo_coupe_softouch/F1/Klima/Pan...</td>\n      <td>privat</td>\n      <td>Angebot</td>\n      <td>$4,350</td>\n      <td>control</td>\n      <td>kleinwagen</td>\n      <td>2007</td>\n      <td>automatik</td>\n      <td>71</td>\n      <td>fortwo</td>\n      <td>70,000km</td>\n      <td>6</td>\n      <td>benzin</td>\n      <td>smart</td>\n      <td>nein</td>\n      <td>2016-03-12 00:00:00</td>\n      <td>0</td>\n      <td>33729</td>\n      <td>2016-03-15 03:16:28</td>\n    </tr>\n    <tr>\n      <th>4</th>\n      <td>2016-04-01 14:38:50</td>\n      <td>Ford_Focus_1_6_Benzin_TÜV_neu_ist_sehr_gepfleg...</td>\n      <td>privat</td>\n      <td>Angebot</td>\n      <td>$1,350</td>\n      <td>test</td>\n      <td>kombi</td>\n      <td>2003</td>\n      <td>manuell</td>\n      <td>0</td>\n      <td>focus</td>\n      <td>150,000km</td>\n      <td>7</td>\n      <td>benzin</td>\n      <td>ford</td>\n      <td>nein</td>\n      <td>2016-04-01 00:00:00</td>\n      <td>0</td>\n      <td>39218</td>\n      <td>2016-04-01 14:38:50</td>\n    </tr>\n  </tbody>\n</table>\n</div>"
     },
     "execution_count": 5,
     "metadata": {},
     "output_type": "execute_result"
    }
   ],
   "source": [
    "autos.head()"
   ],
   "metadata": {
    "collapsed": false,
    "ExecuteTime": {
     "end_time": "2024-03-25T22:17:42.332527Z",
     "start_time": "2024-03-25T22:17:42.320243Z"
    }
   },
   "id": "76578fabc0095ac8",
   "execution_count": 5
  },
  {
   "cell_type": "markdown",
   "source": [
    "## Initial Data Exploration and Cleaning\n",
    "\n",
    "We'll start by exploring the data to find obvious areas where we can clean the data."
   ],
   "metadata": {
    "collapsed": false
   },
   "id": "83bea3292fd9486e"
  },
  {
   "cell_type": "code",
   "outputs": [
    {
     "data": {
      "text/plain": "               date_crawled         name  seller offer_type  price abtest  \\\ncount                 50000        50000   50000      50000  50000  50000   \nunique                48213        38754       2          2   2357      2   \ntop     2016-04-02 11:37:04  Ford_Fiesta  privat    Angebot     $0   test   \nfreq                      3           78   49999      49999   1421  25756   \nmean                    NaN          NaN     NaN        NaN    NaN    NaN   \nstd                     NaN          NaN     NaN        NaN    NaN    NaN   \nmin                     NaN          NaN     NaN        NaN    NaN    NaN   \n25%                     NaN          NaN     NaN        NaN    NaN    NaN   \n50%                     NaN          NaN     NaN        NaN    NaN    NaN   \n75%                     NaN          NaN     NaN        NaN    NaN    NaN   \nmax                     NaN          NaN     NaN        NaN    NaN    NaN   \n\n       vehicle_type  registration_year  gearbox      power_ps  model  \\\ncount         44905       50000.000000    47320  50000.000000  47242   \nunique            8                NaN        2           NaN    245   \ntop       limousine                NaN  manuell           NaN   golf   \nfreq          12859                NaN    36993           NaN   4024   \nmean            NaN        2005.073280      NaN    116.355920    NaN   \nstd             NaN         105.712813      NaN    209.216627    NaN   \nmin             NaN        1000.000000      NaN      0.000000    NaN   \n25%             NaN        1999.000000      NaN     70.000000    NaN   \n50%             NaN        2003.000000      NaN    105.000000    NaN   \n75%             NaN        2008.000000      NaN    150.000000    NaN   \nmax             NaN        9999.000000      NaN  17700.000000    NaN   \n\n         odometer  registration_month fuel_type       brand unrepaired_damage  \\\ncount       50000        50000.000000     45518       50000             40171   \nunique         13                 NaN         7          40                 2   \ntop     150,000km                 NaN    benzin  volkswagen              nein   \nfreq        32424                 NaN     30107       10687             35232   \nmean          NaN            5.723360       NaN         NaN               NaN   \nstd           NaN            3.711984       NaN         NaN               NaN   \nmin           NaN            0.000000       NaN         NaN               NaN   \n25%           NaN            3.000000       NaN         NaN               NaN   \n50%           NaN            6.000000       NaN         NaN               NaN   \n75%           NaN            9.000000       NaN         NaN               NaN   \nmax           NaN           12.000000       NaN         NaN               NaN   \n\n                 ad_created  num_photos   postal_code            last_seen  \ncount                 50000     50000.0  50000.000000                50000  \nunique                   76         NaN           NaN                39481  \ntop     2016-04-03 00:00:00         NaN           NaN  2016-04-07 06:17:27  \nfreq                   1946         NaN           NaN                    8  \nmean                    NaN         0.0  50813.627300                  NaN  \nstd                     NaN         0.0  25779.747957                  NaN  \nmin                     NaN         0.0   1067.000000                  NaN  \n25%                     NaN         0.0  30451.000000                  NaN  \n50%                     NaN         0.0  49577.000000                  NaN  \n75%                     NaN         0.0  71540.000000                  NaN  \nmax                     NaN         0.0  99998.000000                  NaN  ",
      "text/html": "<div>\n<style scoped>\n    .dataframe tbody tr th:only-of-type {\n        vertical-align: middle;\n    }\n\n    .dataframe tbody tr th {\n        vertical-align: top;\n    }\n\n    .dataframe thead th {\n        text-align: right;\n    }\n</style>\n<table border=\"1\" class=\"dataframe\">\n  <thead>\n    <tr style=\"text-align: right;\">\n      <th></th>\n      <th>date_crawled</th>\n      <th>name</th>\n      <th>seller</th>\n      <th>offer_type</th>\n      <th>price</th>\n      <th>abtest</th>\n      <th>vehicle_type</th>\n      <th>registration_year</th>\n      <th>gearbox</th>\n      <th>power_ps</th>\n      <th>model</th>\n      <th>odometer</th>\n      <th>registration_month</th>\n      <th>fuel_type</th>\n      <th>brand</th>\n      <th>unrepaired_damage</th>\n      <th>ad_created</th>\n      <th>num_photos</th>\n      <th>postal_code</th>\n      <th>last_seen</th>\n    </tr>\n  </thead>\n  <tbody>\n    <tr>\n      <th>count</th>\n      <td>50000</td>\n      <td>50000</td>\n      <td>50000</td>\n      <td>50000</td>\n      <td>50000</td>\n      <td>50000</td>\n      <td>44905</td>\n      <td>50000.000000</td>\n      <td>47320</td>\n      <td>50000.000000</td>\n      <td>47242</td>\n      <td>50000</td>\n      <td>50000.000000</td>\n      <td>45518</td>\n      <td>50000</td>\n      <td>40171</td>\n      <td>50000</td>\n      <td>50000.0</td>\n      <td>50000.000000</td>\n      <td>50000</td>\n    </tr>\n    <tr>\n      <th>unique</th>\n      <td>48213</td>\n      <td>38754</td>\n      <td>2</td>\n      <td>2</td>\n      <td>2357</td>\n      <td>2</td>\n      <td>8</td>\n      <td>NaN</td>\n      <td>2</td>\n      <td>NaN</td>\n      <td>245</td>\n      <td>13</td>\n      <td>NaN</td>\n      <td>7</td>\n      <td>40</td>\n      <td>2</td>\n      <td>76</td>\n      <td>NaN</td>\n      <td>NaN</td>\n      <td>39481</td>\n    </tr>\n    <tr>\n      <th>top</th>\n      <td>2016-04-02 11:37:04</td>\n      <td>Ford_Fiesta</td>\n      <td>privat</td>\n      <td>Angebot</td>\n      <td>$0</td>\n      <td>test</td>\n      <td>limousine</td>\n      <td>NaN</td>\n      <td>manuell</td>\n      <td>NaN</td>\n      <td>golf</td>\n      <td>150,000km</td>\n      <td>NaN</td>\n      <td>benzin</td>\n      <td>volkswagen</td>\n      <td>nein</td>\n      <td>2016-04-03 00:00:00</td>\n      <td>NaN</td>\n      <td>NaN</td>\n      <td>2016-04-07 06:17:27</td>\n    </tr>\n    <tr>\n      <th>freq</th>\n      <td>3</td>\n      <td>78</td>\n      <td>49999</td>\n      <td>49999</td>\n      <td>1421</td>\n      <td>25756</td>\n      <td>12859</td>\n      <td>NaN</td>\n      <td>36993</td>\n      <td>NaN</td>\n      <td>4024</td>\n      <td>32424</td>\n      <td>NaN</td>\n      <td>30107</td>\n      <td>10687</td>\n      <td>35232</td>\n      <td>1946</td>\n      <td>NaN</td>\n      <td>NaN</td>\n      <td>8</td>\n    </tr>\n    <tr>\n      <th>mean</th>\n      <td>NaN</td>\n      <td>NaN</td>\n      <td>NaN</td>\n      <td>NaN</td>\n      <td>NaN</td>\n      <td>NaN</td>\n      <td>NaN</td>\n      <td>2005.073280</td>\n      <td>NaN</td>\n      <td>116.355920</td>\n      <td>NaN</td>\n      <td>NaN</td>\n      <td>5.723360</td>\n      <td>NaN</td>\n      <td>NaN</td>\n      <td>NaN</td>\n      <td>NaN</td>\n      <td>0.0</td>\n      <td>50813.627300</td>\n      <td>NaN</td>\n    </tr>\n    <tr>\n      <th>std</th>\n      <td>NaN</td>\n      <td>NaN</td>\n      <td>NaN</td>\n      <td>NaN</td>\n      <td>NaN</td>\n      <td>NaN</td>\n      <td>NaN</td>\n      <td>105.712813</td>\n      <td>NaN</td>\n      <td>209.216627</td>\n      <td>NaN</td>\n      <td>NaN</td>\n      <td>3.711984</td>\n      <td>NaN</td>\n      <td>NaN</td>\n      <td>NaN</td>\n      <td>NaN</td>\n      <td>0.0</td>\n      <td>25779.747957</td>\n      <td>NaN</td>\n    </tr>\n    <tr>\n      <th>min</th>\n      <td>NaN</td>\n      <td>NaN</td>\n      <td>NaN</td>\n      <td>NaN</td>\n      <td>NaN</td>\n      <td>NaN</td>\n      <td>NaN</td>\n      <td>1000.000000</td>\n      <td>NaN</td>\n      <td>0.000000</td>\n      <td>NaN</td>\n      <td>NaN</td>\n      <td>0.000000</td>\n      <td>NaN</td>\n      <td>NaN</td>\n      <td>NaN</td>\n      <td>NaN</td>\n      <td>0.0</td>\n      <td>1067.000000</td>\n      <td>NaN</td>\n    </tr>\n    <tr>\n      <th>25%</th>\n      <td>NaN</td>\n      <td>NaN</td>\n      <td>NaN</td>\n      <td>NaN</td>\n      <td>NaN</td>\n      <td>NaN</td>\n      <td>NaN</td>\n      <td>1999.000000</td>\n      <td>NaN</td>\n      <td>70.000000</td>\n      <td>NaN</td>\n      <td>NaN</td>\n      <td>3.000000</td>\n      <td>NaN</td>\n      <td>NaN</td>\n      <td>NaN</td>\n      <td>NaN</td>\n      <td>0.0</td>\n      <td>30451.000000</td>\n      <td>NaN</td>\n    </tr>\n    <tr>\n      <th>50%</th>\n      <td>NaN</td>\n      <td>NaN</td>\n      <td>NaN</td>\n      <td>NaN</td>\n      <td>NaN</td>\n      <td>NaN</td>\n      <td>NaN</td>\n      <td>2003.000000</td>\n      <td>NaN</td>\n      <td>105.000000</td>\n      <td>NaN</td>\n      <td>NaN</td>\n      <td>6.000000</td>\n      <td>NaN</td>\n      <td>NaN</td>\n      <td>NaN</td>\n      <td>NaN</td>\n      <td>0.0</td>\n      <td>49577.000000</td>\n      <td>NaN</td>\n    </tr>\n    <tr>\n      <th>75%</th>\n      <td>NaN</td>\n      <td>NaN</td>\n      <td>NaN</td>\n      <td>NaN</td>\n      <td>NaN</td>\n      <td>NaN</td>\n      <td>NaN</td>\n      <td>2008.000000</td>\n      <td>NaN</td>\n      <td>150.000000</td>\n      <td>NaN</td>\n      <td>NaN</td>\n      <td>9.000000</td>\n      <td>NaN</td>\n      <td>NaN</td>\n      <td>NaN</td>\n      <td>NaN</td>\n      <td>0.0</td>\n      <td>71540.000000</td>\n      <td>NaN</td>\n    </tr>\n    <tr>\n      <th>max</th>\n      <td>NaN</td>\n      <td>NaN</td>\n      <td>NaN</td>\n      <td>NaN</td>\n      <td>NaN</td>\n      <td>NaN</td>\n      <td>NaN</td>\n      <td>9999.000000</td>\n      <td>NaN</td>\n      <td>17700.000000</td>\n      <td>NaN</td>\n      <td>NaN</td>\n      <td>12.000000</td>\n      <td>NaN</td>\n      <td>NaN</td>\n      <td>NaN</td>\n      <td>NaN</td>\n      <td>0.0</td>\n      <td>99998.000000</td>\n      <td>NaN</td>\n    </tr>\n  </tbody>\n</table>\n</div>"
     },
     "execution_count": 6,
     "metadata": {},
     "output_type": "execute_result"
    }
   ],
   "source": [
    "autos.describe(include='all')"
   ],
   "metadata": {
    "collapsed": false,
    "ExecuteTime": {
     "end_time": "2024-03-25T22:17:42.507296Z",
     "start_time": "2024-03-25T22:17:42.335872Z"
    }
   },
   "id": "a4c25cd7843eedc9",
   "execution_count": 6
  },
  {
   "cell_type": "markdown",
   "source": [
    "Our initial observations:\n",
    "- There are a number of text columns where nearly all the values are the same:\n",
    "    - `seller`\n",
    "    - `offer_type`\n",
    "- The `num_photos` column looks odd, we'll need to investigate this further.\n",
    "- The `brand` column looks like it could be cleaned up."
   ],
   "metadata": {
    "collapsed": false
   },
   "id": "187c8cd14cfe11a6"
  },
  {
   "cell_type": "code",
   "outputs": [
    {
     "data": {
      "text/plain": "num_photos\n0    50000\nName: count, dtype: int64"
     },
     "execution_count": 7,
     "metadata": {},
     "output_type": "execute_result"
    }
   ],
   "source": [
    "autos['num_photos'].value_counts()"
   ],
   "metadata": {
    "collapsed": false,
    "ExecuteTime": {
     "end_time": "2024-03-25T22:17:42.514061Z",
     "start_time": "2024-03-25T22:17:42.508393Z"
    }
   },
   "id": "6f71e7b2ab0cc2e1",
   "execution_count": 7
  },
  {
   "cell_type": "markdown",
   "source": [
    "It looks like the `num_photos` column has `0` for every column. We'll drop this column, plus the other two we noted as mostly one value."
   ],
   "metadata": {
    "collapsed": false
   },
   "id": "b8dc496fe099bb98"
  },
  {
   "cell_type": "code",
   "outputs": [],
   "source": [
    "autos = autos.drop(['num_photos', 'seller', 'offer_type'], axis=1)"
   ],
   "metadata": {
    "collapsed": false,
    "ExecuteTime": {
     "end_time": "2024-03-25T22:17:42.525745Z",
     "start_time": "2024-03-25T22:17:42.515271Z"
    }
   },
   "id": "808f30fabcd0563f",
   "execution_count": 8
  },
  {
   "cell_type": "markdown",
   "source": [
    "There are two columns, price and auto, which are numeric values with extra characters being stored as text. We'll clean and convert these."
   ],
   "metadata": {
    "collapsed": false
   },
   "id": "d91f73a73cf66c9"
  },
  {
   "cell_type": "code",
   "outputs": [
    {
     "data": {
      "text/plain": "0    5000\n1    8500\n2    8990\n3    4350\n4    1350\nName: price, dtype: int64"
     },
     "execution_count": 9,
     "metadata": {},
     "output_type": "execute_result"
    }
   ],
   "source": [
    "autos['price'] = (autos['price']\n",
    "                          .str.replace('$','')\n",
    "                          .str.replace(',','')\n",
    "                          .astype(int)\n",
    "                          )\n",
    "autos['price'].head()"
   ],
   "metadata": {
    "collapsed": false,
    "ExecuteTime": {
     "end_time": "2024-03-25T22:17:42.557567Z",
     "start_time": "2024-03-25T22:17:42.526954Z"
    }
   },
   "id": "8e5926c49673341b",
   "execution_count": 9
  },
  {
   "cell_type": "code",
   "outputs": [
    {
     "data": {
      "text/plain": "0    150000\n1    150000\n2     70000\n3     70000\n4    150000\nName: odometer_km, dtype: int64"
     },
     "execution_count": 10,
     "metadata": {},
     "output_type": "execute_result"
    }
   ],
   "source": [
    "autos['odometer'] = (autos['odometer']\n",
    "                             .str.replace('km','')\n",
    "                             .str.replace(',','')\n",
    "                             .astype(int)\n",
    "                             )\n",
    "autos.rename({'odometer': 'odometer_km'}, axis=1, inplace=True)\n",
    "autos['odometer_km'].head()"
   ],
   "metadata": {
    "collapsed": false,
    "ExecuteTime": {
     "end_time": "2024-03-25T22:17:42.594010Z",
     "start_time": "2024-03-25T22:17:42.561167Z"
    }
   },
   "id": "46df75e7d7d9de52",
   "execution_count": 10
  },
  {
   "cell_type": "markdown",
   "source": [
    "## Exploring Odometer and Price"
   ],
   "metadata": {
    "collapsed": false
   },
   "id": "a27e07778d109362"
  },
  {
   "cell_type": "code",
   "outputs": [
    {
     "data": {
      "text/plain": "odometer_km\n150000    32424\n125000     5170\n100000     2169\n90000      1757\n80000      1436\n70000      1230\n60000      1164\n50000      1027\n5000        967\n40000       819\n30000       789\n20000       784\n10000       264\nName: count, dtype: int64"
     },
     "execution_count": 11,
     "metadata": {},
     "output_type": "execute_result"
    }
   ],
   "source": [
    "autos['odometer_km'].value_counts()"
   ],
   "metadata": {
    "collapsed": false,
    "ExecuteTime": {
     "end_time": "2024-03-25T22:17:42.599786Z",
     "start_time": "2024-03-25T22:17:42.595049Z"
    }
   },
   "id": "fb6e5b9cff9121cd",
   "execution_count": 11
  },
  {
   "cell_type": "markdown",
   "source": [
    "We can see that the values in this field are rounded, which might indicate that sellers had to choose from pre-set options for this field. Additionally, there are more high mileage than low mileage vehicles."
   ],
   "metadata": {
    "collapsed": false
   },
   "id": "37affae17ef09fb3"
  },
  {
   "cell_type": "code",
   "outputs": [
    {
     "name": "stdout",
     "output_type": "stream",
     "text": [
      "(2357,)\n",
      "count    5.000000e+04\n",
      "mean     9.840044e+03\n",
      "std      4.811044e+05\n",
      "min      0.000000e+00\n",
      "25%      1.100000e+03\n",
      "50%      2.950000e+03\n",
      "75%      7.200000e+03\n",
      "max      1.000000e+08\n",
      "Name: price, dtype: float64\n"
     ]
    },
    {
     "data": {
      "text/plain": "price\n0       1421\n500      781\n1500     734\n2500     643\n1000     639\n1200     639\n600      531\n800      498\n3500     498\n2000     460\n999      434\n750      433\n900      420\n650      419\n850      410\n700      395\n4500     394\n300      384\n2200     382\n950      379\nName: count, dtype: int64"
     },
     "execution_count": 12,
     "metadata": {},
     "output_type": "execute_result"
    }
   ],
   "source": [
    "print(autos['price'].unique().shape)\n",
    "print(autos['price'].describe())\n",
    "autos['price'].value_counts().head(20)"
   ],
   "metadata": {
    "collapsed": false,
    "ExecuteTime": {
     "end_time": "2024-03-25T22:17:42.610407Z",
     "start_time": "2024-03-25T22:17:42.601047Z"
    }
   },
   "id": "fa5247f2801f7e2f",
   "execution_count": 12
  },
  {
   "cell_type": "markdown",
   "source": [
    "Again, the prices in this column seem rounded, however given there are 2357 unique values in the column, that may just be people's tendency to round prices on the site.\n",
    "\n",
    "There are 1,421 cars listed with $0 price - given that this is only 2% of the of the cars, we might consider removing these rows. The maximum price is one hundred million dollars, which seems a lot, let's look at the highest prices further."
   ],
   "metadata": {
    "collapsed": false
   },
   "id": "a90aa3056da3f20c"
  },
  {
   "cell_type": "code",
   "outputs": [
    {
     "data": {
      "text/plain": "price\n99999999    1\n27322222    1\n12345678    3\n11111111    2\n10000000    1\n3890000     1\n1300000     1\n1234566     1\n999999      2\n999990      1\n350000      1\n345000      1\n299000      1\n295000      1\n265000      1\n259000      1\n250000      1\n220000      1\n198000      1\n197000      1\nName: count, dtype: int64"
     },
     "execution_count": 13,
     "metadata": {},
     "output_type": "execute_result"
    }
   ],
   "source": [
    "autos['price'].value_counts().sort_index(ascending=False).head(20)"
   ],
   "metadata": {
    "collapsed": false,
    "ExecuteTime": {
     "end_time": "2024-03-25T22:17:42.618438Z",
     "start_time": "2024-03-25T22:17:42.611760Z"
    }
   },
   "id": "d003c0b9cce7734b",
   "execution_count": 13
  },
  {
   "cell_type": "code",
   "outputs": [
    {
     "data": {
      "text/plain": "price\n0     1421\n1      156\n2        3\n3        1\n5        2\n8        1\n9        1\n10       7\n11       2\n12       3\n13       2\n14       1\n15       2\n17       3\n18       1\n20       4\n25       5\n29       1\n30       7\n35       1\nName: count, dtype: int64"
     },
     "execution_count": 14,
     "metadata": {},
     "output_type": "execute_result"
    }
   ],
   "source": [
    "autos['price'].value_counts().sort_index(ascending=True).head(20)"
   ],
   "metadata": {
    "collapsed": false,
    "ExecuteTime": {
     "end_time": "2024-03-25T22:17:42.626484Z",
     "start_time": "2024-03-25T22:17:42.619475Z"
    }
   },
   "id": "7410e12653fb1a54",
   "execution_count": 14
  },
  {
   "cell_type": "markdown",
   "source": [
    "There are a number of listings with prices below 30 dollars, including 1,421 cars at 0 dollar. There are also a small number of listings uncharacteristically very high values, including 14 cars at around or over 1 million dollar.\n",
    "\n",
    "Given that Ebay is an auction site, there could legitimately be items where the opening bid is 1 dollar. We will keep the 1 dollar items. However, we will remove anything above 350,000 dollar, as it seems that prices rose steadily to that number and then jumped up to less realistic numbers."
   ],
   "metadata": {
    "collapsed": false
   },
   "id": "bafe30cb98e15a43"
  },
  {
   "cell_type": "code",
   "outputs": [
    {
     "data": {
      "text/plain": "count     48565.000000\nmean       5888.935591\nstd        9059.854754\nmin           1.000000\n25%        1200.000000\n50%        3000.000000\n75%        7490.000000\nmax      350000.000000\nName: price, dtype: float64"
     },
     "execution_count": 15,
     "metadata": {},
     "output_type": "execute_result"
    }
   ],
   "source": [
    "autos = autos[autos['price'].between(1, 351000)]\n",
    "autos['price'].describe()"
   ],
   "metadata": {
    "collapsed": false,
    "ExecuteTime": {
     "end_time": "2024-03-25T22:17:42.645258Z",
     "start_time": "2024-03-25T22:17:42.627742Z"
    }
   },
   "id": "b54116093be1b542",
   "execution_count": 15
  },
  {
   "cell_type": "markdown",
   "source": [
    "## Exploring the date columns"
   ],
   "metadata": {
    "collapsed": false
   },
   "id": "5ad14558d03f3a7"
  },
  {
   "cell_type": "markdown",
   "source": [
    "There are a number of columns with date information:\n",
    "\n",
    "- `date_crawled`\n",
    "- `registration_month`\n",
    "- `registration_year`\n",
    "- `ad_created`\n",
    "- `last_seen`\n",
    "\n",
    "These are a combination of dates that were crawled, and dates with meta-information from the crawler. The non-registration dates are stored as strings. Lets explore these columns more to under more about the listings.\n"
   ],
   "metadata": {
    "collapsed": false
   },
   "id": "67db7b5ce912afc2"
  },
  {
   "cell_type": "code",
   "outputs": [
    {
     "data": {
      "text/plain": "          date_crawled           ad_created            last_seen\n0  2016-03-26 17:47:46  2016-03-26 00:00:00  2016-04-06 06:45:54\n1  2016-04-04 13:38:56  2016-04-04 00:00:00  2016-04-06 14:45:08\n2  2016-03-26 18:57:24  2016-03-26 00:00:00  2016-04-06 20:15:37\n3  2016-03-12 16:58:10  2016-03-12 00:00:00  2016-03-15 03:16:28\n4  2016-04-01 14:38:50  2016-04-01 00:00:00  2016-04-01 14:38:50",
      "text/html": "<div>\n<style scoped>\n    .dataframe tbody tr th:only-of-type {\n        vertical-align: middle;\n    }\n\n    .dataframe tbody tr th {\n        vertical-align: top;\n    }\n\n    .dataframe thead th {\n        text-align: right;\n    }\n</style>\n<table border=\"1\" class=\"dataframe\">\n  <thead>\n    <tr style=\"text-align: right;\">\n      <th></th>\n      <th>date_crawled</th>\n      <th>ad_created</th>\n      <th>last_seen</th>\n    </tr>\n  </thead>\n  <tbody>\n    <tr>\n      <th>0</th>\n      <td>2016-03-26 17:47:46</td>\n      <td>2016-03-26 00:00:00</td>\n      <td>2016-04-06 06:45:54</td>\n    </tr>\n    <tr>\n      <th>1</th>\n      <td>2016-04-04 13:38:56</td>\n      <td>2016-04-04 00:00:00</td>\n      <td>2016-04-06 14:45:08</td>\n    </tr>\n    <tr>\n      <th>2</th>\n      <td>2016-03-26 18:57:24</td>\n      <td>2016-03-26 00:00:00</td>\n      <td>2016-04-06 20:15:37</td>\n    </tr>\n    <tr>\n      <th>3</th>\n      <td>2016-03-12 16:58:10</td>\n      <td>2016-03-12 00:00:00</td>\n      <td>2016-03-15 03:16:28</td>\n    </tr>\n    <tr>\n      <th>4</th>\n      <td>2016-04-01 14:38:50</td>\n      <td>2016-04-01 00:00:00</td>\n      <td>2016-04-01 14:38:50</td>\n    </tr>\n  </tbody>\n</table>\n</div>"
     },
     "execution_count": 16,
     "metadata": {},
     "output_type": "execute_result"
    }
   ],
   "source": [
    "autos[['date_crawled','ad_created','last_seen']][0:5]"
   ],
   "metadata": {
    "collapsed": false,
    "ExecuteTime": {
     "end_time": "2024-03-25T22:17:42.656710Z",
     "start_time": "2024-03-25T22:17:42.646949Z"
    }
   },
   "id": "cd35a87ee8f7b4f4",
   "execution_count": 16
  },
  {
   "cell_type": "markdown",
   "source": [
    "The first 10 characters represent the day (e.g. 2016-03-12). To understand the date range, we can extract just the date values, generate a distribution, and then sort by index to understand the distribution over time in a sequential manner"
   ],
   "metadata": {
    "collapsed": false
   },
   "id": "79025f839a4388a1"
  },
  {
   "cell_type": "code",
   "outputs": [
    {
     "data": {
      "text/plain": "date_crawled\n2016-03-05    0.025327\n2016-03-06    0.014043\n2016-03-07    0.036014\n2016-03-08    0.033296\n2016-03-09    0.033090\n2016-03-10    0.032184\n2016-03-11    0.032575\n2016-03-12    0.036920\n2016-03-13    0.015670\n2016-03-14    0.036549\n2016-03-15    0.034284\n2016-03-16    0.029610\n2016-03-17    0.031628\n2016-03-18    0.012911\n2016-03-19    0.034778\n2016-03-20    0.037887\n2016-03-21    0.037373\n2016-03-22    0.032987\n2016-03-23    0.032225\n2016-03-24    0.029342\n2016-03-25    0.031607\n2016-03-26    0.032204\n2016-03-27    0.031092\n2016-03-28    0.034860\n2016-03-29    0.034099\n2016-03-30    0.033687\n2016-03-31    0.031834\n2016-04-01    0.033687\n2016-04-02    0.035478\n2016-04-03    0.038608\n2016-04-04    0.036487\n2016-04-05    0.013096\n2016-04-06    0.003171\n2016-04-07    0.001400\nName: proportion, dtype: float64"
     },
     "execution_count": 17,
     "metadata": {},
     "output_type": "execute_result"
    }
   ],
   "source": [
    "(autos['date_crawled']\n",
    "        .str[:10]\n",
    "        .value_counts(normalize=True, dropna=False)\n",
    "        .sort_index()\n",
    "        )"
   ],
   "metadata": {
    "collapsed": false,
    "ExecuteTime": {
     "end_time": "2024-03-25T22:17:42.674849Z",
     "start_time": "2024-03-25T22:17:42.658110Z"
    }
   },
   "id": "2a5168528ef7c75d",
   "execution_count": 17
  },
  {
   "cell_type": "markdown",
   "source": [
    "Next, we analyse the distribution similarly but this time sorting by value to understand what date had the most crawling activity based on the normalized distribution "
   ],
   "metadata": {
    "collapsed": false
   },
   "id": "27d1d2825b493224"
  },
  {
   "cell_type": "code",
   "outputs": [
    {
     "data": {
      "text/plain": "date_crawled\n2016-04-07    0.001400\n2016-04-06    0.003171\n2016-03-18    0.012911\n2016-04-05    0.013096\n2016-03-06    0.014043\n2016-03-13    0.015670\n2016-03-05    0.025327\n2016-03-24    0.029342\n2016-03-16    0.029610\n2016-03-27    0.031092\n2016-03-25    0.031607\n2016-03-17    0.031628\n2016-03-31    0.031834\n2016-03-10    0.032184\n2016-03-26    0.032204\n2016-03-23    0.032225\n2016-03-11    0.032575\n2016-03-22    0.032987\n2016-03-09    0.033090\n2016-03-08    0.033296\n2016-04-01    0.033687\n2016-03-30    0.033687\n2016-03-29    0.034099\n2016-03-15    0.034284\n2016-03-19    0.034778\n2016-03-28    0.034860\n2016-04-02    0.035478\n2016-03-07    0.036014\n2016-04-04    0.036487\n2016-03-14    0.036549\n2016-03-12    0.036920\n2016-03-21    0.037373\n2016-03-20    0.037887\n2016-04-03    0.038608\nName: proportion, dtype: float64"
     },
     "execution_count": 18,
     "metadata": {},
     "output_type": "execute_result"
    }
   ],
   "source": [
    "(autos['date_crawled']\n",
    ".str[:10]\n",
    ". value_counts(normalize=True, dropna=False)\n",
    " .sort_values()\n",
    " )"
   ],
   "metadata": {
    "collapsed": false,
    "ExecuteTime": {
     "end_time": "2024-03-25T22:17:42.692788Z",
     "start_time": "2024-03-25T22:17:42.676236Z"
    }
   },
   "id": "a7bab0718dc28bf6",
   "execution_count": 18
  },
  {
   "cell_type": "markdown",
   "source": [
    "Looks like the site was crawled daily over roughly a one month period in March and April 2016. The distribution of listings crawled on each day is roughly uniform.\n",
    "\n",
    "We move on to the `last_seen` column"
   ],
   "metadata": {
    "collapsed": false
   },
   "id": "125d45bdbd416086"
  },
  {
   "cell_type": "code",
   "outputs": [
    {
     "data": {
      "text/plain": "last_seen\n2016-03-05    0.001071\n2016-03-06    0.004324\n2016-03-07    0.005395\n2016-03-08    0.007413\n2016-03-09    0.009595\n2016-03-10    0.010666\n2016-03-11    0.012375\n2016-03-12    0.023783\n2016-03-13    0.008895\n2016-03-14    0.012602\n2016-03-15    0.015876\n2016-03-16    0.016452\n2016-03-17    0.028086\n2016-03-18    0.007351\n2016-03-19    0.015834\n2016-03-20    0.020653\n2016-03-21    0.020632\n2016-03-22    0.021373\n2016-03-23    0.018532\n2016-03-24    0.019767\n2016-03-25    0.019211\n2016-03-26    0.016802\n2016-03-27    0.015649\n2016-03-28    0.020859\n2016-03-29    0.022341\n2016-03-30    0.024771\n2016-03-31    0.023783\n2016-04-01    0.022794\n2016-04-02    0.024915\n2016-04-03    0.025203\n2016-04-04    0.024483\n2016-04-05    0.124761\n2016-04-06    0.221806\n2016-04-07    0.131947\nName: proportion, dtype: float64"
     },
     "execution_count": 19,
     "metadata": {},
     "output_type": "execute_result"
    }
   ],
   "source": [
    "(autos['last_seen']\n",
    ".str[:10]\n",
    ".value_counts(normalize=True, dropna=False)\n",
    ".sort_index()\n",
    ")"
   ],
   "metadata": {
    "collapsed": false,
    "ExecuteTime": {
     "end_time": "2024-03-25T22:17:42.711099Z",
     "start_time": "2024-03-25T22:17:42.693884Z"
    }
   },
   "id": "6b6b3c26a0ba9cb4",
   "execution_count": 19
  },
  {
   "cell_type": "markdown",
   "source": [
    "The crawler recorded the date it last saw any listing, which allows us to determine on what day a listing was removed, presumably because the car was sold.\n",
    "\n",
    "The last three days contain a disproportionate amount of 'last seen' values. Given that these are 6-10x the values from the previous days, it's unlikely that there was a massive spike in sales, and more likely that these values are to do with the crawling period ending and don't indicate car sales.\n",
    "\n",
    "Now lets look at the `ad_created` column"
   ],
   "metadata": {
    "collapsed": false
   },
   "id": "1536d6284f19507b"
  },
  {
   "cell_type": "code",
   "outputs": [
    {
     "name": "stdout",
     "output_type": "stream",
     "text": [
      "(76,)\n"
     ]
    },
    {
     "data": {
      "text/plain": "ad_created\n2015-06-11    0.000021\n2015-08-10    0.000021\n2015-09-09    0.000021\n2015-11-10    0.000021\n2015-12-05    0.000021\n                ...   \n2016-04-03    0.038855\n2016-04-04    0.036858\n2016-04-05    0.011819\n2016-04-06    0.003253\n2016-04-07    0.001256\nName: proportion, Length: 76, dtype: float64"
     },
     "execution_count": 20,
     "metadata": {},
     "output_type": "execute_result"
    }
   ],
   "source": [
    "print(autos['ad_created'].str[:10].unique().shape)\n",
    "(autos['ad_created']\n",
    ".str[:10]\n",
    ".value_counts(normalize=True, dropna=False)\n",
    " .sort_index())"
   ],
   "metadata": {
    "collapsed": false,
    "ExecuteTime": {
     "end_time": "2024-03-25T22:17:42.740806Z",
     "start_time": "2024-03-25T22:17:42.712325Z"
    }
   },
   "id": "9d5c0f85acf2f212",
   "execution_count": 20
  },
  {
   "cell_type": "markdown",
   "source": [
    "There is a large variety of ad created dates. Most fall within 1-2 months of the listing date, but a few are quite old, with the oldest at around 9 months."
   ],
   "metadata": {
    "collapsed": false
   },
   "id": "43982d1e83968b04"
  },
  {
   "cell_type": "markdown",
   "source": [
    "Next, we move on to the `registration_year` column"
   ],
   "metadata": {
    "collapsed": false
   },
   "id": "1fdd96b5b46ddfb9"
  },
  {
   "cell_type": "code",
   "outputs": [
    {
     "data": {
      "text/plain": "count    48565.000000\nmean      2004.755421\nstd         88.643887\nmin       1000.000000\n25%       1999.000000\n50%       2004.000000\n75%       2008.000000\nmax       9999.000000\nName: registration_year, dtype: float64"
     },
     "execution_count": 21,
     "metadata": {},
     "output_type": "execute_result"
    }
   ],
   "source": [
    "autos['registration_year'].describe()"
   ],
   "metadata": {
    "collapsed": false,
    "ExecuteTime": {
     "end_time": "2024-03-25T22:17:42.749789Z",
     "start_time": "2024-03-25T22:17:42.742368Z"
    }
   },
   "id": "939d506f8f737912",
   "execution_count": 21
  },
  {
   "cell_type": "markdown",
   "source": [
    "The year that the car was first registered will likely indicate the age of the car. Looking at this column, we note some odd values. The minimum value is 1000, long before cars were invented and the maximum is 9999, many years into the future. Strange values like this will need to be removed."
   ],
   "metadata": {
    "collapsed": false
   },
   "id": "bd72d069658c7db7"
  },
  {
   "cell_type": "markdown",
   "source": [
    "## Dealing with Incorrect Registration Year Data    "
   ],
   "metadata": {
    "collapsed": false
   },
   "id": "6c39d9b44ddd5763"
  },
  {
   "cell_type": "markdown",
   "source": [
    "Of course a car cannot be registered before the listing was seen, or before the company that made the car was founded. Determining the earliest valid year is more difficult. Realistically, it could be somewhere in the first few decades of the 1900s. We will remove the values that fall outside the 1900 - 2016 interval. Before we do, we will check what percentage of our data has invalid values in this column. "
   ],
   "metadata": {
    "collapsed": false
   },
   "id": "32092a61f171f4cf"
  },
  {
   "cell_type": "code",
   "outputs": [
    {
     "data": {
      "text/plain": "0.038793369710697"
     },
     "execution_count": 22,
     "metadata": {},
     "output_type": "execute_result"
    }
   ],
   "source": [
    "((autos['registration_year'] < 1900) | (autos['registration_year'] > 2016)).mean()"
   ],
   "metadata": {
    "collapsed": false,
    "ExecuteTime": {
     "end_time": "2024-03-25T22:17:42.758577Z",
     "start_time": "2024-03-25T22:17:42.751835Z"
    }
   },
   "id": "155378bcbd37e14e",
   "execution_count": 22
  },
  {
   "cell_type": "markdown",
   "source": [
    "or we could do this: (~autos[\"registration_year\"].between(1900,2016)).sum() / autos.shape[0] to arrive at the same value\n"
   ],
   "metadata": {
    "collapsed": false
   },
   "id": "88ea5f3b9b9e410a"
  },
  {
   "cell_type": "markdown",
   "source": [
    "Now given that less than 4% of the data contains invalid values, we will remove these rows."
   ],
   "metadata": {
    "collapsed": false
   },
   "id": "d863e3e4662f50f7"
  },
  {
   "cell_type": "code",
   "outputs": [
    {
     "data": {
      "text/plain": "registration_year\n2000    0.067608\n2005    0.062895\n1999    0.062060\n2004    0.057904\n2003    0.057818\n2006    0.057197\n2001    0.056468\n2002    0.053255\n1998    0.050620\n2007    0.048778\nName: proportion, dtype: float64"
     },
     "execution_count": 23,
     "metadata": {},
     "output_type": "execute_result"
    }
   ],
   "source": [
    "# Many ways to select rows in a dataframe that fall within a value range for a column.\n",
    "# Using `Series.between()` is one way.\n",
    "#autos = autos[autos['registration_year'].between(1900,2016)] #or we can use:\n",
    "autos = autos[(autos['registration_year'] >= 1900) & (autos['registration_year'] <= 2016)]\n",
    "autos['registration_year'].value_counts(normalize=True).head(10)"
   ],
   "metadata": {
    "collapsed": false,
    "ExecuteTime": {
     "end_time": "2024-03-25T22:17:42.777530Z",
     "start_time": "2024-03-25T22:17:42.760079Z"
    }
   },
   "id": "78e060194aa733da",
   "execution_count": 23
  },
  {
   "cell_type": "markdown",
   "source": [
    "It appears that most of the vehicles were first registered in the past 20 years."
   ],
   "metadata": {
    "collapsed": false
   },
   "id": "4d0ac060807c0acf"
  },
  {
   "cell_type": "markdown",
   "source": [
    "## Exploring Price by Brand"
   ],
   "metadata": {
    "collapsed": false
   },
   "id": "7cdfbe6bab4aee4a"
  },
  {
   "cell_type": "code",
   "outputs": [
    {
     "data": {
      "text/plain": "brand\nvolkswagen        0.211264\nbmw               0.110045\nopel              0.107581\nmercedes_benz     0.096463\naudi              0.086566\nford              0.069900\nrenault           0.047150\npeugeot           0.029841\nfiat              0.025642\nseat              0.018273\nskoda             0.016409\nnissan            0.015274\nmazda             0.015188\nsmart             0.014160\ncitroen           0.014010\ntoyota            0.012703\nhyundai           0.010025\nsonstige_autos    0.009811\nvolvo             0.009147\nmini              0.008762\nmitsubishi        0.008226\nhonda             0.007840\nkia               0.007069\nalfa_romeo        0.006641\nporsche           0.006127\nsuzuki            0.005934\nchevrolet         0.005698\nchrysler          0.003513\ndacia             0.002635\ndaihatsu          0.002506\njeep              0.002271\nsubaru            0.002142\nland_rover        0.002099\nsaab              0.001649\njaguar            0.001564\ndaewoo            0.001500\ntrabant           0.001392\nrover             0.001328\nlancia            0.001071\nlada              0.000578\nName: proportion, dtype: float64"
     },
     "execution_count": 24,
     "metadata": {},
     "output_type": "execute_result"
    }
   ],
   "source": [
    "autos['brand'].value_counts(normalize=True)"
   ],
   "metadata": {
    "collapsed": false,
    "ExecuteTime": {
     "end_time": "2024-03-25T22:17:42.789984Z",
     "start_time": "2024-03-25T22:17:42.779954Z"
    }
   },
   "id": "8f8db083e9638381",
   "execution_count": 24
  },
  {
   "cell_type": "markdown",
   "source": [
    "German manufacturers represent four out of the top five brands, almost 50% of the overall listings. Volkswagen is by far the most popular brand, with approximately double the cars for sale of the next two brands combined.\n",
    "\n",
    "There are lots of brands that don't have a significant percentage of listings, so we will limit our analysis to brands representing more than 5% of total listings."
   ],
   "metadata": {
    "collapsed": false
   },
   "id": "bcb2ceb9ba5c6136"
  },
  {
   "cell_type": "code",
   "outputs": [
    {
     "name": "stdout",
     "output_type": "stream",
     "text": [
      "Index(['volkswagen', 'bmw', 'opel', 'mercedes_benz', 'audi', 'ford'], dtype='object', name='brand')\n"
     ]
    }
   ],
   "source": [
    "brand_counts = autos['brand'].value_counts(normalize=True) * 100\n",
    "common_brands = brand_counts[brand_counts > 5].index\n",
    "print(common_brands)"
   ],
   "metadata": {
    "collapsed": false,
    "ExecuteTime": {
     "end_time": "2024-03-25T22:17:42.801533Z",
     "start_time": "2024-03-25T22:17:42.792170Z"
    }
   },
   "id": "b2cf8e059038d70a",
   "execution_count": 25
  },
  {
   "cell_type": "markdown",
   "source": [
    "Lets check the average price of the top brands"
   ],
   "metadata": {
    "collapsed": false
   },
   "id": "8037ff3e59ddad8a"
  },
  {
   "cell_type": "code",
   "outputs": [
    {
     "data": {
      "text/plain": "{'volkswagen': 5402,\n 'bmw': 8332,\n 'opel': 2975,\n 'mercedes_benz': 8628,\n 'audi': 9336,\n 'ford': 3749}"
     },
     "execution_count": 26,
     "metadata": {},
     "output_type": "execute_result"
    }
   ],
   "source": [
    "brand_mean_prices = {}\n",
    "\n",
    "for brand in common_brands:\n",
    "    brand_only = autos[autos['brand'] == brand]\n",
    "    mean_price = brand_only['price'].mean()\n",
    "    brand_mean_prices[brand] = int(mean_price)\n",
    "\n",
    "brand_mean_prices"
   ],
   "metadata": {
    "collapsed": false,
    "ExecuteTime": {
     "end_time": "2024-03-25T22:17:42.852404Z",
     "start_time": "2024-03-25T22:17:42.805277Z"
    }
   },
   "id": "2eeb8f87d69bf72f",
   "execution_count": 26
  },
  {
   "cell_type": "markdown",
   "source": [
    "Of the top 5 brands, there is a distinct price gap:\n",
    "\n",
    "- Audi, BMW and Mercedes Benz are more expensive\n",
    "- Ford and Opel are less expensive\n",
    "- Volkswagen is in between - this may explain its popularity, it may be a 'best of 'both worlds' option."
   ],
   "metadata": {
    "collapsed": false
   },
   "id": "ee06cf7fee962275"
  },
  {
   "cell_type": "markdown",
   "source": [
    "## Exploring Mileage"
   ],
   "metadata": {
    "collapsed": false
   },
   "id": "997e873443b8ab29"
  },
  {
   "cell_type": "markdown",
   "source": [
    "Lets convert the dictionary to a series object and create a dataframe from this series object"
   ],
   "metadata": {
    "collapsed": false
   },
   "id": "a4ca8735ec854c3e"
  },
  {
   "cell_type": "code",
   "outputs": [
    {
     "data": {
      "text/plain": "               mean_price\nvolkswagen           5402\nbmw                  8332\nopel                 2975\nmercedes_benz        8628\naudi                 9336\nford                 3749",
      "text/html": "<div>\n<style scoped>\n    .dataframe tbody tr th:only-of-type {\n        vertical-align: middle;\n    }\n\n    .dataframe tbody tr th {\n        vertical-align: top;\n    }\n\n    .dataframe thead th {\n        text-align: right;\n    }\n</style>\n<table border=\"1\" class=\"dataframe\">\n  <thead>\n    <tr style=\"text-align: right;\">\n      <th></th>\n      <th>mean_price</th>\n    </tr>\n  </thead>\n  <tbody>\n    <tr>\n      <th>volkswagen</th>\n      <td>5402</td>\n    </tr>\n    <tr>\n      <th>bmw</th>\n      <td>8332</td>\n    </tr>\n    <tr>\n      <th>opel</th>\n      <td>2975</td>\n    </tr>\n    <tr>\n      <th>mercedes_benz</th>\n      <td>8628</td>\n    </tr>\n    <tr>\n      <th>audi</th>\n      <td>9336</td>\n    </tr>\n    <tr>\n      <th>ford</th>\n      <td>3749</td>\n    </tr>\n  </tbody>\n</table>\n</div>"
     },
     "execution_count": 27,
     "metadata": {},
     "output_type": "execute_result"
    }
   ],
   "source": [
    "bmp_series = pd.Series(brand_mean_prices)\n",
    "pd.DataFrame(bmp_series, columns=['mean_price'])"
   ],
   "metadata": {
    "collapsed": false,
    "ExecuteTime": {
     "end_time": "2024-03-25T22:17:42.861060Z",
     "start_time": "2024-03-25T22:17:42.854007Z"
    }
   },
   "id": "f4e5bac3fa77e682",
   "execution_count": 27
  },
  {
   "cell_type": "markdown",
   "source": [
    "Finally, lets calculate the mean mileage for those cars and add this data to the dataframe"
   ],
   "metadata": {
    "collapsed": false
   },
   "id": "bbc2aa15824f3179"
  },
  {
   "cell_type": "code",
   "outputs": [
    {
     "name": "stdout",
     "output_type": "stream",
     "text": [
      "{'volkswagen': 128707, 'bmw': 132572, 'opel': 129310, 'mercedes_benz': 130788, 'audi': 129157, 'ford': 124266}\n"
     ]
    }
   ],
   "source": [
    "brand_mean_mileage = {}\n",
    "\n",
    "for brand in common_brands:\n",
    "    brand_only = autos[autos['brand'] == brand]\n",
    "    mean_mileage = brand_only['odometer_km'].mean()\n",
    "    brand_mean_mileage[brand] = int(mean_mileage)\n",
    "\n",
    "print(brand_mean_mileage)"
   ],
   "metadata": {
    "collapsed": false,
    "ExecuteTime": {
     "end_time": "2024-03-25T22:17:42.914959Z",
     "start_time": "2024-03-25T22:17:42.868099Z"
    }
   },
   "id": "105809234d454804",
   "execution_count": 28
  },
  {
   "cell_type": "code",
   "outputs": [
    {
     "data": {
      "text/plain": "bmw              132572\nmercedes_benz    130788\nopel             129310\naudi             129157\nvolkswagen       128707\nford             124266\ndtype: int64"
     },
     "execution_count": 29,
     "metadata": {},
     "output_type": "execute_result"
    }
   ],
   "source": [
    "mean_mileage = pd.Series(brand_mean_mileage).sort_values(ascending=False)\n",
    "mean_prices = pd.Series(brand_mean_prices).sort_values(ascending=False)\n",
    "mean_mileage"
   ],
   "metadata": {
    "collapsed": false,
    "ExecuteTime": {
     "end_time": "2024-03-25T22:17:42.924003Z",
     "start_time": "2024-03-25T22:17:42.916966Z"
    }
   },
   "id": "dd5ad099e81eb717",
   "execution_count": 29
  },
  {
   "cell_type": "code",
   "outputs": [
    {
     "data": {
      "text/plain": "audi             9336\nmercedes_benz    8628\nbmw              8332\nvolkswagen       5402\nford             3749\nopel             2975\ndtype: int64"
     },
     "execution_count": 30,
     "metadata": {},
     "output_type": "execute_result"
    }
   ],
   "source": [
    "mean_prices"
   ],
   "metadata": {
    "collapsed": false,
    "ExecuteTime": {
     "end_time": "2024-03-25T22:17:42.930317Z",
     "start_time": "2024-03-25T22:17:42.925306Z"
    }
   },
   "id": "283d1d5dc9625a9e",
   "execution_count": 30
  },
  {
   "cell_type": "code",
   "outputs": [
    {
     "data": {
      "text/plain": "               mean_mileage\nbmw                  132572\nmercedes_benz        130788\nopel                 129310\naudi                 129157\nvolkswagen           128707\nford                 124266",
      "text/html": "<div>\n<style scoped>\n    .dataframe tbody tr th:only-of-type {\n        vertical-align: middle;\n    }\n\n    .dataframe tbody tr th {\n        vertical-align: top;\n    }\n\n    .dataframe thead th {\n        text-align: right;\n    }\n</style>\n<table border=\"1\" class=\"dataframe\">\n  <thead>\n    <tr style=\"text-align: right;\">\n      <th></th>\n      <th>mean_mileage</th>\n    </tr>\n  </thead>\n  <tbody>\n    <tr>\n      <th>bmw</th>\n      <td>132572</td>\n    </tr>\n    <tr>\n      <th>mercedes_benz</th>\n      <td>130788</td>\n    </tr>\n    <tr>\n      <th>opel</th>\n      <td>129310</td>\n    </tr>\n    <tr>\n      <th>audi</th>\n      <td>129157</td>\n    </tr>\n    <tr>\n      <th>volkswagen</th>\n      <td>128707</td>\n    </tr>\n    <tr>\n      <th>ford</th>\n      <td>124266</td>\n    </tr>\n  </tbody>\n</table>\n</div>"
     },
     "execution_count": 31,
     "metadata": {},
     "output_type": "execute_result"
    }
   ],
   "source": [
    "brand_info = pd.DataFrame(mean_mileage,columns=['mean_mileage'])\n",
    "brand_info"
   ],
   "metadata": {
    "collapsed": false,
    "ExecuteTime": {
     "end_time": "2024-03-25T22:17:42.940197Z",
     "start_time": "2024-03-25T22:17:42.932342Z"
    }
   },
   "id": "3d3c3bfe3f198a72",
   "execution_count": 31
  },
  {
   "cell_type": "code",
   "outputs": [
    {
     "data": {
      "text/plain": "               mean_mileage  mean_price\nbmw                  132572        8332\nmercedes_benz        130788        8628\nopel                 129310        2975\naudi                 129157        9336\nvolkswagen           128707        5402\nford                 124266        3749",
      "text/html": "<div>\n<style scoped>\n    .dataframe tbody tr th:only-of-type {\n        vertical-align: middle;\n    }\n\n    .dataframe tbody tr th {\n        vertical-align: top;\n    }\n\n    .dataframe thead th {\n        text-align: right;\n    }\n</style>\n<table border=\"1\" class=\"dataframe\">\n  <thead>\n    <tr style=\"text-align: right;\">\n      <th></th>\n      <th>mean_mileage</th>\n      <th>mean_price</th>\n    </tr>\n  </thead>\n  <tbody>\n    <tr>\n      <th>bmw</th>\n      <td>132572</td>\n      <td>8332</td>\n    </tr>\n    <tr>\n      <th>mercedes_benz</th>\n      <td>130788</td>\n      <td>8628</td>\n    </tr>\n    <tr>\n      <th>opel</th>\n      <td>129310</td>\n      <td>2975</td>\n    </tr>\n    <tr>\n      <th>audi</th>\n      <td>129157</td>\n      <td>9336</td>\n    </tr>\n    <tr>\n      <th>volkswagen</th>\n      <td>128707</td>\n      <td>5402</td>\n    </tr>\n    <tr>\n      <th>ford</th>\n      <td>124266</td>\n      <td>3749</td>\n    </tr>\n  </tbody>\n</table>\n</div>"
     },
     "execution_count": 32,
     "metadata": {},
     "output_type": "execute_result"
    }
   ],
   "source": [
    "brand_info['mean_price'] = mean_prices\n",
    "brand_info"
   ],
   "metadata": {
    "collapsed": false,
    "ExecuteTime": {
     "end_time": "2024-03-25T22:17:42.950167Z",
     "start_time": "2024-03-25T22:17:42.941991Z"
    }
   },
   "id": "40f850dcc9159eae",
   "execution_count": 32
  },
  {
   "cell_type": "code",
   "outputs": [
    {
     "data": {
      "text/plain": "               mean_mileage  mean_price\naudi                 129157        9336\nmercedes_benz        130788        8628\nbmw                  132572        8332\nvolkswagen           128707        5402\nford                 124266        3749\nopel                 129310        2975",
      "text/html": "<div>\n<style scoped>\n    .dataframe tbody tr th:only-of-type {\n        vertical-align: middle;\n    }\n\n    .dataframe tbody tr th {\n        vertical-align: top;\n    }\n\n    .dataframe thead th {\n        text-align: right;\n    }\n</style>\n<table border=\"1\" class=\"dataframe\">\n  <thead>\n    <tr style=\"text-align: right;\">\n      <th></th>\n      <th>mean_mileage</th>\n      <th>mean_price</th>\n    </tr>\n  </thead>\n  <tbody>\n    <tr>\n      <th>audi</th>\n      <td>129157</td>\n      <td>9336</td>\n    </tr>\n    <tr>\n      <th>mercedes_benz</th>\n      <td>130788</td>\n      <td>8628</td>\n    </tr>\n    <tr>\n      <th>bmw</th>\n      <td>132572</td>\n      <td>8332</td>\n    </tr>\n    <tr>\n      <th>volkswagen</th>\n      <td>128707</td>\n      <td>5402</td>\n    </tr>\n    <tr>\n      <th>ford</th>\n      <td>124266</td>\n      <td>3749</td>\n    </tr>\n    <tr>\n      <th>opel</th>\n      <td>129310</td>\n      <td>2975</td>\n    </tr>\n  </tbody>\n</table>\n</div>"
     },
     "execution_count": 33,
     "metadata": {},
     "output_type": "execute_result"
    }
   ],
   "source": [
    "brand_info.sort_values(by='mean_price', ascending=False)"
   ],
   "metadata": {
    "collapsed": false,
    "ExecuteTime": {
     "end_time": "2024-03-25T22:17:42.960727Z",
     "start_time": "2024-03-25T22:17:42.952736Z"
    }
   },
   "id": "5f2d9f5f655088c5",
   "execution_count": 33
  },
  {
   "cell_type": "markdown",
   "source": [
    "The range of car mileages does not vary as much as the prices do by brand, instead all falling within 10% for the top brands. There is a slight trend to the more expensive vehicles having higher mileage, with the less expensive vehicles having lower mileage."
   ],
   "metadata": {
    "collapsed": false
   },
   "id": "e5d7ab49379d64a5"
  }
 ],
 "metadata": {
  "kernelspec": {
   "display_name": "Python 3",
   "language": "python",
   "name": "python3"
  },
  "language_info": {
   "codemirror_mode": {
    "name": "ipython",
    "version": 2
   },
   "file_extension": ".py",
   "mimetype": "text/x-python",
   "name": "python",
   "nbconvert_exporter": "python",
   "pygments_lexer": "ipython2",
   "version": "2.7.6"
  }
 },
 "nbformat": 4,
 "nbformat_minor": 5
}
