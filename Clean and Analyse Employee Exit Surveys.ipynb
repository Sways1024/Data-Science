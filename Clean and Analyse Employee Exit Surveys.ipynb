{
 "cells": [
  {
   "cell_type": "markdown",
   "source": [
    "Today, we're going to be analysing the exit survey data for the [Department of Education, Training and Employment (DETE)](https://en.wikipedia.org/wiki/Department_of_Education_and_Training_(Queensland)) and the [Technical and Further Education (TAFE) institute in Queensland, Australia](https://en.wikipedia.org/wiki/Technical_and_further_education). The TAFE exit survey can be found [here](https://data.gov.au/dataset/ds-qld-89970a3b-182b-41ea-aea2-6f9f17b5907e/details?q=exit%20survey) and the survey for the DETE can be found [here](https://data.gov.au/dataset/ds-qld-fe96ff30-d157-4a81-851d-215f2a0fe26d/details?q=exit%20survey). The aim of our analysis is to answer the following questions:\n",
    "\n",
    "- Are employees who only worked for the institutes for a short period of time resigning due to some kind of dissatisfaction? What about employees who have been there longer?\n",
    "- Are younger employees resigning due to some kind of dissatisfaction? What about older employees?\n",
    "\n",
    "At the end of the project, we will combine the results for both surveys to answer these questions. Let's start by reading in the datasets and exploring them."
   ],
   "metadata": {
    "collapsed": false
   },
   "id": "db64febe0017df2f"
  },
  {
   "cell_type": "markdown",
   "source": [
    "## Introduction\n",
    "\n",
    "Let's start by importing the neccesary libraries needed for this project, reading the datasets and exploring them."
   ],
   "metadata": {
    "collapsed": false
   },
   "id": "855ad2165ca8c4f8"
  },
  {
   "cell_type": "markdown",
   "source": [
    "## Importing the libraries and reading in the datasets"
   ],
   "metadata": {
    "collapsed": false
   },
   "id": "37f0f6636c178936"
  },
  {
   "cell_type": "code",
   "outputs": [],
   "source": [
    "import pandas as pd\n",
    "import numpy as np\n",
    "dete_survey = pd.read_csv('dete_survey.csv')"
   ],
   "metadata": {
    "collapsed": false,
    "ExecuteTime": {
     "end_time": "2024-05-28T23:39:15.562030Z",
     "start_time": "2024-05-28T23:39:15.260819Z"
    }
   },
   "id": "160c9f58cba59deb",
   "execution_count": 1
  },
  {
   "cell_type": "markdown",
   "source": [
    "## Exploring the DETE dataset\n",
    "\n",
    "We will explore the DETE dataset by checking the first few rows, the number of rows and columns, and the column names."
   ],
   "metadata": {
    "collapsed": false
   },
   "id": "9a5e3846708541b8"
  },
  {
   "cell_type": "code",
   "outputs": [
    {
     "data": {
      "text/plain": "   ID                    SeparationType Cease Date DETE Start Date  \\\n0   1             Ill Health Retirement    08/2012            1984   \n1   2  Voluntary Early Retirement (VER)    08/2012      Not Stated   \n2   3  Voluntary Early Retirement (VER)    05/2012            2011   \n3   4         Resignation-Other reasons    05/2012            2005   \n4   5                    Age Retirement    05/2012            1970   \n\n  Role Start Date                                      Position  \\\n0            2004                                Public Servant   \n1      Not Stated                                Public Servant   \n2            2011                               Schools Officer   \n3            2006                                       Teacher   \n4            1989  Head of Curriculum/Head of Special Education   \n\n  Classification              Region                      Business Unit  \\\n0        A01-A04      Central Office  Corporate Strategy and Peformance   \n1        AO5-AO7      Central Office  Corporate Strategy and Peformance   \n2            NaN      Central Office               Education Queensland   \n3        Primary  Central Queensland                                NaN   \n4            NaN          South East                                NaN   \n\n     Employment Status  Career move to public sector  \\\n0  Permanent Full-time                          True   \n1  Permanent Full-time                         False   \n2  Permanent Full-time                         False   \n3  Permanent Full-time                         False   \n4  Permanent Full-time                         False   \n\n   Career move to private sector  Interpersonal conflicts  \\\n0                          False                    False   \n1                          False                    False   \n2                          False                    False   \n3                           True                    False   \n4                          False                    False   \n\n   Job dissatisfaction  Dissatisfaction with the department  \\\n0                 True                                False   \n1                False                                False   \n2                False                                False   \n3                False                                False   \n4                False                                False   \n\n   Physical work environment  Lack of recognition  Lack of job security  \\\n0                      False                 True                 False   \n1                      False                False                 False   \n2                      False                False                 False   \n3                      False                False                 False   \n4                      False                False                 False   \n\n   Work location  Employment conditions  Maternity/family  Relocation  \\\n0          False                  False             False       False   \n1          False                  False             False       False   \n2          False                  False             False       False   \n3          False                  False             False       False   \n4          False                  False             False       False   \n\n   Study/Travel  Ill Health  Traumatic incident  Work life balance  Workload  \\\n0         False       False               False              False     False   \n1         False       False               False              False     False   \n2         False       False               False              False     False   \n3         False       False               False              False     False   \n4         False       False               False               True     False   \n\n   None of the above Professional Development Opportunities for promotion  \\\n0               True                        A                           A   \n1              False                        A                           A   \n2               True                        N                           N   \n3              False                        A                           N   \n4              False                        A                           A   \n\n  Staff morale Workplace issue Physical environment Worklife balance  \\\n0            N               N                    N                A   \n1            N               N                    N                N   \n2            N               N                    N                N   \n3            N               N                    A                A   \n4            N               N                    D                D   \n\n  Stress and pressure support Performance of supervisor Peer support  \\\n0                           A                         A            A   \n1                           A                         A            A   \n2                           N                         N            N   \n3                           N                         N            A   \n4                           N                         A            A   \n\n  Initiative Skills Coach Career Aspirations Feedback Further PD  \\\n0          N      N     N                  A        A          A   \n1          N      N     N                  A        A          A   \n2          N      N     N                  N        N          N   \n3          A      A     A                  A        A          A   \n4          A      A     A                  A       SA         SA   \n\n  Communication My say Information Kept informed Wellness programs  \\\n0             N      A           A             N                 N   \n1             N      A           A             N                 N   \n2             A      A           N             N                 N   \n3             A      A           A             A                 N   \n4             D      D           A             N                 A   \n\n  Health & Safety  Gender          Age Aboriginal Torres Strait South Sea  \\\n0               N    Male        56-60        NaN           NaN       NaN   \n1               N    Male        56-60        NaN           NaN       NaN   \n2               N    Male  61 or older        NaN           NaN       NaN   \n3               A  Female        36-40        NaN           NaN       NaN   \n4               M  Female  61 or older        NaN           NaN       NaN   \n\n  Disability NESB  \n0        NaN  Yes  \n1        NaN  NaN  \n2        NaN  NaN  \n3        NaN  NaN  \n4        NaN  NaN  ",
      "text/html": "<div>\n<style scoped>\n    .dataframe tbody tr th:only-of-type {\n        vertical-align: middle;\n    }\n\n    .dataframe tbody tr th {\n        vertical-align: top;\n    }\n\n    .dataframe thead th {\n        text-align: right;\n    }\n</style>\n<table border=\"1\" class=\"dataframe\">\n  <thead>\n    <tr style=\"text-align: right;\">\n      <th></th>\n      <th>ID</th>\n      <th>SeparationType</th>\n      <th>Cease Date</th>\n      <th>DETE Start Date</th>\n      <th>Role Start Date</th>\n      <th>Position</th>\n      <th>Classification</th>\n      <th>Region</th>\n      <th>Business Unit</th>\n      <th>Employment Status</th>\n      <th>Career move to public sector</th>\n      <th>Career move to private sector</th>\n      <th>Interpersonal conflicts</th>\n      <th>Job dissatisfaction</th>\n      <th>Dissatisfaction with the department</th>\n      <th>Physical work environment</th>\n      <th>Lack of recognition</th>\n      <th>Lack of job security</th>\n      <th>Work location</th>\n      <th>Employment conditions</th>\n      <th>Maternity/family</th>\n      <th>Relocation</th>\n      <th>Study/Travel</th>\n      <th>Ill Health</th>\n      <th>Traumatic incident</th>\n      <th>Work life balance</th>\n      <th>Workload</th>\n      <th>None of the above</th>\n      <th>Professional Development</th>\n      <th>Opportunities for promotion</th>\n      <th>Staff morale</th>\n      <th>Workplace issue</th>\n      <th>Physical environment</th>\n      <th>Worklife balance</th>\n      <th>Stress and pressure support</th>\n      <th>Performance of supervisor</th>\n      <th>Peer support</th>\n      <th>Initiative</th>\n      <th>Skills</th>\n      <th>Coach</th>\n      <th>Career Aspirations</th>\n      <th>Feedback</th>\n      <th>Further PD</th>\n      <th>Communication</th>\n      <th>My say</th>\n      <th>Information</th>\n      <th>Kept informed</th>\n      <th>Wellness programs</th>\n      <th>Health &amp; Safety</th>\n      <th>Gender</th>\n      <th>Age</th>\n      <th>Aboriginal</th>\n      <th>Torres Strait</th>\n      <th>South Sea</th>\n      <th>Disability</th>\n      <th>NESB</th>\n    </tr>\n  </thead>\n  <tbody>\n    <tr>\n      <th>0</th>\n      <td>1</td>\n      <td>Ill Health Retirement</td>\n      <td>08/2012</td>\n      <td>1984</td>\n      <td>2004</td>\n      <td>Public Servant</td>\n      <td>A01-A04</td>\n      <td>Central Office</td>\n      <td>Corporate Strategy and Peformance</td>\n      <td>Permanent Full-time</td>\n      <td>True</td>\n      <td>False</td>\n      <td>False</td>\n      <td>True</td>\n      <td>False</td>\n      <td>False</td>\n      <td>True</td>\n      <td>False</td>\n      <td>False</td>\n      <td>False</td>\n      <td>False</td>\n      <td>False</td>\n      <td>False</td>\n      <td>False</td>\n      <td>False</td>\n      <td>False</td>\n      <td>False</td>\n      <td>True</td>\n      <td>A</td>\n      <td>A</td>\n      <td>N</td>\n      <td>N</td>\n      <td>N</td>\n      <td>A</td>\n      <td>A</td>\n      <td>A</td>\n      <td>A</td>\n      <td>N</td>\n      <td>N</td>\n      <td>N</td>\n      <td>A</td>\n      <td>A</td>\n      <td>A</td>\n      <td>N</td>\n      <td>A</td>\n      <td>A</td>\n      <td>N</td>\n      <td>N</td>\n      <td>N</td>\n      <td>Male</td>\n      <td>56-60</td>\n      <td>NaN</td>\n      <td>NaN</td>\n      <td>NaN</td>\n      <td>NaN</td>\n      <td>Yes</td>\n    </tr>\n    <tr>\n      <th>1</th>\n      <td>2</td>\n      <td>Voluntary Early Retirement (VER)</td>\n      <td>08/2012</td>\n      <td>Not Stated</td>\n      <td>Not Stated</td>\n      <td>Public Servant</td>\n      <td>AO5-AO7</td>\n      <td>Central Office</td>\n      <td>Corporate Strategy and Peformance</td>\n      <td>Permanent Full-time</td>\n      <td>False</td>\n      <td>False</td>\n      <td>False</td>\n      <td>False</td>\n      <td>False</td>\n      <td>False</td>\n      <td>False</td>\n      <td>False</td>\n      <td>False</td>\n      <td>False</td>\n      <td>False</td>\n      <td>False</td>\n      <td>False</td>\n      <td>False</td>\n      <td>False</td>\n      <td>False</td>\n      <td>False</td>\n      <td>False</td>\n      <td>A</td>\n      <td>A</td>\n      <td>N</td>\n      <td>N</td>\n      <td>N</td>\n      <td>N</td>\n      <td>A</td>\n      <td>A</td>\n      <td>A</td>\n      <td>N</td>\n      <td>N</td>\n      <td>N</td>\n      <td>A</td>\n      <td>A</td>\n      <td>A</td>\n      <td>N</td>\n      <td>A</td>\n      <td>A</td>\n      <td>N</td>\n      <td>N</td>\n      <td>N</td>\n      <td>Male</td>\n      <td>56-60</td>\n      <td>NaN</td>\n      <td>NaN</td>\n      <td>NaN</td>\n      <td>NaN</td>\n      <td>NaN</td>\n    </tr>\n    <tr>\n      <th>2</th>\n      <td>3</td>\n      <td>Voluntary Early Retirement (VER)</td>\n      <td>05/2012</td>\n      <td>2011</td>\n      <td>2011</td>\n      <td>Schools Officer</td>\n      <td>NaN</td>\n      <td>Central Office</td>\n      <td>Education Queensland</td>\n      <td>Permanent Full-time</td>\n      <td>False</td>\n      <td>False</td>\n      <td>False</td>\n      <td>False</td>\n      <td>False</td>\n      <td>False</td>\n      <td>False</td>\n      <td>False</td>\n      <td>False</td>\n      <td>False</td>\n      <td>False</td>\n      <td>False</td>\n      <td>False</td>\n      <td>False</td>\n      <td>False</td>\n      <td>False</td>\n      <td>False</td>\n      <td>True</td>\n      <td>N</td>\n      <td>N</td>\n      <td>N</td>\n      <td>N</td>\n      <td>N</td>\n      <td>N</td>\n      <td>N</td>\n      <td>N</td>\n      <td>N</td>\n      <td>N</td>\n      <td>N</td>\n      <td>N</td>\n      <td>N</td>\n      <td>N</td>\n      <td>N</td>\n      <td>A</td>\n      <td>A</td>\n      <td>N</td>\n      <td>N</td>\n      <td>N</td>\n      <td>N</td>\n      <td>Male</td>\n      <td>61 or older</td>\n      <td>NaN</td>\n      <td>NaN</td>\n      <td>NaN</td>\n      <td>NaN</td>\n      <td>NaN</td>\n    </tr>\n    <tr>\n      <th>3</th>\n      <td>4</td>\n      <td>Resignation-Other reasons</td>\n      <td>05/2012</td>\n      <td>2005</td>\n      <td>2006</td>\n      <td>Teacher</td>\n      <td>Primary</td>\n      <td>Central Queensland</td>\n      <td>NaN</td>\n      <td>Permanent Full-time</td>\n      <td>False</td>\n      <td>True</td>\n      <td>False</td>\n      <td>False</td>\n      <td>False</td>\n      <td>False</td>\n      <td>False</td>\n      <td>False</td>\n      <td>False</td>\n      <td>False</td>\n      <td>False</td>\n      <td>False</td>\n      <td>False</td>\n      <td>False</td>\n      <td>False</td>\n      <td>False</td>\n      <td>False</td>\n      <td>False</td>\n      <td>A</td>\n      <td>N</td>\n      <td>N</td>\n      <td>N</td>\n      <td>A</td>\n      <td>A</td>\n      <td>N</td>\n      <td>N</td>\n      <td>A</td>\n      <td>A</td>\n      <td>A</td>\n      <td>A</td>\n      <td>A</td>\n      <td>A</td>\n      <td>A</td>\n      <td>A</td>\n      <td>A</td>\n      <td>A</td>\n      <td>A</td>\n      <td>N</td>\n      <td>A</td>\n      <td>Female</td>\n      <td>36-40</td>\n      <td>NaN</td>\n      <td>NaN</td>\n      <td>NaN</td>\n      <td>NaN</td>\n      <td>NaN</td>\n    </tr>\n    <tr>\n      <th>4</th>\n      <td>5</td>\n      <td>Age Retirement</td>\n      <td>05/2012</td>\n      <td>1970</td>\n      <td>1989</td>\n      <td>Head of Curriculum/Head of Special Education</td>\n      <td>NaN</td>\n      <td>South East</td>\n      <td>NaN</td>\n      <td>Permanent Full-time</td>\n      <td>False</td>\n      <td>False</td>\n      <td>False</td>\n      <td>False</td>\n      <td>False</td>\n      <td>False</td>\n      <td>False</td>\n      <td>False</td>\n      <td>False</td>\n      <td>False</td>\n      <td>False</td>\n      <td>False</td>\n      <td>False</td>\n      <td>False</td>\n      <td>False</td>\n      <td>True</td>\n      <td>False</td>\n      <td>False</td>\n      <td>A</td>\n      <td>A</td>\n      <td>N</td>\n      <td>N</td>\n      <td>D</td>\n      <td>D</td>\n      <td>N</td>\n      <td>A</td>\n      <td>A</td>\n      <td>A</td>\n      <td>A</td>\n      <td>A</td>\n      <td>A</td>\n      <td>SA</td>\n      <td>SA</td>\n      <td>D</td>\n      <td>D</td>\n      <td>A</td>\n      <td>N</td>\n      <td>A</td>\n      <td>M</td>\n      <td>Female</td>\n      <td>61 or older</td>\n      <td>NaN</td>\n      <td>NaN</td>\n      <td>NaN</td>\n      <td>NaN</td>\n      <td>NaN</td>\n    </tr>\n  </tbody>\n</table>\n</div>"
     },
     "execution_count": 2,
     "metadata": {},
     "output_type": "execute_result"
    }
   ],
   "source": [
    "#Quick exploration of the data sets\n",
    "pd.options.display.max_columns = 150 # to avoid truncated output\n",
    "dete_survey.head()"
   ],
   "metadata": {
    "collapsed": false,
    "ExecuteTime": {
     "end_time": "2024-05-28T23:39:15.580447Z",
     "start_time": "2024-05-28T23:39:15.564933Z"
    }
   },
   "id": "a601a523db6c9530",
   "execution_count": 2
  },
  {
   "cell_type": "code",
   "outputs": [
    {
     "name": "stdout",
     "output_type": "stream",
     "text": [
      "<class 'pandas.core.frame.DataFrame'>\n",
      "RangeIndex: 822 entries, 0 to 821\n",
      "Data columns (total 56 columns):\n",
      " #   Column                               Non-Null Count  Dtype \n",
      "---  ------                               --------------  ----- \n",
      " 0   ID                                   822 non-null    int64 \n",
      " 1   SeparationType                       822 non-null    object\n",
      " 2   Cease Date                           822 non-null    object\n",
      " 3   DETE Start Date                      822 non-null    object\n",
      " 4   Role Start Date                      822 non-null    object\n",
      " 5   Position                             817 non-null    object\n",
      " 6   Classification                       455 non-null    object\n",
      " 7   Region                               822 non-null    object\n",
      " 8   Business Unit                        126 non-null    object\n",
      " 9   Employment Status                    817 non-null    object\n",
      " 10  Career move to public sector         822 non-null    bool  \n",
      " 11  Career move to private sector        822 non-null    bool  \n",
      " 12  Interpersonal conflicts              822 non-null    bool  \n",
      " 13  Job dissatisfaction                  822 non-null    bool  \n",
      " 14  Dissatisfaction with the department  822 non-null    bool  \n",
      " 15  Physical work environment            822 non-null    bool  \n",
      " 16  Lack of recognition                  822 non-null    bool  \n",
      " 17  Lack of job security                 822 non-null    bool  \n",
      " 18  Work location                        822 non-null    bool  \n",
      " 19  Employment conditions                822 non-null    bool  \n",
      " 20  Maternity/family                     822 non-null    bool  \n",
      " 21  Relocation                           822 non-null    bool  \n",
      " 22  Study/Travel                         822 non-null    bool  \n",
      " 23  Ill Health                           822 non-null    bool  \n",
      " 24  Traumatic incident                   822 non-null    bool  \n",
      " 25  Work life balance                    822 non-null    bool  \n",
      " 26  Workload                             822 non-null    bool  \n",
      " 27  None of the above                    822 non-null    bool  \n",
      " 28  Professional Development             808 non-null    object\n",
      " 29  Opportunities for promotion          735 non-null    object\n",
      " 30  Staff morale                         816 non-null    object\n",
      " 31  Workplace issue                      788 non-null    object\n",
      " 32  Physical environment                 817 non-null    object\n",
      " 33  Worklife balance                     815 non-null    object\n",
      " 34  Stress and pressure support          810 non-null    object\n",
      " 35  Performance of supervisor            813 non-null    object\n",
      " 36  Peer support                         812 non-null    object\n",
      " 37  Initiative                           813 non-null    object\n",
      " 38  Skills                               811 non-null    object\n",
      " 39  Coach                                767 non-null    object\n",
      " 40  Career Aspirations                   746 non-null    object\n",
      " 41  Feedback                             792 non-null    object\n",
      " 42  Further PD                           768 non-null    object\n",
      " 43  Communication                        814 non-null    object\n",
      " 44  My say                               812 non-null    object\n",
      " 45  Information                          816 non-null    object\n",
      " 46  Kept informed                        813 non-null    object\n",
      " 47  Wellness programs                    766 non-null    object\n",
      " 48  Health & Safety                      793 non-null    object\n",
      " 49  Gender                               798 non-null    object\n",
      " 50  Age                                  811 non-null    object\n",
      " 51  Aboriginal                           16 non-null     object\n",
      " 52  Torres Strait                        3 non-null      object\n",
      " 53  South Sea                            7 non-null      object\n",
      " 54  Disability                           23 non-null     object\n",
      " 55  NESB                                 32 non-null     object\n",
      "dtypes: bool(18), int64(1), object(37)\n",
      "memory usage: 258.6+ KB\n"
     ]
    }
   ],
   "source": [
    "dete_survey.info()"
   ],
   "metadata": {
    "collapsed": false,
    "ExecuteTime": {
     "end_time": "2024-05-28T23:39:15.589578Z",
     "start_time": "2024-05-28T23:39:15.581694Z"
    }
   },
   "id": "abf8dfd6264386f5",
   "execution_count": 3
  },
  {
   "cell_type": "markdown",
   "source": [
    "Let's read our second data set and explore it."
   ],
   "metadata": {
    "collapsed": false
   },
   "id": "8ccf761fd8e006ee"
  },
  {
   "cell_type": "code",
   "outputs": [
    {
     "data": {
      "text/plain": "      Record ID                              Institute  \\\n0  6.341330e+17  Southern Queensland Institute of TAFE   \n1  6.341337e+17            Mount Isa Institute of TAFE   \n2  6.341388e+17            Mount Isa Institute of TAFE   \n3  6.341399e+17            Mount Isa Institute of TAFE   \n4  6.341466e+17  Southern Queensland Institute of TAFE   \n\n                   WorkArea  CESSATION YEAR Reason for ceasing employment  \\\n0  Non-Delivery (corporate)          2010.0              Contract Expired   \n1  Non-Delivery (corporate)          2010.0                    Retirement   \n2       Delivery (teaching)          2010.0                    Retirement   \n3  Non-Delivery (corporate)          2010.0                   Resignation   \n4       Delivery (teaching)          2010.0                   Resignation   \n\n  Contributing Factors. Career Move - Public Sector   \\\n0                                                NaN   \n1                                                  -   \n2                                                  -   \n3                                                  -   \n4                                                  -   \n\n  Contributing Factors. Career Move - Private Sector   \\\n0                                                NaN    \n1                                                  -    \n2                                                  -    \n3                                                  -    \n4                       Career Move - Private Sector    \n\n  Contributing Factors. Career Move - Self-employment  \\\n0                                                NaN    \n1                                                  -    \n2                                                  -    \n3                                                  -    \n4                                                  -    \n\n  Contributing Factors. Ill Health Contributing Factors. Maternity/Family  \\\n0                              NaN                                    NaN   \n1                                -                                      -   \n2                                -                                      -   \n3                                -                                      -   \n4                                -                                      -   \n\n  Contributing Factors. Dissatisfaction  \\\n0                                   NaN   \n1                                     -   \n2                                     -   \n3                                     -   \n4                                     -   \n\n  Contributing Factors. Job Dissatisfaction  \\\n0                                       NaN   \n1                                         -   \n2                                         -   \n3                                         -   \n4                                         -   \n\n  Contributing Factors. Interpersonal Conflict Contributing Factors. Study  \\\n0                                          NaN                         NaN   \n1                                            -                           -   \n2                                            -                           -   \n3                                            -                           -   \n4                                            -                           -   \n\n  Contributing Factors. Travel Contributing Factors. Other  \\\n0                          NaN                         NaN   \n1                       Travel                           -   \n2                            -                           -   \n3                       Travel                           -   \n4                            -                           -   \n\n  Contributing Factors. NONE  \\\n0                        NaN   \n1                          -   \n2                       NONE   \n3                          -   \n4                          -   \n\n  Main Factor. Which of these was the main factor for leaving?  \\\n0                                                NaN             \n1                                                NaN             \n2                                                NaN             \n3                                                NaN             \n4                                                NaN             \n\n  InstituteViews. Topic:1. I feel the senior leadership had a clear vision and direction  \\\n0                                              Agree                                       \n1                                              Agree                                       \n2                                              Agree                                       \n3                                              Agree                                       \n4                                              Agree                                       \n\n  InstituteViews. Topic:2. I was given access to skills training to help me do my job better  \\\n0                                              Agree                                           \n1                                              Agree                                           \n2                                              Agree                                           \n3                                              Agree                                           \n4                                              Agree                                           \n\n  InstituteViews. Topic:3. I was given adequate opportunities for personal development  \\\n0                                              Agree                                     \n1                                              Agree                                     \n2                                              Agree                                     \n3                                              Agree                                     \n4                                     Strongly Agree                                     \n\n  InstituteViews. Topic:4. I was given adequate opportunities for promotion within %Institute]Q25LBL%  \\\n0                                            Neutral                                                    \n1                                              Agree                                                    \n2                                              Agree                                                    \n3                                              Agree                                                    \n4                                              Agree                                                    \n\n  InstituteViews. Topic:5. I felt the salary for the job was right for the responsibilities I had  \\\n0                                              Agree                                                \n1                                              Agree                                                \n2                                              Agree                                                \n3                                              Agree                                                \n4                                     Strongly Agree                                                \n\n  InstituteViews. Topic:6. The organisation recognised when staff did good work  \\\n0                                              Agree                              \n1                                     Strongly Agree                              \n2                                              Agree                              \n3                                              Agree                              \n4                                     Strongly Agree                              \n\n  InstituteViews. Topic:7. Management was generally supportive of me  \\\n0                                              Agree                   \n1                                     Strongly Agree                   \n2                                     Strongly Agree                   \n3                                              Agree                   \n4                                     Strongly Agree                   \n\n  InstituteViews. Topic:8. Management was generally supportive of my team  \\\n0                                              Agree                        \n1                                              Agree                        \n2                                              Agree                        \n3                                              Agree                        \n4                                     Strongly Agree                        \n\n  InstituteViews. Topic:9. I was kept informed of the changes in the organisation which would affect me  \\\n0                                              Agree                                                      \n1                                     Strongly Agree                                                      \n2                                              Agree                                                      \n3                                              Agree                                                      \n4                                              Agree                                                      \n\n  InstituteViews. Topic:10. Staff morale was positive within the Institute  \\\n0                                              Agree                         \n1                                              Agree                         \n2                                              Agree                         \n3                                              Agree                         \n4                                     Strongly Agree                         \n\n  InstituteViews. Topic:11. If I had a workplace issue it was dealt with quickly  \\\n0                                              Agree                               \n1                                              Agree                               \n2                                              Agree                               \n3                                              Agree                               \n4                                     Strongly Agree                               \n\n  InstituteViews. Topic:12. If I had a workplace issue it was dealt with efficiently  \\\n0                                              Agree                                   \n1                                              Agree                                   \n2                                            Neutral                                   \n3                                              Agree                                   \n4                                              Agree                                   \n\n  InstituteViews. Topic:13. If I had a workplace issue it was dealt with discreetly  \\\n0                                              Agree                                  \n1                                           Disagree                                  \n2                                            Neutral                                  \n3                                              Agree                                  \n4                                     Strongly Agree                                  \n\n  WorkUnitViews. Topic:14. I was satisfied with the quality of the management and supervision within my work unit  \\\n0                                              Agree                                                                \n1                                     Strongly Agree                                                                \n2                                     Strongly Agree                                                                \n3                                     Strongly Agree                                                                \n4                                     Strongly Agree                                                                \n\n  WorkUnitViews. Topic:15. I worked well with my colleagues  \\\n0                                              Agree          \n1                                     Strongly Agree          \n2                                     Strongly Agree          \n3                                     Strongly Agree          \n4                                     Strongly Agree          \n\n  WorkUnitViews. Topic:16. My job was challenging and interesting  \\\n0                                              Agree                \n1                                     Strongly Agree                \n2                                              Agree                \n3                                     Strongly Agree                \n4                                     Strongly Agree                \n\n  WorkUnitViews. Topic:17. I was encouraged to use my initiative in the course of my work  \\\n0                                     Strongly Agree                                        \n1                                              Agree                                        \n2                                              Agree                                        \n3                                     Strongly Agree                                        \n4                                     Strongly Agree                                        \n\n  WorkUnitViews. Topic:18. I had sufficient contact with other people in my job  \\\n0                                              Agree                              \n1                                              Agree                              \n2                                              Agree                              \n3                                     Strongly Agree                              \n4                                     Strongly Agree                              \n\n  WorkUnitViews. Topic:19. I was given adequate support and co-operation by my peers to enable me to do my job  \\\n0                                              Agree                                                             \n1                                              Agree                                                             \n2                                              Agree                                                             \n3                                     Strongly Agree                                                             \n4                                     Strongly Agree                                                             \n\n  WorkUnitViews. Topic:20. I was able to use the full range of my skills in my job  \\\n0                                              Agree                                 \n1                                     Strongly Agree                                 \n2                                              Agree                                 \n3                                     Strongly Agree                                 \n4                                     Strongly Agree                                 \n\n  WorkUnitViews. Topic:21. I was able to use the full range of my abilities in my job. ; Category:Level of Agreement; Question:YOUR VIEWS ABOUT YOUR WORK UNIT]  \\\n0                                              Agree                                                                                                              \n1                                              Agree                                                                                                              \n2                                              Agree                                                                                                              \n3                                     Strongly Agree                                                                                                              \n4                                     Strongly Agree                                                                                                              \n\n  WorkUnitViews. Topic:22. I was able to use the full range of my knowledge in my job  \\\n0                                              Agree                                    \n1                                              Agree                                    \n2                                              Agree                                    \n3                                     Strongly Agree                                    \n4                                     Strongly Agree                                    \n\n  WorkUnitViews. Topic:23. My job provided sufficient variety  \\\n0                                              Agree            \n1                                              Agree            \n2                                              Agree            \n3                                     Strongly Agree            \n4                                     Strongly Agree            \n\n  WorkUnitViews. Topic:24. I was able to cope with the level of stress and pressure in my job  \\\n0                                              Agree                                            \n1                                     Strongly Agree                                            \n2                                              Agree                                            \n3                                     Strongly Agree                                            \n4                                     Strongly Agree                                            \n\n  WorkUnitViews. Topic:25. My job allowed me to balance the demands of work and family to my satisfaction  \\\n0                                              Agree                                                        \n1                                              Agree                                                        \n2                                              Agree                                                        \n3                                     Strongly Agree                                                        \n4                                     Strongly Agree                                                        \n\n  WorkUnitViews. Topic:26. My supervisor gave me adequate personal recognition and feedback on my performance  \\\n0                                              Agree                                                            \n1                                     Strongly Agree                                                            \n2                                              Agree                                                            \n3                                     Strongly Agree                                                            \n4                                     Strongly Agree                                                            \n\n  WorkUnitViews. Topic:27. My working environment was satisfactory e.g. sufficient space, good lighting, suitable seating and working area  \\\n0                                              Agree                                                                                         \n1                                     Strongly Agree                                                                                         \n2                                              Agree                                                                                         \n3                                     Strongly Agree                                                                                         \n4                                     Strongly Agree                                                                                         \n\n  WorkUnitViews. Topic:28. I was given the opportunity to mentor and coach others in order for me to pass on my skills and knowledge prior to my cessation date  \\\n0                                            Neutral                                                                                                              \n1                                              Agree                                                                                                              \n2                                              Agree                                                                                                              \n3                                     Strongly Agree                                                                                                              \n4                                     Strongly Agree                                                                                                              \n\n  WorkUnitViews. Topic:29. There was adequate communication between staff in my unit  \\\n0                                              Agree                                   \n1                                              Agree                                   \n2                                              Agree                                   \n3                                     Strongly Agree                                   \n4                                     Strongly Agree                                   \n\n  WorkUnitViews. Topic:30. Staff morale was positive within my work unit  \\\n0                                              Agree                       \n1                                     Strongly Agree                       \n2                                              Agree                       \n3                                     Strongly Agree                       \n4                                     Strongly Agree                       \n\n  Induction. Did you undertake Workplace Induction?  \\\n0                                               Yes   \n1                                                No   \n2                                                No   \n3                                               Yes   \n4                                               Yes   \n\n  InductionInfo. Topic:Did you undertake a Corporate Induction?  \\\n0                                                Yes              \n1                                                NaN              \n2                                                NaN              \n3                                                 No              \n4                                                Yes              \n\n  InductionInfo. Topic:Did you undertake a Institute Induction?  \\\n0                                                Yes              \n1                                                NaN              \n2                                                NaN              \n3                                                Yes              \n4                                                Yes              \n\n  InductionInfo. Topic: Did you undertake Team Induction?  \\\n0                                                Yes        \n1                                                NaN        \n2                                                NaN        \n3                                                Yes        \n4                                                Yes        \n\n  InductionInfo. Face to Face Topic:Did you undertake a Corporate Induction; Category:How it was conducted?  \\\n0                                       Face to Face                                                          \n1                                                NaN                                                          \n2                                                NaN                                                          \n3                                                  -                                                          \n4                                                  -                                                          \n\n  InductionInfo. On-line Topic:Did you undertake a Corporate Induction; Category:How it was conducted?  \\\n0                                                  -                                                     \n1                                                NaN                                                     \n2                                                NaN                                                     \n3                                                  -                                                     \n4                                                  -                                                     \n\n  InductionInfo. Induction Manual Topic:Did you undertake a Corporate Induction?  \\\n0                                                  -                               \n1                                                NaN                               \n2                                                NaN                               \n3                                                  -                               \n4                                   Induction Manual                               \n\n  InductionInfo. Face to Face Topic:Did you undertake a Institute Induction?  \\\n0                                       Face to Face                           \n1                                                NaN                           \n2                                                NaN                           \n3                                                NaN                           \n4                                       Face to Face                           \n\n  InductionInfo. On-line Topic:Did you undertake a Institute Induction?  \\\n0                                                  -                      \n1                                                NaN                      \n2                                                NaN                      \n3                                                  -                      \n4                                                  -                      \n\n  InductionInfo. Induction Manual Topic:Did you undertake a Institute Induction?  \\\n0                                                  -                               \n1                                                NaN                               \n2                                                NaN                               \n3                                                  -                               \n4                                                  -                               \n\n  InductionInfo. Face to Face Topic: Did you undertake Team Induction; Category?  \\\n0                                       Face to Face                               \n1                                                NaN                               \n2                                                NaN                               \n3                                                  -                               \n4                                       Face to Face                               \n\n  InductionInfo. On-line Topic: Did you undertake Team Induction?process you undertook and how it was conducted.]  \\\n0                                                  -                                                                \n1                                                NaN                                                                \n2                                                NaN                                                                \n3                                                  -                                                                \n4                                                  -                                                                \n\n  InductionInfo. Induction Manual Topic: Did you undertake Team Induction?  \\\n0                                                  -                         \n1                                                NaN                         \n2                                                NaN                         \n3                                                  -                         \n4                                                  -                         \n\n  Workplace. Topic:Did you and your Manager develop a Performance and Professional Development Plan (PPDP)?  \\\n0                                                Yes                                                          \n1                                                Yes                                                          \n2                                                Yes                                                          \n3                                                Yes                                                          \n4                                                Yes                                                          \n\n  Workplace. Topic:Does your workplace promote a work culture free from all forms of unlawful discrimination?  \\\n0                                                Yes                                                            \n1                                                Yes                                                            \n2                                                Yes                                                            \n3                                                Yes                                                            \n4                                                Yes                                                            \n\n  Workplace. Topic:Does your workplace promote and practice the principles of employment equity?  \\\n0                                                Yes                                               \n1                                                Yes                                               \n2                                                Yes                                               \n3                                                Yes                                               \n4                                                Yes                                               \n\n  Workplace. Topic:Does your workplace value the diversity of its employees?  \\\n0                                                Yes                           \n1                                                Yes                           \n2                                                Yes                           \n3                                                Yes                           \n4                                                Yes                           \n\n  Workplace. Topic:Would you recommend the Institute as an employer to others?  \\\n0                                                Yes                             \n1                                                Yes                             \n2                                                Yes                             \n3                                                Yes                             \n4                                                Yes                             \n\n  Gender. What is your Gender? CurrentAge. Current Age  \\\n0                       Female                  26  30   \n1                          NaN                     NaN   \n2                          NaN                     NaN   \n3                          NaN                     NaN   \n4                         Male                  41  45   \n\n  Employment Type. Employment Type Classification. Classification  \\\n0              Temporary Full-time            Administration (AO)   \n1                              NaN                            NaN   \n2                              NaN                            NaN   \n3                              NaN                            NaN   \n4              Permanent Full-time        Teacher (including LVT)   \n\n  LengthofServiceOverall. Overall Length of Service at Institute (in years)  \\\n0                                                1-2                          \n1                                                NaN                          \n2                                                NaN                          \n3                                                NaN                          \n4                                                3-4                          \n\n  LengthofServiceCurrent. Length of Service at current workplace (in years)  \n0                                                1-2                         \n1                                                NaN                         \n2                                                NaN                         \n3                                                NaN                         \n4                                                3-4                         ",
      "text/html": "<div>\n<style scoped>\n    .dataframe tbody tr th:only-of-type {\n        vertical-align: middle;\n    }\n\n    .dataframe tbody tr th {\n        vertical-align: top;\n    }\n\n    .dataframe thead th {\n        text-align: right;\n    }\n</style>\n<table border=\"1\" class=\"dataframe\">\n  <thead>\n    <tr style=\"text-align: right;\">\n      <th></th>\n      <th>Record ID</th>\n      <th>Institute</th>\n      <th>WorkArea</th>\n      <th>CESSATION YEAR</th>\n      <th>Reason for ceasing employment</th>\n      <th>Contributing Factors. Career Move - Public Sector</th>\n      <th>Contributing Factors. Career Move - Private Sector</th>\n      <th>Contributing Factors. Career Move - Self-employment</th>\n      <th>Contributing Factors. Ill Health</th>\n      <th>Contributing Factors. Maternity/Family</th>\n      <th>Contributing Factors. Dissatisfaction</th>\n      <th>Contributing Factors. Job Dissatisfaction</th>\n      <th>Contributing Factors. Interpersonal Conflict</th>\n      <th>Contributing Factors. Study</th>\n      <th>Contributing Factors. Travel</th>\n      <th>Contributing Factors. Other</th>\n      <th>Contributing Factors. NONE</th>\n      <th>Main Factor. Which of these was the main factor for leaving?</th>\n      <th>InstituteViews. Topic:1. I feel the senior leadership had a clear vision and direction</th>\n      <th>InstituteViews. Topic:2. I was given access to skills training to help me do my job better</th>\n      <th>InstituteViews. Topic:3. I was given adequate opportunities for personal development</th>\n      <th>InstituteViews. Topic:4. I was given adequate opportunities for promotion within %Institute]Q25LBL%</th>\n      <th>InstituteViews. Topic:5. I felt the salary for the job was right for the responsibilities I had</th>\n      <th>InstituteViews. Topic:6. The organisation recognised when staff did good work</th>\n      <th>InstituteViews. Topic:7. Management was generally supportive of me</th>\n      <th>InstituteViews. Topic:8. Management was generally supportive of my team</th>\n      <th>InstituteViews. Topic:9. I was kept informed of the changes in the organisation which would affect me</th>\n      <th>InstituteViews. Topic:10. Staff morale was positive within the Institute</th>\n      <th>InstituteViews. Topic:11. If I had a workplace issue it was dealt with quickly</th>\n      <th>InstituteViews. Topic:12. If I had a workplace issue it was dealt with efficiently</th>\n      <th>InstituteViews. Topic:13. If I had a workplace issue it was dealt with discreetly</th>\n      <th>WorkUnitViews. Topic:14. I was satisfied with the quality of the management and supervision within my work unit</th>\n      <th>WorkUnitViews. Topic:15. I worked well with my colleagues</th>\n      <th>WorkUnitViews. Topic:16. My job was challenging and interesting</th>\n      <th>WorkUnitViews. Topic:17. I was encouraged to use my initiative in the course of my work</th>\n      <th>WorkUnitViews. Topic:18. I had sufficient contact with other people in my job</th>\n      <th>WorkUnitViews. Topic:19. I was given adequate support and co-operation by my peers to enable me to do my job</th>\n      <th>WorkUnitViews. Topic:20. I was able to use the full range of my skills in my job</th>\n      <th>WorkUnitViews. Topic:21. I was able to use the full range of my abilities in my job. ; Category:Level of Agreement; Question:YOUR VIEWS ABOUT YOUR WORK UNIT]</th>\n      <th>WorkUnitViews. Topic:22. I was able to use the full range of my knowledge in my job</th>\n      <th>WorkUnitViews. Topic:23. My job provided sufficient variety</th>\n      <th>WorkUnitViews. Topic:24. I was able to cope with the level of stress and pressure in my job</th>\n      <th>WorkUnitViews. Topic:25. My job allowed me to balance the demands of work and family to my satisfaction</th>\n      <th>WorkUnitViews. Topic:26. My supervisor gave me adequate personal recognition and feedback on my performance</th>\n      <th>WorkUnitViews. Topic:27. My working environment was satisfactory e.g. sufficient space, good lighting, suitable seating and working area</th>\n      <th>WorkUnitViews. Topic:28. I was given the opportunity to mentor and coach others in order for me to pass on my skills and knowledge prior to my cessation date</th>\n      <th>WorkUnitViews. Topic:29. There was adequate communication between staff in my unit</th>\n      <th>WorkUnitViews. Topic:30. Staff morale was positive within my work unit</th>\n      <th>Induction. Did you undertake Workplace Induction?</th>\n      <th>InductionInfo. Topic:Did you undertake a Corporate Induction?</th>\n      <th>InductionInfo. Topic:Did you undertake a Institute Induction?</th>\n      <th>InductionInfo. Topic: Did you undertake Team Induction?</th>\n      <th>InductionInfo. Face to Face Topic:Did you undertake a Corporate Induction; Category:How it was conducted?</th>\n      <th>InductionInfo. On-line Topic:Did you undertake a Corporate Induction; Category:How it was conducted?</th>\n      <th>InductionInfo. Induction Manual Topic:Did you undertake a Corporate Induction?</th>\n      <th>InductionInfo. Face to Face Topic:Did you undertake a Institute Induction?</th>\n      <th>InductionInfo. On-line Topic:Did you undertake a Institute Induction?</th>\n      <th>InductionInfo. Induction Manual Topic:Did you undertake a Institute Induction?</th>\n      <th>InductionInfo. Face to Face Topic: Did you undertake Team Induction; Category?</th>\n      <th>InductionInfo. On-line Topic: Did you undertake Team Induction?process you undertook and how it was conducted.]</th>\n      <th>InductionInfo. Induction Manual Topic: Did you undertake Team Induction?</th>\n      <th>Workplace. Topic:Did you and your Manager develop a Performance and Professional Development Plan (PPDP)?</th>\n      <th>Workplace. Topic:Does your workplace promote a work culture free from all forms of unlawful discrimination?</th>\n      <th>Workplace. Topic:Does your workplace promote and practice the principles of employment equity?</th>\n      <th>Workplace. Topic:Does your workplace value the diversity of its employees?</th>\n      <th>Workplace. Topic:Would you recommend the Institute as an employer to others?</th>\n      <th>Gender. What is your Gender?</th>\n      <th>CurrentAge. Current Age</th>\n      <th>Employment Type. Employment Type</th>\n      <th>Classification. Classification</th>\n      <th>LengthofServiceOverall. Overall Length of Service at Institute (in years)</th>\n      <th>LengthofServiceCurrent. Length of Service at current workplace (in years)</th>\n    </tr>\n  </thead>\n  <tbody>\n    <tr>\n      <th>0</th>\n      <td>6.341330e+17</td>\n      <td>Southern Queensland Institute of TAFE</td>\n      <td>Non-Delivery (corporate)</td>\n      <td>2010.0</td>\n      <td>Contract Expired</td>\n      <td>NaN</td>\n      <td>NaN</td>\n      <td>NaN</td>\n      <td>NaN</td>\n      <td>NaN</td>\n      <td>NaN</td>\n      <td>NaN</td>\n      <td>NaN</td>\n      <td>NaN</td>\n      <td>NaN</td>\n      <td>NaN</td>\n      <td>NaN</td>\n      <td>NaN</td>\n      <td>Agree</td>\n      <td>Agree</td>\n      <td>Agree</td>\n      <td>Neutral</td>\n      <td>Agree</td>\n      <td>Agree</td>\n      <td>Agree</td>\n      <td>Agree</td>\n      <td>Agree</td>\n      <td>Agree</td>\n      <td>Agree</td>\n      <td>Agree</td>\n      <td>Agree</td>\n      <td>Agree</td>\n      <td>Agree</td>\n      <td>Agree</td>\n      <td>Strongly Agree</td>\n      <td>Agree</td>\n      <td>Agree</td>\n      <td>Agree</td>\n      <td>Agree</td>\n      <td>Agree</td>\n      <td>Agree</td>\n      <td>Agree</td>\n      <td>Agree</td>\n      <td>Agree</td>\n      <td>Agree</td>\n      <td>Neutral</td>\n      <td>Agree</td>\n      <td>Agree</td>\n      <td>Yes</td>\n      <td>Yes</td>\n      <td>Yes</td>\n      <td>Yes</td>\n      <td>Face to Face</td>\n      <td>-</td>\n      <td>-</td>\n      <td>Face to Face</td>\n      <td>-</td>\n      <td>-</td>\n      <td>Face to Face</td>\n      <td>-</td>\n      <td>-</td>\n      <td>Yes</td>\n      <td>Yes</td>\n      <td>Yes</td>\n      <td>Yes</td>\n      <td>Yes</td>\n      <td>Female</td>\n      <td>26  30</td>\n      <td>Temporary Full-time</td>\n      <td>Administration (AO)</td>\n      <td>1-2</td>\n      <td>1-2</td>\n    </tr>\n    <tr>\n      <th>1</th>\n      <td>6.341337e+17</td>\n      <td>Mount Isa Institute of TAFE</td>\n      <td>Non-Delivery (corporate)</td>\n      <td>2010.0</td>\n      <td>Retirement</td>\n      <td>-</td>\n      <td>-</td>\n      <td>-</td>\n      <td>-</td>\n      <td>-</td>\n      <td>-</td>\n      <td>-</td>\n      <td>-</td>\n      <td>-</td>\n      <td>Travel</td>\n      <td>-</td>\n      <td>-</td>\n      <td>NaN</td>\n      <td>Agree</td>\n      <td>Agree</td>\n      <td>Agree</td>\n      <td>Agree</td>\n      <td>Agree</td>\n      <td>Strongly Agree</td>\n      <td>Strongly Agree</td>\n      <td>Agree</td>\n      <td>Strongly Agree</td>\n      <td>Agree</td>\n      <td>Agree</td>\n      <td>Agree</td>\n      <td>Disagree</td>\n      <td>Strongly Agree</td>\n      <td>Strongly Agree</td>\n      <td>Strongly Agree</td>\n      <td>Agree</td>\n      <td>Agree</td>\n      <td>Agree</td>\n      <td>Strongly Agree</td>\n      <td>Agree</td>\n      <td>Agree</td>\n      <td>Agree</td>\n      <td>Strongly Agree</td>\n      <td>Agree</td>\n      <td>Strongly Agree</td>\n      <td>Strongly Agree</td>\n      <td>Agree</td>\n      <td>Agree</td>\n      <td>Strongly Agree</td>\n      <td>No</td>\n      <td>NaN</td>\n      <td>NaN</td>\n      <td>NaN</td>\n      <td>NaN</td>\n      <td>NaN</td>\n      <td>NaN</td>\n      <td>NaN</td>\n      <td>NaN</td>\n      <td>NaN</td>\n      <td>NaN</td>\n      <td>NaN</td>\n      <td>NaN</td>\n      <td>Yes</td>\n      <td>Yes</td>\n      <td>Yes</td>\n      <td>Yes</td>\n      <td>Yes</td>\n      <td>NaN</td>\n      <td>NaN</td>\n      <td>NaN</td>\n      <td>NaN</td>\n      <td>NaN</td>\n      <td>NaN</td>\n    </tr>\n    <tr>\n      <th>2</th>\n      <td>6.341388e+17</td>\n      <td>Mount Isa Institute of TAFE</td>\n      <td>Delivery (teaching)</td>\n      <td>2010.0</td>\n      <td>Retirement</td>\n      <td>-</td>\n      <td>-</td>\n      <td>-</td>\n      <td>-</td>\n      <td>-</td>\n      <td>-</td>\n      <td>-</td>\n      <td>-</td>\n      <td>-</td>\n      <td>-</td>\n      <td>-</td>\n      <td>NONE</td>\n      <td>NaN</td>\n      <td>Agree</td>\n      <td>Agree</td>\n      <td>Agree</td>\n      <td>Agree</td>\n      <td>Agree</td>\n      <td>Agree</td>\n      <td>Strongly Agree</td>\n      <td>Agree</td>\n      <td>Agree</td>\n      <td>Agree</td>\n      <td>Agree</td>\n      <td>Neutral</td>\n      <td>Neutral</td>\n      <td>Strongly Agree</td>\n      <td>Strongly Agree</td>\n      <td>Agree</td>\n      <td>Agree</td>\n      <td>Agree</td>\n      <td>Agree</td>\n      <td>Agree</td>\n      <td>Agree</td>\n      <td>Agree</td>\n      <td>Agree</td>\n      <td>Agree</td>\n      <td>Agree</td>\n      <td>Agree</td>\n      <td>Agree</td>\n      <td>Agree</td>\n      <td>Agree</td>\n      <td>Agree</td>\n      <td>No</td>\n      <td>NaN</td>\n      <td>NaN</td>\n      <td>NaN</td>\n      <td>NaN</td>\n      <td>NaN</td>\n      <td>NaN</td>\n      <td>NaN</td>\n      <td>NaN</td>\n      <td>NaN</td>\n      <td>NaN</td>\n      <td>NaN</td>\n      <td>NaN</td>\n      <td>Yes</td>\n      <td>Yes</td>\n      <td>Yes</td>\n      <td>Yes</td>\n      <td>Yes</td>\n      <td>NaN</td>\n      <td>NaN</td>\n      <td>NaN</td>\n      <td>NaN</td>\n      <td>NaN</td>\n      <td>NaN</td>\n    </tr>\n    <tr>\n      <th>3</th>\n      <td>6.341399e+17</td>\n      <td>Mount Isa Institute of TAFE</td>\n      <td>Non-Delivery (corporate)</td>\n      <td>2010.0</td>\n      <td>Resignation</td>\n      <td>-</td>\n      <td>-</td>\n      <td>-</td>\n      <td>-</td>\n      <td>-</td>\n      <td>-</td>\n      <td>-</td>\n      <td>-</td>\n      <td>-</td>\n      <td>Travel</td>\n      <td>-</td>\n      <td>-</td>\n      <td>NaN</td>\n      <td>Agree</td>\n      <td>Agree</td>\n      <td>Agree</td>\n      <td>Agree</td>\n      <td>Agree</td>\n      <td>Agree</td>\n      <td>Agree</td>\n      <td>Agree</td>\n      <td>Agree</td>\n      <td>Agree</td>\n      <td>Agree</td>\n      <td>Agree</td>\n      <td>Agree</td>\n      <td>Strongly Agree</td>\n      <td>Strongly Agree</td>\n      <td>Strongly Agree</td>\n      <td>Strongly Agree</td>\n      <td>Strongly Agree</td>\n      <td>Strongly Agree</td>\n      <td>Strongly Agree</td>\n      <td>Strongly Agree</td>\n      <td>Strongly Agree</td>\n      <td>Strongly Agree</td>\n      <td>Strongly Agree</td>\n      <td>Strongly Agree</td>\n      <td>Strongly Agree</td>\n      <td>Strongly Agree</td>\n      <td>Strongly Agree</td>\n      <td>Strongly Agree</td>\n      <td>Strongly Agree</td>\n      <td>Yes</td>\n      <td>No</td>\n      <td>Yes</td>\n      <td>Yes</td>\n      <td>-</td>\n      <td>-</td>\n      <td>-</td>\n      <td>NaN</td>\n      <td>-</td>\n      <td>-</td>\n      <td>-</td>\n      <td>-</td>\n      <td>-</td>\n      <td>Yes</td>\n      <td>Yes</td>\n      <td>Yes</td>\n      <td>Yes</td>\n      <td>Yes</td>\n      <td>NaN</td>\n      <td>NaN</td>\n      <td>NaN</td>\n      <td>NaN</td>\n      <td>NaN</td>\n      <td>NaN</td>\n    </tr>\n    <tr>\n      <th>4</th>\n      <td>6.341466e+17</td>\n      <td>Southern Queensland Institute of TAFE</td>\n      <td>Delivery (teaching)</td>\n      <td>2010.0</td>\n      <td>Resignation</td>\n      <td>-</td>\n      <td>Career Move - Private Sector</td>\n      <td>-</td>\n      <td>-</td>\n      <td>-</td>\n      <td>-</td>\n      <td>-</td>\n      <td>-</td>\n      <td>-</td>\n      <td>-</td>\n      <td>-</td>\n      <td>-</td>\n      <td>NaN</td>\n      <td>Agree</td>\n      <td>Agree</td>\n      <td>Strongly Agree</td>\n      <td>Agree</td>\n      <td>Strongly Agree</td>\n      <td>Strongly Agree</td>\n      <td>Strongly Agree</td>\n      <td>Strongly Agree</td>\n      <td>Agree</td>\n      <td>Strongly Agree</td>\n      <td>Strongly Agree</td>\n      <td>Agree</td>\n      <td>Strongly Agree</td>\n      <td>Strongly Agree</td>\n      <td>Strongly Agree</td>\n      <td>Strongly Agree</td>\n      <td>Strongly Agree</td>\n      <td>Strongly Agree</td>\n      <td>Strongly Agree</td>\n      <td>Strongly Agree</td>\n      <td>Strongly Agree</td>\n      <td>Strongly Agree</td>\n      <td>Strongly Agree</td>\n      <td>Strongly Agree</td>\n      <td>Strongly Agree</td>\n      <td>Strongly Agree</td>\n      <td>Strongly Agree</td>\n      <td>Strongly Agree</td>\n      <td>Strongly Agree</td>\n      <td>Strongly Agree</td>\n      <td>Yes</td>\n      <td>Yes</td>\n      <td>Yes</td>\n      <td>Yes</td>\n      <td>-</td>\n      <td>-</td>\n      <td>Induction Manual</td>\n      <td>Face to Face</td>\n      <td>-</td>\n      <td>-</td>\n      <td>Face to Face</td>\n      <td>-</td>\n      <td>-</td>\n      <td>Yes</td>\n      <td>Yes</td>\n      <td>Yes</td>\n      <td>Yes</td>\n      <td>Yes</td>\n      <td>Male</td>\n      <td>41  45</td>\n      <td>Permanent Full-time</td>\n      <td>Teacher (including LVT)</td>\n      <td>3-4</td>\n      <td>3-4</td>\n    </tr>\n  </tbody>\n</table>\n</div>"
     },
     "execution_count": 4,
     "metadata": {},
     "output_type": "execute_result"
    }
   ],
   "source": [
    "#Read the data\n",
    "tafe_survey = pd.read_csv('tafe_survey.csv')\n",
    "\n",
    "#Exploring the data\n",
    "tafe_survey.head()"
   ],
   "metadata": {
    "collapsed": false,
    "ExecuteTime": {
     "end_time": "2024-05-28T23:39:15.612867Z",
     "start_time": "2024-05-28T23:39:15.591390Z"
    }
   },
   "id": "62809dd551de5a94",
   "execution_count": 4
  },
  {
   "cell_type": "code",
   "outputs": [
    {
     "name": "stdout",
     "output_type": "stream",
     "text": [
      "<class 'pandas.core.frame.DataFrame'>\n",
      "RangeIndex: 702 entries, 0 to 701\n",
      "Data columns (total 72 columns):\n",
      " #   Column                                                                                                                                                         Non-Null Count  Dtype  \n",
      "---  ------                                                                                                                                                         --------------  -----  \n",
      " 0   Record ID                                                                                                                                                      702 non-null    float64\n",
      " 1   Institute                                                                                                                                                      702 non-null    object \n",
      " 2   WorkArea                                                                                                                                                       702 non-null    object \n",
      " 3   CESSATION YEAR                                                                                                                                                 695 non-null    float64\n",
      " 4   Reason for ceasing employment                                                                                                                                  701 non-null    object \n",
      " 5   Contributing Factors. Career Move - Public Sector                                                                                                              437 non-null    object \n",
      " 6   Contributing Factors. Career Move - Private Sector                                                                                                             437 non-null    object \n",
      " 7   Contributing Factors. Career Move - Self-employment                                                                                                            437 non-null    object \n",
      " 8   Contributing Factors. Ill Health                                                                                                                               437 non-null    object \n",
      " 9   Contributing Factors. Maternity/Family                                                                                                                         437 non-null    object \n",
      " 10  Contributing Factors. Dissatisfaction                                                                                                                          437 non-null    object \n",
      " 11  Contributing Factors. Job Dissatisfaction                                                                                                                      437 non-null    object \n",
      " 12  Contributing Factors. Interpersonal Conflict                                                                                                                   437 non-null    object \n",
      " 13  Contributing Factors. Study                                                                                                                                    437 non-null    object \n",
      " 14  Contributing Factors. Travel                                                                                                                                   437 non-null    object \n",
      " 15  Contributing Factors. Other                                                                                                                                    437 non-null    object \n",
      " 16  Contributing Factors. NONE                                                                                                                                     437 non-null    object \n",
      " 17  Main Factor. Which of these was the main factor for leaving?                                                                                                   113 non-null    object \n",
      " 18  InstituteViews. Topic:1. I feel the senior leadership had a clear vision and direction                                                                         608 non-null    object \n",
      " 19  InstituteViews. Topic:2. I was given access to skills training to help me do my job better                                                                     613 non-null    object \n",
      " 20  InstituteViews. Topic:3. I was given adequate opportunities for personal development                                                                           610 non-null    object \n",
      " 21  InstituteViews. Topic:4. I was given adequate opportunities for promotion within %Institute]Q25LBL%                                                            608 non-null    object \n",
      " 22  InstituteViews. Topic:5. I felt the salary for the job was right for the responsibilities I had                                                                615 non-null    object \n",
      " 23  InstituteViews. Topic:6. The organisation recognised when staff did good work                                                                                  607 non-null    object \n",
      " 24  InstituteViews. Topic:7. Management was generally supportive of me                                                                                             614 non-null    object \n",
      " 25  InstituteViews. Topic:8. Management was generally supportive of my team                                                                                        608 non-null    object \n",
      " 26  InstituteViews. Topic:9. I was kept informed of the changes in the organisation which would affect me                                                          610 non-null    object \n",
      " 27  InstituteViews. Topic:10. Staff morale was positive within the Institute                                                                                       602 non-null    object \n",
      " 28  InstituteViews. Topic:11. If I had a workplace issue it was dealt with quickly                                                                                 601 non-null    object \n",
      " 29  InstituteViews. Topic:12. If I had a workplace issue it was dealt with efficiently                                                                             597 non-null    object \n",
      " 30  InstituteViews. Topic:13. If I had a workplace issue it was dealt with discreetly                                                                              601 non-null    object \n",
      " 31  WorkUnitViews. Topic:14. I was satisfied with the quality of the management and supervision within my work unit                                                609 non-null    object \n",
      " 32  WorkUnitViews. Topic:15. I worked well with my colleagues                                                                                                      605 non-null    object \n",
      " 33  WorkUnitViews. Topic:16. My job was challenging and interesting                                                                                                607 non-null    object \n",
      " 34  WorkUnitViews. Topic:17. I was encouraged to use my initiative in the course of my work                                                                        610 non-null    object \n",
      " 35  WorkUnitViews. Topic:18. I had sufficient contact with other people in my job                                                                                  613 non-null    object \n",
      " 36  WorkUnitViews. Topic:19. I was given adequate support and co-operation by my peers to enable me to do my job                                                   609 non-null    object \n",
      " 37  WorkUnitViews. Topic:20. I was able to use the full range of my skills in my job                                                                               609 non-null    object \n",
      " 38  WorkUnitViews. Topic:21. I was able to use the full range of my abilities in my job. ; Category:Level of Agreement; Question:YOUR VIEWS ABOUT YOUR WORK UNIT]  608 non-null    object \n",
      " 39  WorkUnitViews. Topic:22. I was able to use the full range of my knowledge in my job                                                                            608 non-null    object \n",
      " 40  WorkUnitViews. Topic:23. My job provided sufficient variety                                                                                                    611 non-null    object \n",
      " 41  WorkUnitViews. Topic:24. I was able to cope with the level of stress and pressure in my job                                                                    610 non-null    object \n",
      " 42  WorkUnitViews. Topic:25. My job allowed me to balance the demands of work and family to my satisfaction                                                        611 non-null    object \n",
      " 43  WorkUnitViews. Topic:26. My supervisor gave me adequate personal recognition and feedback on my performance                                                    606 non-null    object \n",
      " 44  WorkUnitViews. Topic:27. My working environment was satisfactory e.g. sufficient space, good lighting, suitable seating and working area                       610 non-null    object \n",
      " 45  WorkUnitViews. Topic:28. I was given the opportunity to mentor and coach others in order for me to pass on my skills and knowledge prior to my cessation date  609 non-null    object \n",
      " 46  WorkUnitViews. Topic:29. There was adequate communication between staff in my unit                                                                             603 non-null    object \n",
      " 47  WorkUnitViews. Topic:30. Staff morale was positive within my work unit                                                                                         606 non-null    object \n",
      " 48  Induction. Did you undertake Workplace Induction?                                                                                                              619 non-null    object \n",
      " 49  InductionInfo. Topic:Did you undertake a Corporate Induction?                                                                                                  432 non-null    object \n",
      " 50  InductionInfo. Topic:Did you undertake a Institute Induction?                                                                                                  483 non-null    object \n",
      " 51  InductionInfo. Topic: Did you undertake Team Induction?                                                                                                        440 non-null    object \n",
      " 52  InductionInfo. Face to Face Topic:Did you undertake a Corporate Induction; Category:How it was conducted?                                                      555 non-null    object \n",
      " 53  InductionInfo. On-line Topic:Did you undertake a Corporate Induction; Category:How it was conducted?                                                           555 non-null    object \n",
      " 54  InductionInfo. Induction Manual Topic:Did you undertake a Corporate Induction?                                                                                 555 non-null    object \n",
      " 55  InductionInfo. Face to Face Topic:Did you undertake a Institute Induction?                                                                                     530 non-null    object \n",
      " 56  InductionInfo. On-line Topic:Did you undertake a Institute Induction?                                                                                          555 non-null    object \n",
      " 57  InductionInfo. Induction Manual Topic:Did you undertake a Institute Induction?                                                                                 553 non-null    object \n",
      " 58  InductionInfo. Face to Face Topic: Did you undertake Team Induction; Category?                                                                                 555 non-null    object \n",
      " 59  InductionInfo. On-line Topic: Did you undertake Team Induction?process you undertook and how it was conducted.]                                                555 non-null    object \n",
      " 60  InductionInfo. Induction Manual Topic: Did you undertake Team Induction?                                                                                       555 non-null    object \n",
      " 61  Workplace. Topic:Did you and your Manager develop a Performance and Professional Development Plan (PPDP)?                                                      608 non-null    object \n",
      " 62  Workplace. Topic:Does your workplace promote a work culture free from all forms of unlawful discrimination?                                                    594 non-null    object \n",
      " 63  Workplace. Topic:Does your workplace promote and practice the principles of employment equity?                                                                 587 non-null    object \n",
      " 64  Workplace. Topic:Does your workplace value the diversity of its employees?                                                                                     586 non-null    object \n",
      " 65  Workplace. Topic:Would you recommend the Institute as an employer to others?                                                                                   581 non-null    object \n",
      " 66  Gender. What is your Gender?                                                                                                                                   596 non-null    object \n",
      " 67  CurrentAge. Current Age                                                                                                                                        596 non-null    object \n",
      " 68  Employment Type. Employment Type                                                                                                                               596 non-null    object \n",
      " 69  Classification. Classification                                                                                                                                 596 non-null    object \n",
      " 70  LengthofServiceOverall. Overall Length of Service at Institute (in years)                                                                                      596 non-null    object \n",
      " 71  LengthofServiceCurrent. Length of Service at current workplace (in years)                                                                                      596 non-null    object \n",
      "dtypes: float64(2), object(70)\n",
      "memory usage: 395.0+ KB\n"
     ]
    }
   ],
   "source": [
    "tafe_survey.info()"
   ],
   "metadata": {
    "collapsed": false,
    "ExecuteTime": {
     "end_time": "2024-05-28T23:39:15.622221Z",
     "start_time": "2024-05-28T23:39:15.614711Z"
    }
   },
   "id": "42a7e869212d6cbc",
   "execution_count": 5
  },
  {
   "cell_type": "markdown",
   "source": [
    "From the above, we can make some observations:\n",
    "- The DETE dataset contains `Not Stated` values that indicate values are missing, but they aren't represented as NaN.\n",
    "- Both datasets contain many columns that we don't need to complete our analysis.\n",
    "- Each dataset contains many of the same columns, but the column names are different.\n",
    "- There are multiple columns/answers that indicate an employee resigned because they were dissatisfied."
   ],
   "metadata": {
    "collapsed": false
   },
   "id": "139c904c6e798d8c"
  },
  {
   "cell_type": "markdown",
   "source": [
    "## Identifying missing values and dropping unneccesary columns.\n",
    "\n",
    "We'll correct the `Not Stated` values in the DETE dataset and drop some columns that we don't need for our analysis.\n"
   ],
   "metadata": {
    "collapsed": false
   },
   "id": "a12c0ae39da4b0f0"
  },
  {
   "cell_type": "code",
   "outputs": [
    {
     "data": {
      "text/plain": "   ID                    SeparationType Cease Date  DETE Start Date  \\\n0   1             Ill Health Retirement    08/2012           1984.0   \n1   2  Voluntary Early Retirement (VER)    08/2012              NaN   \n2   3  Voluntary Early Retirement (VER)    05/2012           2011.0   \n3   4         Resignation-Other reasons    05/2012           2005.0   \n4   5                    Age Retirement    05/2012           1970.0   \n\n   Role Start Date                                      Position  \\\n0           2004.0                                Public Servant   \n1              NaN                                Public Servant   \n2           2011.0                               Schools Officer   \n3           2006.0                                       Teacher   \n4           1989.0  Head of Curriculum/Head of Special Education   \n\n  Classification              Region                      Business Unit  \\\n0        A01-A04      Central Office  Corporate Strategy and Peformance   \n1        AO5-AO7      Central Office  Corporate Strategy and Peformance   \n2            NaN      Central Office               Education Queensland   \n3        Primary  Central Queensland                                NaN   \n4            NaN          South East                                NaN   \n\n     Employment Status  Career move to public sector  \\\n0  Permanent Full-time                          True   \n1  Permanent Full-time                         False   \n2  Permanent Full-time                         False   \n3  Permanent Full-time                         False   \n4  Permanent Full-time                         False   \n\n   Career move to private sector  Interpersonal conflicts  \\\n0                          False                    False   \n1                          False                    False   \n2                          False                    False   \n3                           True                    False   \n4                          False                    False   \n\n   Job dissatisfaction  Dissatisfaction with the department  \\\n0                 True                                False   \n1                False                                False   \n2                False                                False   \n3                False                                False   \n4                False                                False   \n\n   Physical work environment  Lack of recognition  Lack of job security  \\\n0                      False                 True                 False   \n1                      False                False                 False   \n2                      False                False                 False   \n3                      False                False                 False   \n4                      False                False                 False   \n\n   Work location  Employment conditions  Maternity/family  Relocation  \\\n0          False                  False             False       False   \n1          False                  False             False       False   \n2          False                  False             False       False   \n3          False                  False             False       False   \n4          False                  False             False       False   \n\n   Study/Travel  Ill Health  Traumatic incident  Work life balance  Workload  \\\n0         False       False               False              False     False   \n1         False       False               False              False     False   \n2         False       False               False              False     False   \n3         False       False               False              False     False   \n4         False       False               False               True     False   \n\n   None of the above Professional Development Opportunities for promotion  \\\n0               True                        A                           A   \n1              False                        A                           A   \n2               True                        N                           N   \n3              False                        A                           N   \n4              False                        A                           A   \n\n  Staff morale Workplace issue Physical environment Worklife balance  \\\n0            N               N                    N                A   \n1            N               N                    N                N   \n2            N               N                    N                N   \n3            N               N                    A                A   \n4            N               N                    D                D   \n\n  Stress and pressure support Performance of supervisor Peer support  \\\n0                           A                         A            A   \n1                           A                         A            A   \n2                           N                         N            N   \n3                           N                         N            A   \n4                           N                         A            A   \n\n  Initiative Skills Coach Career Aspirations Feedback Further PD  \\\n0          N      N     N                  A        A          A   \n1          N      N     N                  A        A          A   \n2          N      N     N                  N        N          N   \n3          A      A     A                  A        A          A   \n4          A      A     A                  A       SA         SA   \n\n  Communication My say Information Kept informed Wellness programs  \\\n0             N      A           A             N                 N   \n1             N      A           A             N                 N   \n2             A      A           N             N                 N   \n3             A      A           A             A                 N   \n4             D      D           A             N                 A   \n\n  Health & Safety  Gender          Age Aboriginal Torres Strait South Sea  \\\n0               N    Male        56-60        NaN           NaN       NaN   \n1               N    Male        56-60        NaN           NaN       NaN   \n2               N    Male  61 or older        NaN           NaN       NaN   \n3               A  Female        36-40        NaN           NaN       NaN   \n4               M  Female  61 or older        NaN           NaN       NaN   \n\n  Disability NESB  \n0        NaN  Yes  \n1        NaN  NaN  \n2        NaN  NaN  \n3        NaN  NaN  \n4        NaN  NaN  ",
      "text/html": "<div>\n<style scoped>\n    .dataframe tbody tr th:only-of-type {\n        vertical-align: middle;\n    }\n\n    .dataframe tbody tr th {\n        vertical-align: top;\n    }\n\n    .dataframe thead th {\n        text-align: right;\n    }\n</style>\n<table border=\"1\" class=\"dataframe\">\n  <thead>\n    <tr style=\"text-align: right;\">\n      <th></th>\n      <th>ID</th>\n      <th>SeparationType</th>\n      <th>Cease Date</th>\n      <th>DETE Start Date</th>\n      <th>Role Start Date</th>\n      <th>Position</th>\n      <th>Classification</th>\n      <th>Region</th>\n      <th>Business Unit</th>\n      <th>Employment Status</th>\n      <th>Career move to public sector</th>\n      <th>Career move to private sector</th>\n      <th>Interpersonal conflicts</th>\n      <th>Job dissatisfaction</th>\n      <th>Dissatisfaction with the department</th>\n      <th>Physical work environment</th>\n      <th>Lack of recognition</th>\n      <th>Lack of job security</th>\n      <th>Work location</th>\n      <th>Employment conditions</th>\n      <th>Maternity/family</th>\n      <th>Relocation</th>\n      <th>Study/Travel</th>\n      <th>Ill Health</th>\n      <th>Traumatic incident</th>\n      <th>Work life balance</th>\n      <th>Workload</th>\n      <th>None of the above</th>\n      <th>Professional Development</th>\n      <th>Opportunities for promotion</th>\n      <th>Staff morale</th>\n      <th>Workplace issue</th>\n      <th>Physical environment</th>\n      <th>Worklife balance</th>\n      <th>Stress and pressure support</th>\n      <th>Performance of supervisor</th>\n      <th>Peer support</th>\n      <th>Initiative</th>\n      <th>Skills</th>\n      <th>Coach</th>\n      <th>Career Aspirations</th>\n      <th>Feedback</th>\n      <th>Further PD</th>\n      <th>Communication</th>\n      <th>My say</th>\n      <th>Information</th>\n      <th>Kept informed</th>\n      <th>Wellness programs</th>\n      <th>Health &amp; Safety</th>\n      <th>Gender</th>\n      <th>Age</th>\n      <th>Aboriginal</th>\n      <th>Torres Strait</th>\n      <th>South Sea</th>\n      <th>Disability</th>\n      <th>NESB</th>\n    </tr>\n  </thead>\n  <tbody>\n    <tr>\n      <th>0</th>\n      <td>1</td>\n      <td>Ill Health Retirement</td>\n      <td>08/2012</td>\n      <td>1984.0</td>\n      <td>2004.0</td>\n      <td>Public Servant</td>\n      <td>A01-A04</td>\n      <td>Central Office</td>\n      <td>Corporate Strategy and Peformance</td>\n      <td>Permanent Full-time</td>\n      <td>True</td>\n      <td>False</td>\n      <td>False</td>\n      <td>True</td>\n      <td>False</td>\n      <td>False</td>\n      <td>True</td>\n      <td>False</td>\n      <td>False</td>\n      <td>False</td>\n      <td>False</td>\n      <td>False</td>\n      <td>False</td>\n      <td>False</td>\n      <td>False</td>\n      <td>False</td>\n      <td>False</td>\n      <td>True</td>\n      <td>A</td>\n      <td>A</td>\n      <td>N</td>\n      <td>N</td>\n      <td>N</td>\n      <td>A</td>\n      <td>A</td>\n      <td>A</td>\n      <td>A</td>\n      <td>N</td>\n      <td>N</td>\n      <td>N</td>\n      <td>A</td>\n      <td>A</td>\n      <td>A</td>\n      <td>N</td>\n      <td>A</td>\n      <td>A</td>\n      <td>N</td>\n      <td>N</td>\n      <td>N</td>\n      <td>Male</td>\n      <td>56-60</td>\n      <td>NaN</td>\n      <td>NaN</td>\n      <td>NaN</td>\n      <td>NaN</td>\n      <td>Yes</td>\n    </tr>\n    <tr>\n      <th>1</th>\n      <td>2</td>\n      <td>Voluntary Early Retirement (VER)</td>\n      <td>08/2012</td>\n      <td>NaN</td>\n      <td>NaN</td>\n      <td>Public Servant</td>\n      <td>AO5-AO7</td>\n      <td>Central Office</td>\n      <td>Corporate Strategy and Peformance</td>\n      <td>Permanent Full-time</td>\n      <td>False</td>\n      <td>False</td>\n      <td>False</td>\n      <td>False</td>\n      <td>False</td>\n      <td>False</td>\n      <td>False</td>\n      <td>False</td>\n      <td>False</td>\n      <td>False</td>\n      <td>False</td>\n      <td>False</td>\n      <td>False</td>\n      <td>False</td>\n      <td>False</td>\n      <td>False</td>\n      <td>False</td>\n      <td>False</td>\n      <td>A</td>\n      <td>A</td>\n      <td>N</td>\n      <td>N</td>\n      <td>N</td>\n      <td>N</td>\n      <td>A</td>\n      <td>A</td>\n      <td>A</td>\n      <td>N</td>\n      <td>N</td>\n      <td>N</td>\n      <td>A</td>\n      <td>A</td>\n      <td>A</td>\n      <td>N</td>\n      <td>A</td>\n      <td>A</td>\n      <td>N</td>\n      <td>N</td>\n      <td>N</td>\n      <td>Male</td>\n      <td>56-60</td>\n      <td>NaN</td>\n      <td>NaN</td>\n      <td>NaN</td>\n      <td>NaN</td>\n      <td>NaN</td>\n    </tr>\n    <tr>\n      <th>2</th>\n      <td>3</td>\n      <td>Voluntary Early Retirement (VER)</td>\n      <td>05/2012</td>\n      <td>2011.0</td>\n      <td>2011.0</td>\n      <td>Schools Officer</td>\n      <td>NaN</td>\n      <td>Central Office</td>\n      <td>Education Queensland</td>\n      <td>Permanent Full-time</td>\n      <td>False</td>\n      <td>False</td>\n      <td>False</td>\n      <td>False</td>\n      <td>False</td>\n      <td>False</td>\n      <td>False</td>\n      <td>False</td>\n      <td>False</td>\n      <td>False</td>\n      <td>False</td>\n      <td>False</td>\n      <td>False</td>\n      <td>False</td>\n      <td>False</td>\n      <td>False</td>\n      <td>False</td>\n      <td>True</td>\n      <td>N</td>\n      <td>N</td>\n      <td>N</td>\n      <td>N</td>\n      <td>N</td>\n      <td>N</td>\n      <td>N</td>\n      <td>N</td>\n      <td>N</td>\n      <td>N</td>\n      <td>N</td>\n      <td>N</td>\n      <td>N</td>\n      <td>N</td>\n      <td>N</td>\n      <td>A</td>\n      <td>A</td>\n      <td>N</td>\n      <td>N</td>\n      <td>N</td>\n      <td>N</td>\n      <td>Male</td>\n      <td>61 or older</td>\n      <td>NaN</td>\n      <td>NaN</td>\n      <td>NaN</td>\n      <td>NaN</td>\n      <td>NaN</td>\n    </tr>\n    <tr>\n      <th>3</th>\n      <td>4</td>\n      <td>Resignation-Other reasons</td>\n      <td>05/2012</td>\n      <td>2005.0</td>\n      <td>2006.0</td>\n      <td>Teacher</td>\n      <td>Primary</td>\n      <td>Central Queensland</td>\n      <td>NaN</td>\n      <td>Permanent Full-time</td>\n      <td>False</td>\n      <td>True</td>\n      <td>False</td>\n      <td>False</td>\n      <td>False</td>\n      <td>False</td>\n      <td>False</td>\n      <td>False</td>\n      <td>False</td>\n      <td>False</td>\n      <td>False</td>\n      <td>False</td>\n      <td>False</td>\n      <td>False</td>\n      <td>False</td>\n      <td>False</td>\n      <td>False</td>\n      <td>False</td>\n      <td>A</td>\n      <td>N</td>\n      <td>N</td>\n      <td>N</td>\n      <td>A</td>\n      <td>A</td>\n      <td>N</td>\n      <td>N</td>\n      <td>A</td>\n      <td>A</td>\n      <td>A</td>\n      <td>A</td>\n      <td>A</td>\n      <td>A</td>\n      <td>A</td>\n      <td>A</td>\n      <td>A</td>\n      <td>A</td>\n      <td>A</td>\n      <td>N</td>\n      <td>A</td>\n      <td>Female</td>\n      <td>36-40</td>\n      <td>NaN</td>\n      <td>NaN</td>\n      <td>NaN</td>\n      <td>NaN</td>\n      <td>NaN</td>\n    </tr>\n    <tr>\n      <th>4</th>\n      <td>5</td>\n      <td>Age Retirement</td>\n      <td>05/2012</td>\n      <td>1970.0</td>\n      <td>1989.0</td>\n      <td>Head of Curriculum/Head of Special Education</td>\n      <td>NaN</td>\n      <td>South East</td>\n      <td>NaN</td>\n      <td>Permanent Full-time</td>\n      <td>False</td>\n      <td>False</td>\n      <td>False</td>\n      <td>False</td>\n      <td>False</td>\n      <td>False</td>\n      <td>False</td>\n      <td>False</td>\n      <td>False</td>\n      <td>False</td>\n      <td>False</td>\n      <td>False</td>\n      <td>False</td>\n      <td>False</td>\n      <td>False</td>\n      <td>True</td>\n      <td>False</td>\n      <td>False</td>\n      <td>A</td>\n      <td>A</td>\n      <td>N</td>\n      <td>N</td>\n      <td>D</td>\n      <td>D</td>\n      <td>N</td>\n      <td>A</td>\n      <td>A</td>\n      <td>A</td>\n      <td>A</td>\n      <td>A</td>\n      <td>A</td>\n      <td>SA</td>\n      <td>SA</td>\n      <td>D</td>\n      <td>D</td>\n      <td>A</td>\n      <td>N</td>\n      <td>A</td>\n      <td>M</td>\n      <td>Female</td>\n      <td>61 or older</td>\n      <td>NaN</td>\n      <td>NaN</td>\n      <td>NaN</td>\n      <td>NaN</td>\n      <td>NaN</td>\n    </tr>\n  </tbody>\n</table>\n</div>"
     },
     "execution_count": 6,
     "metadata": {},
     "output_type": "execute_result"
    }
   ],
   "source": [
    "#Read in the data again, but this time read `Not Stated` values as `NaN`\n",
    "dete_survey = pd.read_csv('dete_survey.csv', na_values='Not Stated')\n",
    "\n",
    "#Exploring the data\n",
    "dete_survey.head()"
   ],
   "metadata": {
    "collapsed": false,
    "ExecuteTime": {
     "end_time": "2024-05-28T23:39:15.637668Z",
     "start_time": "2024-05-28T23:39:15.623481Z"
    }
   },
   "id": "f2cc81806a1ddf98",
   "execution_count": 6
  },
  {
   "cell_type": "markdown",
   "source": [
    "After review of the data, we can drop some columns that we don't need for our analysis. We will be dropping columns from index 28 to 49 in the DETE dataset and columns from index 17 to 66 in the TAFE dataset."
   ],
   "metadata": {
    "collapsed": false
   },
   "id": "3fc3e6f59160a5a8"
  },
  {
   "cell_type": "code",
   "outputs": [
    {
     "data": {
      "text/plain": "Index(['Professional Development', 'Opportunities for promotion',\n       'Staff morale', 'Workplace issue', 'Physical environment',\n       'Worklife balance', 'Stress and pressure support',\n       'Performance of supervisor', 'Peer support', 'Initiative', 'Skills',\n       'Coach', 'Career Aspirations', 'Feedback', 'Further PD',\n       'Communication', 'My say', 'Information', 'Kept informed',\n       'Wellness programs', 'Health & Safety'],\n      dtype='object')"
     },
     "metadata": {},
     "output_type": "display_data"
    }
   ],
   "source": [
    "display (dete_survey.columns[28:49])"
   ],
   "metadata": {
    "collapsed": false,
    "ExecuteTime": {
     "end_time": "2024-05-28T23:39:15.641418Z",
     "start_time": "2024-05-28T23:39:15.638470Z"
    }
   },
   "id": "cac1abc7a9b7b7f",
   "execution_count": 7
  },
  {
   "cell_type": "code",
   "outputs": [
    {
     "data": {
      "text/plain": "Index(['Main Factor. Which of these was the main factor for leaving?',\n       'InstituteViews. Topic:1. I feel the senior leadership had a clear vision and direction',\n       'InstituteViews. Topic:2. I was given access to skills training to help me do my job better',\n       'InstituteViews. Topic:3. I was given adequate opportunities for personal development',\n       'InstituteViews. Topic:4. I was given adequate opportunities for promotion within %Institute]Q25LBL%',\n       'InstituteViews. Topic:5. I felt the salary for the job was right for the responsibilities I had',\n       'InstituteViews. Topic:6. The organisation recognised when staff did good work',\n       'InstituteViews. Topic:7. Management was generally supportive of me',\n       'InstituteViews. Topic:8. Management was generally supportive of my team',\n       'InstituteViews. Topic:9. I was kept informed of the changes in the organisation which would affect me',\n       'InstituteViews. Topic:10. Staff morale was positive within the Institute',\n       'InstituteViews. Topic:11. If I had a workplace issue it was dealt with quickly',\n       'InstituteViews. Topic:12. If I had a workplace issue it was dealt with efficiently',\n       'InstituteViews. Topic:13. If I had a workplace issue it was dealt with discreetly',\n       'WorkUnitViews. Topic:14. I was satisfied with the quality of the management and supervision within my work unit',\n       'WorkUnitViews. Topic:15. I worked well with my colleagues',\n       'WorkUnitViews. Topic:16. My job was challenging and interesting',\n       'WorkUnitViews. Topic:17. I was encouraged to use my initiative in the course of my work',\n       'WorkUnitViews. Topic:18. I had sufficient contact with other people in my job',\n       'WorkUnitViews. Topic:19. I was given adequate support and co-operation by my peers to enable me to do my job',\n       'WorkUnitViews. Topic:20. I was able to use the full range of my skills in my job',\n       'WorkUnitViews. Topic:21. I was able to use the full range of my abilities in my job. ; Category:Level of Agreement; Question:YOUR VIEWS ABOUT YOUR WORK UNIT]',\n       'WorkUnitViews. Topic:22. I was able to use the full range of my knowledge in my job',\n       'WorkUnitViews. Topic:23. My job provided sufficient variety',\n       'WorkUnitViews. Topic:24. I was able to cope with the level of stress and pressure in my job',\n       'WorkUnitViews. Topic:25. My job allowed me to balance the demands of work and family to my satisfaction',\n       'WorkUnitViews. Topic:26. My supervisor gave me adequate personal recognition and feedback on my performance',\n       'WorkUnitViews. Topic:27. My working environment was satisfactory e.g. sufficient space, good lighting, suitable seating and working area',\n       'WorkUnitViews. Topic:28. I was given the opportunity to mentor and coach others in order for me to pass on my skills and knowledge prior to my cessation date',\n       'WorkUnitViews. Topic:29. There was adequate communication between staff in my unit',\n       'WorkUnitViews. Topic:30. Staff morale was positive within my work unit',\n       'Induction. Did you undertake Workplace Induction?',\n       'InductionInfo. Topic:Did you undertake a Corporate Induction?',\n       'InductionInfo. Topic:Did you undertake a Institute Induction?',\n       'InductionInfo. Topic: Did you undertake Team Induction?',\n       'InductionInfo. Face to Face Topic:Did you undertake a Corporate Induction; Category:How it was conducted?',\n       'InductionInfo. On-line Topic:Did you undertake a Corporate Induction; Category:How it was conducted?',\n       'InductionInfo. Induction Manual Topic:Did you undertake a Corporate Induction?',\n       'InductionInfo. Face to Face Topic:Did you undertake a Institute Induction?',\n       'InductionInfo. On-line Topic:Did you undertake a Institute Induction?',\n       'InductionInfo. Induction Manual Topic:Did you undertake a Institute Induction?',\n       'InductionInfo. Face to Face Topic: Did you undertake Team Induction; Category?',\n       'InductionInfo. On-line Topic: Did you undertake Team Induction?process you undertook and how it was conducted.]',\n       'InductionInfo. Induction Manual Topic: Did you undertake Team Induction?',\n       'Workplace. Topic:Did you and your Manager develop a Performance and Professional Development Plan (PPDP)?',\n       'Workplace. Topic:Does your workplace promote a work culture free from all forms of unlawful discrimination?',\n       'Workplace. Topic:Does your workplace promote and practice the principles of employment equity?',\n       'Workplace. Topic:Does your workplace value the diversity of its employees?',\n       'Workplace. Topic:Would you recommend the Institute as an employer to others?'],\n      dtype='object')"
     },
     "metadata": {},
     "output_type": "display_data"
    }
   ],
   "source": [
    "display (tafe_survey.columns[17:66])"
   ],
   "metadata": {
    "collapsed": false,
    "ExecuteTime": {
     "end_time": "2024-05-28T23:39:15.645287Z",
     "start_time": "2024-05-28T23:39:15.642490Z"
    }
   },
   "id": "70e4379da381d1f8",
   "execution_count": 8
  },
  {
   "cell_type": "code",
   "outputs": [
    {
     "name": "stdout",
     "output_type": "stream",
     "text": [
      "Index(['ID', 'SeparationType', 'Cease Date', 'DETE Start Date',\n",
      "       'Role Start Date', 'Position', 'Classification', 'Region',\n",
      "       'Business Unit', 'Employment Status', 'Career move to public sector',\n",
      "       'Career move to private sector', 'Interpersonal conflicts',\n",
      "       'Job dissatisfaction', 'Dissatisfaction with the department',\n",
      "       'Physical work environment', 'Lack of recognition',\n",
      "       'Lack of job security', 'Work location', 'Employment conditions',\n",
      "       'Maternity/family', 'Relocation', 'Study/Travel', 'Ill Health',\n",
      "       'Traumatic incident', 'Work life balance', 'Workload',\n",
      "       'None of the above', 'Gender', 'Age', 'Aboriginal', 'Torres Strait',\n",
      "       'South Sea', 'Disability', 'NESB'],\n",
      "      dtype='object')\n",
      "\n",
      "\n",
      "Index(['Record ID', 'Institute', 'WorkArea', 'CESSATION YEAR',\n",
      "       'Reason for ceasing employment',\n",
      "       'Contributing Factors. Career Move - Public Sector ',\n",
      "       'Contributing Factors. Career Move - Private Sector ',\n",
      "       'Contributing Factors. Career Move - Self-employment',\n",
      "       'Contributing Factors. Ill Health',\n",
      "       'Contributing Factors. Maternity/Family',\n",
      "       'Contributing Factors. Dissatisfaction',\n",
      "       'Contributing Factors. Job Dissatisfaction',\n",
      "       'Contributing Factors. Interpersonal Conflict',\n",
      "       'Contributing Factors. Study', 'Contributing Factors. Travel',\n",
      "       'Contributing Factors. Other', 'Contributing Factors. NONE',\n",
      "       'Gender. What is your Gender?', 'CurrentAge. Current Age',\n",
      "       'Employment Type. Employment Type', 'Classification. Classification',\n",
      "       'LengthofServiceOverall. Overall Length of Service at Institute (in years)',\n",
      "       'LengthofServiceCurrent. Length of Service at current workplace (in years)'],\n",
      "      dtype='object')\n"
     ]
    }
   ],
   "source": [
    "#Drop the columns\n",
    "dete_survey_updated = dete_survey.drop(dete_survey.columns[28:49], axis=1)\n",
    "tafe_survey_updated = tafe_survey.drop(tafe_survey.columns[17:66], axis=1)\n",
    "\n",
    "#Check that the columns were dropped\n",
    "print(dete_survey_updated.columns)\n",
    "print('\\n')\n",
    "print(tafe_survey_updated.columns)"
   ],
   "metadata": {
    "collapsed": false,
    "ExecuteTime": {
     "end_time": "2024-05-28T23:39:15.661530Z",
     "start_time": "2024-05-28T23:39:15.658324Z"
    }
   },
   "id": "f45aa5e7e8decfac",
   "execution_count": 9
  },
  {
   "cell_type": "markdown",
   "source": [
    "## Renaming the columns\n",
    "\n",
    "Since we're looking to combine both columns, we need to standardize the column names. We will rename the columns in the DETE dataset to match the column names in the TAFE dataset."
   ],
   "metadata": {
    "collapsed": false
   },
   "id": "278d75f2504082fe"
  },
  {
   "cell_type": "markdown",
   "source": [
    "## Dete Survey"
   ],
   "metadata": {
    "collapsed": false
   },
   "id": "8b5f5b5ea947576c"
  },
  {
   "cell_type": "code",
   "outputs": [],
   "source": [
    "#Standardize the column names\n",
    "dete_survey_updated.columns = dete_survey_updated.columns.str.lower().str.strip().str.replace(' ', '_')\n",
    "\n",
    "#Update the seperaiontype to seperation_type in the DETE dataset\n",
    "dete_survey_updated.rename(columns={'separationtype': 'separation_type'}, inplace=True)"
   ],
   "metadata": {
    "collapsed": false,
    "ExecuteTime": {
     "end_time": "2024-05-28T23:39:15.729710Z",
     "start_time": "2024-05-28T23:39:15.727125Z"
    }
   },
   "id": "882d9a2e1934bd04",
   "execution_count": 10
  },
  {
   "cell_type": "code",
   "outputs": [
    {
     "data": {
      "text/plain": "Index(['id', 'separation_type', 'cease_date', 'dete_start_date',\n       'role_start_date', 'position', 'classification', 'region',\n       'business_unit', 'employment_status', 'career_move_to_public_sector',\n       'career_move_to_private_sector', 'interpersonal_conflicts',\n       'job_dissatisfaction', 'dissatisfaction_with_the_department',\n       'physical_work_environment', 'lack_of_recognition',\n       'lack_of_job_security', 'work_location', 'employment_conditions',\n       'maternity/family', 'relocation', 'study/travel', 'ill_health',\n       'traumatic_incident', 'work_life_balance', 'workload',\n       'none_of_the_above', 'gender', 'age', 'aboriginal', 'torres_strait',\n       'south_sea', 'disability', 'nesb'],\n      dtype='object')"
     },
     "execution_count": 11,
     "metadata": {},
     "output_type": "execute_result"
    }
   ],
   "source": [
    "#Review the column names\n",
    "dete_survey_updated.columns"
   ],
   "metadata": {
    "collapsed": false,
    "ExecuteTime": {
     "end_time": "2024-05-28T23:39:15.777855Z",
     "start_time": "2024-05-28T23:39:15.775430Z"
    }
   },
   "id": "61446c2406499db8",
   "execution_count": 11
  },
  {
   "cell_type": "markdown",
   "source": [
    "## Tafe Survey"
   ],
   "metadata": {
    "collapsed": false
   },
   "id": "5542067337e9f598"
  },
  {
   "cell_type": "code",
   "outputs": [],
   "source": [
    "#Update columns names to match the names in the dete_survey_updated dataframe\n",
    "mapping = {'Record ID': 'id', 'CESSATION YEAR': 'cease_date', 'Reason for ceasing employment': 'separation_type', 'Employment Type. Employment Type': 'employment_status', 'Classification. Classification': 'position', 'LengthofServiceOverall. Overall Length of Service at Institute (in years)': 'institute_service', 'LengthofServiceCurrent. Length of Service at current workplace (in years)': 'role_service', 'Gender. What is your Gender?' : 'gender', 'CurrentAge. Current Age' : 'age'}\n",
    "tafe_survey_updated = tafe_survey_updated.rename(mapping, axis=1)"
   ],
   "metadata": {
    "collapsed": false,
    "ExecuteTime": {
     "end_time": "2024-05-28T23:39:15.815228Z",
     "start_time": "2024-05-28T23:39:15.812774Z"
    }
   },
   "id": "f32d350a2ffe2800",
   "execution_count": 12
  },
  {
   "cell_type": "code",
   "outputs": [
    {
     "data": {
      "text/plain": "Index(['id', 'Institute', 'WorkArea', 'cease_date', 'separation_type',\n       'Contributing Factors. Career Move - Public Sector ',\n       'Contributing Factors. Career Move - Private Sector ',\n       'Contributing Factors. Career Move - Self-employment',\n       'Contributing Factors. Ill Health',\n       'Contributing Factors. Maternity/Family',\n       'Contributing Factors. Dissatisfaction',\n       'Contributing Factors. Job Dissatisfaction',\n       'Contributing Factors. Interpersonal Conflict',\n       'Contributing Factors. Study', 'Contributing Factors. Travel',\n       'Contributing Factors. Other', 'Contributing Factors. NONE', 'gender',\n       'age', 'employment_status', 'position', 'institute_service',\n       'role_service'],\n      dtype='object')"
     },
     "execution_count": 13,
     "metadata": {},
     "output_type": "execute_result"
    }
   ],
   "source": [
    "#check that the specified column names were updated\n",
    "tafe_survey_updated.columns"
   ],
   "metadata": {
    "collapsed": false,
    "ExecuteTime": {
     "end_time": "2024-05-28T23:39:15.901491Z",
     "start_time": "2024-05-28T23:39:15.899136Z"
    }
   },
   "id": "f55b26123e68c21",
   "execution_count": 13
  },
  {
   "cell_type": "markdown",
   "source": [
    "## Filtering the data\n",
    "\n",
    "For this project, we are only interested in employees who resigned, so we will filter the data to include only employees who resigned."
   ],
   "metadata": {
    "collapsed": false
   },
   "id": "f65deb837abe5101"
  },
  {
   "cell_type": "code",
   "outputs": [
    {
     "data": {
      "text/plain": "separation_type\nAge Retirement                          285\nResignation-Other reasons               150\nResignation-Other employer               91\nResignation-Move overseas/interstate     70\nVoluntary Early Retirement (VER)         67\nIll Health Retirement                    61\nOther                                    49\nContract Expired                         34\nTermination                              15\nName: count, dtype: int64"
     },
     "execution_count": 14,
     "metadata": {},
     "output_type": "execute_result"
    }
   ],
   "source": [
    "#Check the unique values of the separation_type column in both dataframes\n",
    "dete_survey_updated['separation_type'].value_counts()"
   ],
   "metadata": {
    "collapsed": false,
    "ExecuteTime": {
     "end_time": "2024-05-28T23:39:15.943552Z",
     "start_time": "2024-05-28T23:39:15.940594Z"
    }
   },
   "id": "7e597b1effd9eed3",
   "execution_count": 14
  },
  {
   "cell_type": "code",
   "outputs": [
    {
     "data": {
      "text/plain": "separation_type\nResignation                 340\nContract Expired            127\nRetrenchment/ Redundancy    104\nRetirement                   82\nTransfer                     25\nTermination                  23\nName: count, dtype: int64"
     },
     "execution_count": 15,
     "metadata": {},
     "output_type": "execute_result"
    }
   ],
   "source": [
    "tafe_survey_updated['separation_type'].value_counts()"
   ],
   "metadata": {
    "collapsed": false,
    "ExecuteTime": {
     "end_time": "2024-05-28T23:39:15.959028Z",
     "start_time": "2024-05-28T23:39:15.956251Z"
    }
   },
   "id": "72add963c58f4e",
   "execution_count": 15
  },
  {
   "cell_type": "markdown",
   "source": [
    "As we can see, the DETE dataset contains multiple separation types with the string `Resignation`. We will update all the separation types that contain the string `Resignation` to `Resignation`. We will also create a new dataframe that contains only the rows where the separation type is `Resignation`."
   ],
   "metadata": {
    "collapsed": false
   },
   "id": "351052c8501c69e3"
  },
  {
   "cell_type": "code",
   "outputs": [
    {
     "data": {
      "text/plain": "separation_type\nResignation                         311\nAge Retirement                      285\nVoluntary Early Retirement (VER)     67\nIll Health Retirement                61\nOther                                49\nContract Expired                     34\nTermination                          15\nName: count, dtype: int64"
     },
     "execution_count": 16,
     "metadata": {},
     "output_type": "execute_result"
    }
   ],
   "source": [
    "#Update all separation types containing the string 'resignation' to 'Resignation'\n",
    "dete_survey_updated['separation_type'] = dete_survey_updated['separation_type'].str.split('-').str[0]\n",
    "\n",
    "#Check the values in the separation_type column were updated correctly\n",
    "dete_survey_updated['separation_type'].value_counts()"
   ],
   "metadata": {
    "collapsed": false,
    "ExecuteTime": {
     "end_time": "2024-05-28T23:39:15.978298Z",
     "start_time": "2024-05-28T23:39:15.974218Z"
    }
   },
   "id": "1d8d1c7170dddfc",
   "execution_count": 16
  },
  {
   "cell_type": "code",
   "outputs": [],
   "source": [
    "#select only the resignation separation types from the dataframes\n",
    "dete_resignations = dete_survey_updated[dete_survey_updated['separation_type'] == 'Resignation'].copy()\n",
    "tafe_resignations = tafe_survey_updated[tafe_survey_updated['separation_type'] == 'Resignation'].copy()"
   ],
   "metadata": {
    "collapsed": false,
    "ExecuteTime": {
     "end_time": "2024-05-28T23:39:15.984825Z",
     "start_time": "2024-05-28T23:39:15.981564Z"
    }
   },
   "id": "75e44d24fa52dfe4",
   "execution_count": 17
  },
  {
   "cell_type": "code",
   "outputs": [
    {
     "data": {
      "text/plain": "    id separation_type cease_date  dete_start_date  role_start_date  \\\n3    4     Resignation    05/2012           2005.0           2006.0   \n5    6     Resignation    05/2012           1994.0           1997.0   \n8    9     Resignation    07/2012           2009.0           2009.0   \n9   10     Resignation       2012           1997.0           2008.0   \n11  12     Resignation       2012           2009.0           2009.0   \n\n            position classification                region  \\\n3            Teacher        Primary    Central Queensland   \n5   Guidance Officer            NaN        Central Office   \n8            Teacher      Secondary      North Queensland   \n9       Teacher Aide            NaN                   NaN   \n11           Teacher      Secondary  Far North Queensland   \n\n           business_unit    employment_status  career_move_to_public_sector  \\\n3                    NaN  Permanent Full-time                         False   \n5   Education Queensland  Permanent Full-time                         False   \n8                    NaN  Permanent Full-time                         False   \n9                    NaN  Permanent Part-time                         False   \n11                   NaN  Permanent Full-time                         False   \n\n    career_move_to_private_sector  interpersonal_conflicts  \\\n3                            True                    False   \n5                            True                    False   \n8                            True                    False   \n9                           False                     True   \n11                          False                    False   \n\n    job_dissatisfaction  dissatisfaction_with_the_department  \\\n3                 False                                False   \n5                 False                                False   \n8                 False                                False   \n9                  True                                 True   \n11                False                                False   \n\n    physical_work_environment  lack_of_recognition  lack_of_job_security  \\\n3                       False                False                 False   \n5                       False                False                 False   \n8                       False                False                 False   \n9                       False                False                 False   \n11                      False                False                 False   \n\n    work_location  employment_conditions  maternity/family  relocation  \\\n3           False                  False             False       False   \n5           False                   True              True       False   \n8           False                  False             False       False   \n9           False                  False             False       False   \n11          False                  False              True        True   \n\n    study/travel  ill_health  traumatic_incident  work_life_balance  workload  \\\n3          False       False               False              False     False   \n5          False       False               False              False     False   \n8          False       False               False              False     False   \n9          False       False               False              False     False   \n11         False       False               False              False     False   \n\n    none_of_the_above  gender    age aboriginal torres_strait south_sea  \\\n3               False  Female  36-40        NaN           NaN       NaN   \n5               False  Female  41-45        NaN           NaN       NaN   \n8               False  Female  31-35        NaN           NaN       NaN   \n9               False  Female  46-50        NaN           NaN       NaN   \n11              False    Male  31-35        NaN           NaN       NaN   \n\n   disability nesb  \n3         NaN  NaN  \n5         NaN  NaN  \n8         NaN  NaN  \n9         NaN  NaN  \n11        NaN  NaN  ",
      "text/html": "<div>\n<style scoped>\n    .dataframe tbody tr th:only-of-type {\n        vertical-align: middle;\n    }\n\n    .dataframe tbody tr th {\n        vertical-align: top;\n    }\n\n    .dataframe thead th {\n        text-align: right;\n    }\n</style>\n<table border=\"1\" class=\"dataframe\">\n  <thead>\n    <tr style=\"text-align: right;\">\n      <th></th>\n      <th>id</th>\n      <th>separation_type</th>\n      <th>cease_date</th>\n      <th>dete_start_date</th>\n      <th>role_start_date</th>\n      <th>position</th>\n      <th>classification</th>\n      <th>region</th>\n      <th>business_unit</th>\n      <th>employment_status</th>\n      <th>career_move_to_public_sector</th>\n      <th>career_move_to_private_sector</th>\n      <th>interpersonal_conflicts</th>\n      <th>job_dissatisfaction</th>\n      <th>dissatisfaction_with_the_department</th>\n      <th>physical_work_environment</th>\n      <th>lack_of_recognition</th>\n      <th>lack_of_job_security</th>\n      <th>work_location</th>\n      <th>employment_conditions</th>\n      <th>maternity/family</th>\n      <th>relocation</th>\n      <th>study/travel</th>\n      <th>ill_health</th>\n      <th>traumatic_incident</th>\n      <th>work_life_balance</th>\n      <th>workload</th>\n      <th>none_of_the_above</th>\n      <th>gender</th>\n      <th>age</th>\n      <th>aboriginal</th>\n      <th>torres_strait</th>\n      <th>south_sea</th>\n      <th>disability</th>\n      <th>nesb</th>\n    </tr>\n  </thead>\n  <tbody>\n    <tr>\n      <th>3</th>\n      <td>4</td>\n      <td>Resignation</td>\n      <td>05/2012</td>\n      <td>2005.0</td>\n      <td>2006.0</td>\n      <td>Teacher</td>\n      <td>Primary</td>\n      <td>Central Queensland</td>\n      <td>NaN</td>\n      <td>Permanent Full-time</td>\n      <td>False</td>\n      <td>True</td>\n      <td>False</td>\n      <td>False</td>\n      <td>False</td>\n      <td>False</td>\n      <td>False</td>\n      <td>False</td>\n      <td>False</td>\n      <td>False</td>\n      <td>False</td>\n      <td>False</td>\n      <td>False</td>\n      <td>False</td>\n      <td>False</td>\n      <td>False</td>\n      <td>False</td>\n      <td>False</td>\n      <td>Female</td>\n      <td>36-40</td>\n      <td>NaN</td>\n      <td>NaN</td>\n      <td>NaN</td>\n      <td>NaN</td>\n      <td>NaN</td>\n    </tr>\n    <tr>\n      <th>5</th>\n      <td>6</td>\n      <td>Resignation</td>\n      <td>05/2012</td>\n      <td>1994.0</td>\n      <td>1997.0</td>\n      <td>Guidance Officer</td>\n      <td>NaN</td>\n      <td>Central Office</td>\n      <td>Education Queensland</td>\n      <td>Permanent Full-time</td>\n      <td>False</td>\n      <td>True</td>\n      <td>False</td>\n      <td>False</td>\n      <td>False</td>\n      <td>False</td>\n      <td>False</td>\n      <td>False</td>\n      <td>False</td>\n      <td>True</td>\n      <td>True</td>\n      <td>False</td>\n      <td>False</td>\n      <td>False</td>\n      <td>False</td>\n      <td>False</td>\n      <td>False</td>\n      <td>False</td>\n      <td>Female</td>\n      <td>41-45</td>\n      <td>NaN</td>\n      <td>NaN</td>\n      <td>NaN</td>\n      <td>NaN</td>\n      <td>NaN</td>\n    </tr>\n    <tr>\n      <th>8</th>\n      <td>9</td>\n      <td>Resignation</td>\n      <td>07/2012</td>\n      <td>2009.0</td>\n      <td>2009.0</td>\n      <td>Teacher</td>\n      <td>Secondary</td>\n      <td>North Queensland</td>\n      <td>NaN</td>\n      <td>Permanent Full-time</td>\n      <td>False</td>\n      <td>True</td>\n      <td>False</td>\n      <td>False</td>\n      <td>False</td>\n      <td>False</td>\n      <td>False</td>\n      <td>False</td>\n      <td>False</td>\n      <td>False</td>\n      <td>False</td>\n      <td>False</td>\n      <td>False</td>\n      <td>False</td>\n      <td>False</td>\n      <td>False</td>\n      <td>False</td>\n      <td>False</td>\n      <td>Female</td>\n      <td>31-35</td>\n      <td>NaN</td>\n      <td>NaN</td>\n      <td>NaN</td>\n      <td>NaN</td>\n      <td>NaN</td>\n    </tr>\n    <tr>\n      <th>9</th>\n      <td>10</td>\n      <td>Resignation</td>\n      <td>2012</td>\n      <td>1997.0</td>\n      <td>2008.0</td>\n      <td>Teacher Aide</td>\n      <td>NaN</td>\n      <td>NaN</td>\n      <td>NaN</td>\n      <td>Permanent Part-time</td>\n      <td>False</td>\n      <td>False</td>\n      <td>True</td>\n      <td>True</td>\n      <td>True</td>\n      <td>False</td>\n      <td>False</td>\n      <td>False</td>\n      <td>False</td>\n      <td>False</td>\n      <td>False</td>\n      <td>False</td>\n      <td>False</td>\n      <td>False</td>\n      <td>False</td>\n      <td>False</td>\n      <td>False</td>\n      <td>False</td>\n      <td>Female</td>\n      <td>46-50</td>\n      <td>NaN</td>\n      <td>NaN</td>\n      <td>NaN</td>\n      <td>NaN</td>\n      <td>NaN</td>\n    </tr>\n    <tr>\n      <th>11</th>\n      <td>12</td>\n      <td>Resignation</td>\n      <td>2012</td>\n      <td>2009.0</td>\n      <td>2009.0</td>\n      <td>Teacher</td>\n      <td>Secondary</td>\n      <td>Far North Queensland</td>\n      <td>NaN</td>\n      <td>Permanent Full-time</td>\n      <td>False</td>\n      <td>False</td>\n      <td>False</td>\n      <td>False</td>\n      <td>False</td>\n      <td>False</td>\n      <td>False</td>\n      <td>False</td>\n      <td>False</td>\n      <td>False</td>\n      <td>True</td>\n      <td>True</td>\n      <td>False</td>\n      <td>False</td>\n      <td>False</td>\n      <td>False</td>\n      <td>False</td>\n      <td>False</td>\n      <td>Male</td>\n      <td>31-35</td>\n      <td>NaN</td>\n      <td>NaN</td>\n      <td>NaN</td>\n      <td>NaN</td>\n      <td>NaN</td>\n    </tr>\n  </tbody>\n</table>\n</div>"
     },
     "execution_count": 18,
     "metadata": {},
     "output_type": "execute_result"
    }
   ],
   "source": [
    "#Check the new dataframes\n",
    "dete_resignations.head()"
   ],
   "metadata": {
    "collapsed": false,
    "ExecuteTime": {
     "end_time": "2024-05-28T23:39:16.011561Z",
     "start_time": "2024-05-28T23:39:16.002693Z"
    }
   },
   "id": "4aca8f27b5f10542",
   "execution_count": 18
  },
  {
   "cell_type": "markdown",
   "source": [
    "## Verifying the data\n",
    "\n",
    "Below, we will verify the data to ensure that the data doesn't contain any major inconsistencies. We will check for the following:\n",
    "- The years in the `cease_date` and `dete_start_date` columns make sense.\n",
    "- The `cease_date` is after the `dete_start_date`.\n",
    "- If there are any outliers in the `cease_date` column."
   ],
   "metadata": {
    "collapsed": false
   },
   "id": "e72054159ba8db6f"
  },
  {
   "cell_type": "code",
   "outputs": [
    {
     "data": {
      "text/plain": "cease_date\n2012       126\n2013        74\n01/2014     22\n12/2013     17\n06/2013     14\n09/2013     11\n07/2013      9\n11/2013      9\n10/2013      6\n08/2013      4\n05/2012      2\n05/2013      2\n07/2012      1\n2010         1\n09/2010      1\n07/2006      1\nName: count, dtype: int64"
     },
     "execution_count": 19,
     "metadata": {},
     "output_type": "execute_result"
    }
   ],
   "source": [
    "#Check the unique values in the cease_date column in the dete_resignations dataframe\n",
    "dete_resignations['cease_date'].value_counts()"
   ],
   "metadata": {
    "collapsed": false,
    "ExecuteTime": {
     "end_time": "2024-05-28T23:39:16.018262Z",
     "start_time": "2024-05-28T23:39:16.014912Z"
    }
   },
   "id": "80eebc97809e8bf1",
   "execution_count": 19
  },
  {
   "cell_type": "code",
   "outputs": [
    {
     "data": {
      "text/plain": "cease_date\n2013.0    146\n2012.0    129\n2014.0     22\n2010.0      2\n2006.0      1\nName: count, dtype: int64"
     },
     "execution_count": 20,
     "metadata": {},
     "output_type": "execute_result"
    }
   ],
   "source": [
    "#Extract the years and convert them to float in the dete_resignations dataframe\n",
    "dete_resignations['cease_date'] = dete_resignations['cease_date'].str.split('/').str[-1]\n",
    "\n",
    "#Check the unique values again and convert them to float in the dete_resignations dataframe\n",
    "dete_resignations['cease_date'] = dete_resignations['cease_date'].astype('float')\n",
    "\n",
    "#Check the values again and look for outliers in the dete_resignations dataframe\n",
    "dete_resignations['cease_date'].value_counts()"
   ],
   "metadata": {
    "collapsed": false,
    "ExecuteTime": {
     "end_time": "2024-05-28T23:39:16.030296Z",
     "start_time": "2024-05-28T23:39:16.026448Z"
    }
   },
   "id": "63c89cbab09514ec",
   "execution_count": 20
  },
  {
   "cell_type": "code",
   "outputs": [
    {
     "data": {
      "text/plain": "dete_start_date\n1987.0     1\n1975.0     1\n1984.0     1\n1971.0     1\n1973.0     1\n1972.0     1\n1963.0     1\n1977.0     1\n1982.0     1\n1974.0     2\n1983.0     2\n1976.0     2\n1985.0     3\n2001.0     3\n1986.0     3\n1995.0     4\n1988.0     4\n1991.0     4\n1989.0     4\n1993.0     5\n1980.0     5\n1990.0     5\n1997.0     5\n2002.0     6\n1998.0     6\n1996.0     6\n1992.0     6\n2003.0     6\n1994.0     6\n1999.0     8\n2000.0     9\n2013.0    10\n2006.0    13\n2009.0    13\n2004.0    14\n2005.0    15\n2010.0    17\n2007.0    21\n2012.0    21\n2008.0    22\n2011.0    24\nName: count, dtype: int64"
     },
     "execution_count": 21,
     "metadata": {},
     "output_type": "execute_result"
    }
   ],
   "source": [
    "#Check the unique values in the dete_start_date column and look for outliers in the dete_resignations dataframe\n",
    "dete_resignations['dete_start_date'].value_counts().sort_values()"
   ],
   "metadata": {
    "collapsed": false,
    "ExecuteTime": {
     "end_time": "2024-05-28T23:39:16.053802Z",
     "start_time": "2024-05-28T23:39:16.049839Z"
    }
   },
   "id": "3358b5f9595198e6",
   "execution_count": 21
  },
  {
   "cell_type": "code",
   "outputs": [
    {
     "data": {
      "text/plain": "cease_date\n2009.0      2\n2013.0     55\n2010.0     68\n2012.0     94\n2011.0    116\nName: count, dtype: int64"
     },
     "execution_count": 22,
     "metadata": {},
     "output_type": "execute_result"
    }
   ],
   "source": [
    "#Check for unique values in the tafe_resignations dataframe\n",
    "tafe_resignations['cease_date'].value_counts().sort_values()"
   ],
   "metadata": {
    "collapsed": false,
    "ExecuteTime": {
     "end_time": "2024-05-28T23:39:16.065893Z",
     "start_time": "2024-05-28T23:39:16.062151Z"
    }
   },
   "id": "5d88fd3f6c28125",
   "execution_count": 22
  },
  {
   "cell_type": "markdown",
   "source": [
    "After reviewing the data, we can make the following observations:\n",
    "- The years in both dataframes don't completely align. The `tafe_resignations` dataframe contains some cease dates in 2009, but the `dete_resignations` dataframe does not. The `dete_resignations` dataframe also contains no cease dates in 2011 while the `tafe_resignations` dataframe contain 116. Since we aren't concerned with analyzing the results by year, we'll leave them for now."
   ],
   "metadata": {
    "collapsed": false
   },
   "id": "444aed5ce41ef6bc"
  },
  {
   "cell_type": "markdown",
   "source": [
    "## Create a new column\n",
    "\n",
    "Since our end goal is to answer the question below, we need a column containing the length of time an employee spent in their workplace, or years of service, in both dataframes.\n",
    "- First question: Are employees who have only worked for the institutes for a short period of time resigning due to some kind of dissatisfaction? What about employees who have been at the job longer?\n",
    "\n",
    "The `tafe_resignations` dataframe already contains a column `institute_service`. In order to analyze both surveys together, we'll create a corresponding `institute_service` column in `dete_resignations` dataframe by susbtracting the `dete_start_date` from the `cease_date`."
   ],
   "metadata": {
    "collapsed": false
   },
   "id": "b45265c8da21a3eb"
  },
  {
   "cell_type": "code",
   "outputs": [
    {
     "data": {
      "text/plain": "3      7.0\n5     18.0\n8      3.0\n9     15.0\n11     3.0\nName: institute_service, dtype: float64"
     },
     "execution_count": 23,
     "metadata": {},
     "output_type": "execute_result"
    }
   ],
   "source": [
    "#Create a new column called institute_service in dete_resignations dataframe\n",
    "dete_resignations['institute_service'] = dete_resignations['cease_date'] - dete_resignations['dete_start_date']\n",
    "\n",
    "#Check the new column\n",
    "dete_resignations['institute_service'].head()\n"
   ],
   "metadata": {
    "collapsed": false,
    "ExecuteTime": {
     "end_time": "2024-05-28T23:39:16.075727Z",
     "start_time": "2024-05-28T23:39:16.072237Z"
    }
   },
   "id": "b131215a9586315c",
   "execution_count": 23
  },
  {
   "cell_type": "markdown",
   "source": [
    "## Identifying Dissatisfied Employees\n",
    "\n",
    "our next step is to identify any employees who resigned because they were dissatisfied. Below are the columns we'll use to categorize employees as \"dissatisfied\" from each dataframe:\n",
    "- tafe_survey_updated:\n",
    "    - Contributing Factors. Dissatisfaction\n",
    "    - Contributing Factors. Job Dissatisfaction\n",
    "- dete_survey_updated:\n",
    "    - job_dissatisfaction\n",
    "    - dissatisfaction_with_the_department\n",
    "    - physical_work_environment\n",
    "    - lack_of_recognition\n",
    "    - lack_of_job_security\n",
    "    - work_location\n",
    "    - employment_conditions\n",
    "    - work_life_balance\n",
    "    - workload\n",
    "\n",
    "If the employee indicated any of the factors above caused them to resign, we'll mark them as `dissatisfied` in a new column. After our changes, the new `dissatisfied` column will contain just the following values:  \n",
    "- `True`: indicates a person resigned because they were dissatisfied in some way.\n",
    "- `False`: indicates a person resigned because of a reason other than dissatisfaction with the job.\n",
    "- `NaN`: indicates the value is missing."
   ],
   "metadata": {
    "collapsed": false
   },
   "id": "bb4ab1e70e782afe"
  },
  {
   "cell_type": "markdown",
   "source": [
    "## Tafe Dataframe"
   ],
   "metadata": {
    "collapsed": false
   },
   "id": "5f60dba52bdc162c"
  },
  {
   "cell_type": "code",
   "outputs": [
    {
     "data": {
      "text/plain": "Contributing Factors. Dissatisfaction\n-                                         277\nContributing Factors. Dissatisfaction      55\nName: count, dtype: int64"
     },
     "execution_count": 24,
     "metadata": {},
     "output_type": "execute_result"
    }
   ],
   "source": [
    "#check the unique values in the contributing factors. dissatisfaction column in the tafe_resignations dataframe\n",
    "tafe_resignations['Contributing Factors. Dissatisfaction'].value_counts()"
   ],
   "metadata": {
    "collapsed": false,
    "ExecuteTime": {
     "end_time": "2024-05-28T23:39:16.085674Z",
     "start_time": "2024-05-28T23:39:16.082580Z"
    }
   },
   "id": "42a6e111caf789f6",
   "execution_count": 24
  },
  {
   "cell_type": "code",
   "outputs": [
    {
     "data": {
      "text/plain": "Contributing Factors. Job Dissatisfaction\n-                      270\nJob Dissatisfaction     62\nName: count, dtype: int64"
     },
     "execution_count": 25,
     "metadata": {},
     "output_type": "execute_result"
    }
   ],
   "source": [
    "#check the unique values in the contributing factors. job dissatisfaction column in the tafe_resignations dataframe\n",
    "tafe_resignations['Contributing Factors. Job Dissatisfaction'].value_counts()"
   ],
   "metadata": {
    "collapsed": false,
    "ExecuteTime": {
     "end_time": "2024-05-28T23:39:16.105646Z",
     "start_time": "2024-05-28T23:39:16.102638Z"
    }
   },
   "id": "ba402291ceff8575",
   "execution_count": 25
  },
  {
   "cell_type": "code",
   "outputs": [
    {
     "data": {
      "text/plain": "dissatisfied\nFalse    241\nTrue      99\nName: count, dtype: int64"
     },
     "execution_count": 26,
     "metadata": {},
     "output_type": "execute_result"
    }
   ],
   "source": [
    "#Update the values in the contributing factors column in the tafe_resignations dataframe to either be True, False, or NaN\n",
    "def update_val(x):\n",
    "    if x == '-':\n",
    "        return False\n",
    "    elif pd.isnull(x):\n",
    "        return np.nan\n",
    "    else:\n",
    "        return True\n",
    "tafe_resignations['dissatisfied'] = tafe_resignations[['Contributing Factors. Dissatisfaction', 'Contributing Factors. Job Dissatisfaction']].map(update_val).any(axis =1, skipna=False)\n",
    "tafe_resignations_up = tafe_resignations.copy()\n",
    "\n",
    "#Check the unique values after the updates\n",
    "tafe_resignations_up['dissatisfied'].value_counts(dropna=False)"
   ],
   "metadata": {
    "collapsed": false,
    "ExecuteTime": {
     "end_time": "2024-05-28T23:39:16.121552Z",
     "start_time": "2024-05-28T23:39:16.116193Z"
    }
   },
   "id": "e8d94a637e8ae2ee",
   "execution_count": 26
  },
  {
   "cell_type": "markdown",
   "source": [
    "## Dete Dataframe"
   ],
   "metadata": {
    "collapsed": false
   },
   "id": "c9b17c6409ed694e"
  },
  {
   "cell_type": "code",
   "outputs": [
    {
     "data": {
      "text/plain": "dissatisfied\nFalse    162\nTrue     149\nName: count, dtype: int64"
     },
     "execution_count": 27,
     "metadata": {},
     "output_type": "execute_result"
    }
   ],
   "source": [
    "#Update the values in the columns related to dissatisfaction to be either True, False, or NaN\n",
    "dete_resignations['dissatisfied'] = dete_resignations[['job_dissatisfaction',\n",
    "       'dissatisfaction_with_the_department', 'physical_work_environment',\n",
    "       'lack_of_recognition', 'lack_of_job_security', 'work_location',\n",
    "       'employment_conditions', 'work_life_balance',\n",
    "       'workload']].any(axis=1, skipna=False)\n",
    "#Check the unique values after the updates\n",
    "dete_resignations_up = dete_resignations.copy()\n",
    "dete_resignations_up['dissatisfied'].value_counts(dropna=False)"
   ],
   "metadata": {
    "collapsed": false,
    "ExecuteTime": {
     "end_time": "2024-05-28T23:39:16.129205Z",
     "start_time": "2024-05-28T23:39:16.124940Z"
    }
   },
   "id": "dc0d4d26ed6f1ad7",
   "execution_count": 27
  },
  {
   "cell_type": "markdown",
   "source": [
    "## Combining the data\n",
    "\n",
    "Since we'll be combing the dataframes, we'll add an institute column to each dataframe that will allow us to easily distinguish between the two."
   ],
   "metadata": {
    "collapsed": false
   },
   "id": "5ca2ef94534849bb"
  },
  {
   "cell_type": "code",
   "outputs": [],
   "source": [
    "#Add an institute column to each dataframe\n",
    "dete_resignations_up['institute'] = 'DETE'\n",
    "tafe_resignations_up['institute'] = 'TAFE'"
   ],
   "metadata": {
    "collapsed": false,
    "ExecuteTime": {
     "end_time": "2024-05-28T23:39:16.152567Z",
     "start_time": "2024-05-28T23:39:16.150215Z"
    }
   },
   "id": "bcde36e1b3c7de94",
   "execution_count": 28
  },
  {
   "cell_type": "code",
   "outputs": [
    {
     "data": {
      "text/plain": "torres_strait                                            0\nsouth_sea                                                3\naboriginal                                               7\ndisability                                               8\nnesb                                                     9\nbusiness_unit                                           32\nclassification                                         161\nregion                                                 265\nrole_start_date                                        271\ndete_start_date                                        283\nrole_service                                           290\nnone_of_the_above                                      311\nwork_life_balance                                      311\ntraumatic_incident                                     311\nill_health                                             311\nstudy/travel                                           311\nrelocation                                             311\nmaternity/family                                       311\nemployment_conditions                                  311\nworkload                                               311\nlack_of_job_security                                   311\ncareer_move_to_public_sector                           311\ncareer_move_to_private_sector                          311\ninterpersonal_conflicts                                311\nwork_location                                          311\ndissatisfaction_with_the_department                    311\nphysical_work_environment                              311\nlack_of_recognition                                    311\njob_dissatisfaction                                    311\nContributing Factors. Job Dissatisfaction              332\nContributing Factors. Travel                           332\nContributing Factors. Maternity/Family                 332\nContributing Factors. Ill Health                       332\nContributing Factors. Career Move - Self-employment    332\nContributing Factors. Career Move - Private Sector     332\nContributing Factors. Career Move - Public Sector      332\nContributing Factors. Dissatisfaction                  332\nContributing Factors. Other                            332\nContributing Factors. Interpersonal Conflict           332\nContributing Factors. NONE                             332\nContributing Factors. Study                            332\nInstitute                                              340\nWorkArea                                               340\ninstitute_service                                      563\ngender                                                 592\nage                                                    596\nemployment_status                                      597\nposition                                               598\ncease_date                                             635\ndissatisfied                                           651\nseparation_type                                        651\ninstitute                                              651\nid                                                     651\ndtype: int64"
     },
     "execution_count": 29,
     "metadata": {},
     "output_type": "execute_result"
    }
   ],
   "source": [
    "#Combine the dataframes\n",
    "combined = pd.concat([dete_resignations_up, tafe_resignations_up], ignore_index=True)\n",
    "\n",
    "#Verify the number of non null values in each column\n",
    "combined.notnull().sum().sort_values()"
   ],
   "metadata": {
    "collapsed": false,
    "ExecuteTime": {
     "end_time": "2024-05-28T23:39:16.170721Z",
     "start_time": "2024-05-28T23:39:16.163928Z"
    }
   },
   "id": "8367dc2d9a3873d7",
   "execution_count": 29
  },
  {
   "cell_type": "code",
   "outputs": [],
   "source": [
    "#Drop any columns with less than 500 non null values\n",
    "combined_updated = combined.dropna(thresh = 500, axis =1).copy()"
   ],
   "metadata": {
    "collapsed": false,
    "ExecuteTime": {
     "end_time": "2024-05-28T23:39:16.175709Z",
     "start_time": "2024-05-28T23:39:16.171892Z"
    }
   },
   "id": "5d48b2ae05d99a9c",
   "execution_count": 30
  },
  {
   "cell_type": "code",
   "outputs": [
    {
     "data": {
      "text/plain": "institute_service    563\ngender               592\nage                  596\nemployment_status    597\nposition             598\ncease_date           635\nid                   651\nseparation_type      651\ndissatisfied         651\ninstitute            651\ndtype: int64"
     },
     "execution_count": 31,
     "metadata": {},
     "output_type": "execute_result"
    }
   ],
   "source": [
    "#Check the number of non null values in each column\n",
    "combined_updated.notnull().sum().sort_values()"
   ],
   "metadata": {
    "collapsed": false,
    "ExecuteTime": {
     "end_time": "2024-05-28T23:39:16.210642Z",
     "start_time": "2024-05-28T23:39:16.206382Z"
    }
   },
   "id": "5c43f182c95b6706",
   "execution_count": 31
  },
  {
   "cell_type": "markdown",
   "source": [
    "## Clean the Service Column\n",
    "\n",
    "Next we'll clean the `institute_service` column and categorize employees according to the following definitions:\n",
    "- New: Less than 3 years in the workplace\n",
    "- Experienced: 3-6 years in the workplace\n",
    "- Established: 7-10 years in the workplace\n",
    "- Veteran: 11 or more years in the workplace\n",
    "\n",
    "Our analysis is based on this [article](https://www.businesswire.com/news/home/20171108006002/en/Age-Number-Engage-Employees-Career-Stage), which makes the argument that understanding employee's needs according to career stage instead of age is more effective."
   ],
   "metadata": {
    "collapsed": false
   },
   "id": "4f2f9b8c1c589ba5"
  },
  {
   "cell_type": "code",
   "outputs": [
    {
     "data": {
      "text/plain": "institute_service\nNaN                   88\nLess than 1 year      73\n1-2                   64\n3-4                   63\n5-6                   33\n11-20                 26\n5.0                   23\n1.0                   22\n7-10                  21\n3.0                   20\n0.0                   20\n6.0                   17\n4.0                   16\n9.0                   14\n2.0                   14\n7.0                   13\nMore than 20 years    10\n13.0                   8\n8.0                    8\n15.0                   7\n20.0                   7\n10.0                   6\n14.0                   6\n12.0                   6\n17.0                   6\n22.0                   6\n18.0                   5\n16.0                   5\n11.0                   4\n23.0                   4\n24.0                   4\n32.0                   3\n39.0                   3\n19.0                   3\n21.0                   3\n36.0                   2\n25.0                   2\n30.0                   2\n26.0                   2\n28.0                   2\n49.0                   1\n41.0                   1\n27.0                   1\n42.0                   1\n29.0                   1\n34.0                   1\n31.0                   1\n33.0                   1\n35.0                   1\n38.0                   1\nName: count, dtype: int64"
     },
     "execution_count": 32,
     "metadata": {},
     "output_type": "execute_result"
    }
   ],
   "source": [
    "#Check the unique values in the institute_service column\n",
    "combined_updated['institute_service'].value_counts(dropna=False)"
   ],
   "metadata": {
    "collapsed": false,
    "ExecuteTime": {
     "end_time": "2024-05-28T23:39:16.219475Z",
     "start_time": "2024-05-28T23:39:16.215921Z"
    }
   },
   "id": "8fce5c6694810243",
   "execution_count": 32
  },
  {
   "cell_type": "code",
   "outputs": [
    {
     "data": {
      "text/plain": "institute_service_up\n1.0     159\n3.0      83\n5.0      56\n7.0      34\n11.0     30\n0.0      20\n20.0     17\n6.0      17\n4.0      16\n9.0      14\n2.0      14\n13.0      8\n8.0       8\n15.0      7\n17.0      6\n10.0      6\n22.0      6\n14.0      6\n12.0      6\n18.0      5\n16.0      5\n24.0      4\n23.0      4\n21.0      3\n19.0      3\n39.0      3\n32.0      3\n25.0      2\n28.0      2\n26.0      2\n36.0      2\n30.0      2\n34.0      1\n27.0      1\n29.0      1\n42.0      1\n33.0      1\n41.0      1\n35.0      1\n49.0      1\n38.0      1\n31.0      1\nName: count, dtype: int64"
     },
     "execution_count": 33,
     "metadata": {},
     "output_type": "execute_result"
    }
   ],
   "source": [
    "#Extract the years of service and convert the type to float\n",
    "combined_updated['institute_service_up'] = combined_updated['institute_service'].astype('str').str.extract(r'(\\d+)')\n",
    "combined_updated['institute_service_up'] = combined_updated['institute_service_up'].astype('float')\n",
    "\n",
    "#Check if the years extracted are correct\n",
    "combined_updated['institute_service_up'].value_counts()"
   ],
   "metadata": {
    "collapsed": false,
    "ExecuteTime": {
     "end_time": "2024-05-28T23:39:16.241626Z",
     "start_time": "2024-05-28T23:39:16.236313Z"
    }
   },
   "id": "dd9396639fe6f0ca",
   "execution_count": 33
  },
  {
   "cell_type": "code",
   "outputs": [
    {
     "data": {
      "text/plain": "service_cat\nNew            193\nExperienced    172\nVeteran        136\nEstablished     62\nName: count, dtype: int64"
     },
     "execution_count": 34,
     "metadata": {},
     "output_type": "execute_result"
    }
   ],
   "source": [
    "#Convert years of service to categories\n",
    "def transform_service(val):\n",
    "    if val >= 11:\n",
    "        return \"Veteran\"\n",
    "    elif 7 <= val < 11:\n",
    "        return \"Established\"\n",
    "    elif 3 <= val < 7:\n",
    "        return \"Experienced\"\n",
    "    elif pd.isnull(val):\n",
    "        return np.nan\n",
    "    else:\n",
    "        return \"New\"\n",
    "combined_updated['service_cat'] = combined_updated['institute_service_up'].apply(transform_service)\n",
    "\n",
    "#Check the update\n",
    "combined_updated['service_cat'].value_counts()"
   ],
   "metadata": {
    "collapsed": false,
    "ExecuteTime": {
     "end_time": "2024-05-28T23:39:16.253019Z",
     "start_time": "2024-05-28T23:39:16.248762Z"
    }
   },
   "id": "f6f3bfdbed95c47c",
   "execution_count": 34
  },
  {
   "cell_type": "markdown",
   "source": [
    "## Perform some initial analysis\n",
    "\n",
    "Finally, we'll replace the missing values in the `dissatisfied` column with the most frequent value, `False`. Then, we'll calculate the percentage of employees who resigned due to dissatisfaction in each `service_cat` group and plot the results.\n",
    "\n",
    "Note that since we still have additional missing values left to deal with, this is meant to be an initial introduction to the analysis, not the final analysis."
   ],
   "metadata": {
    "collapsed": false
   },
   "id": "a7718bc7ec3a7384"
  },
  {
   "cell_type": "code",
   "outputs": [
    {
     "data": {
      "text/plain": "dissatisfied\nFalse    403\nTrue     248\nName: count, dtype: int64"
     },
     "execution_count": 35,
     "metadata": {},
     "output_type": "execute_result"
    }
   ],
   "source": [
    "#verify the unique values\n",
    "combined_updated['dissatisfied'].value_counts(dropna=False)"
   ],
   "metadata": {
    "collapsed": false,
    "ExecuteTime": {
     "end_time": "2024-05-28T23:39:16.259648Z",
     "start_time": "2024-05-28T23:39:16.256844Z"
    }
   },
   "id": "129d4047d8ed2d20",
   "execution_count": 35
  },
  {
   "cell_type": "code",
   "outputs": [],
   "source": [
    "#Replacing missing values with the most frequent value, False\n",
    "combined_updated['dissatisfied'] = combined_updated['dissatisfied'].fillna(False)"
   ],
   "metadata": {
    "collapsed": false,
    "ExecuteTime": {
     "end_time": "2024-05-28T23:39:16.277345Z",
     "start_time": "2024-05-28T23:39:16.275642Z"
    }
   },
   "id": "aaa3dbca799d09bb",
   "execution_count": 36
  },
  {
   "cell_type": "code",
   "outputs": [
    {
     "data": {
      "text/plain": "<Axes: title={'center': 'Percentage of Employees who Resigned Due to Dissatisfaction by Service Category'}, xlabel='Service Category', ylabel='Percentage'>"
     },
     "execution_count": 37,
     "metadata": {},
     "output_type": "execute_result"
    },
    {
     "data": {
      "text/plain": "<Figure size 1000x600 with 1 Axes>",
      "image/png": "[encoded data removed]"
     },
     "metadata": {},
     "output_type": "display_data"
    }
   ],
   "source": [
    "#Calculate the percentage of employees who resigned due to dissatisfaction in each category\n",
    "dis_pct = combined_updated.pivot_table(index='service_cat', values='dissatisfied')\n",
    "\n",
    "#Plot the results\n",
    "%matplotlib inline\n",
    "dis_pct.plot(kind='bar', rot=30, color='skyblue', title='Percentage of Employees who Resigned Due to Dissatisfaction by Service Category', ylabel='Percentage', xlabel='Service Category', figsize=(10,6))"
   ],
   "metadata": {
    "collapsed": false,
    "ExecuteTime": {
     "end_time": "2024-05-28T23:39:16.623195Z",
     "start_time": "2024-05-28T23:39:16.287484Z"
    }
   },
   "id": "28659e9bf804819a",
   "execution_count": 37
  },
  {
   "cell_type": "markdown",
   "source": [
    "From the initial analysis above, we can tentatively conclude that employees with 7 or more years of service are more likely to resign due to some kind of dissatisfaction with the job than employees with less than 7 years of service. However, we need to handle the rest of the missing data to finalize our analysis."
   ],
   "metadata": {
    "collapsed": false
   },
   "id": "d4f3b29d07231daa"
  }
 ],
 "metadata": {
  "kernelspec": {
   "display_name": "Python 3",
   "language": "python",
   "name": "python3"
  },
  "language_info": {
   "codemirror_mode": {
    "name": "ipython",
    "version": 2
   },
   "file_extension": ".py",
   "mimetype": "text/x-python",
   "name": "python",
   "nbconvert_exporter": "python",
   "pygments_lexer": "ipython2",
   "version": "2.7.6"
  }
 },
 "nbformat": 4,
 "nbformat_minor": 5
}
